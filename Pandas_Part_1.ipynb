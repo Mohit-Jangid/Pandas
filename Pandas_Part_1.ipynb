{
  "metadata": {
    "kernelspec": {
      "language": "python",
      "display_name": "Python 3",
      "name": "python3"
    },
    "language_info": {
      "pygments_lexer": "ipython3",
      "nbconvert_exporter": "python",
      "version": "3.6.4",
      "file_extension": ".py",
      "codemirror_mode": {
        "name": "ipython",
        "version": 3
      },
      "name": "python",
      "mimetype": "text/x-python"
    },
    "colab": {
      "name": "🐼Pandas 🛠⚒ toolkit for 👨👩Beginners Part 1 ",
      "provenance": [],
      "include_colab_link": true
    }
  },
  "nbformat_minor": 0,
  "nbformat": 4,
  "cells": [
    {
      "cell_type": "markdown",
      "metadata": {
        "id": "view-in-github",
        "colab_type": "text"
      },
      "source": [
        "<a href=\"https://colab.research.google.com/github/Mohit-Jangid/Pandas/blob/main/Pandas_Part_1.ipynb\" target=\"_parent\"><img src=\"https://colab.research.google.com/assets/colab-badge.svg\" alt=\"Open In Colab\"/></a>"
      ]
    },
    {
      "source": [
        "\n",
        "# IMPORTANT: RUN THIS CELL IN ORDER TO IMPORT YOUR KAGGLE DATA SOURCES\n",
        "# TO THE CORRECT LOCATION (/kaggle/input) IN YOUR NOTEBOOK,\n",
        "# THEN FEEL FREE TO DELETE THIS CELL.\n",
        "# NOTE: THIS NOTEBOOK ENVIRONMENT DIFFERS FROM KAGGLE'S PYTHON\n",
        "# ENVIRONMENT SO THERE MAY BE MISSING LIBRARIES USED BY YOUR\n",
        "# NOTEBOOK.\n",
        "\n",
        "import os\n",
        "import sys\n",
        "from tempfile import NamedTemporaryFile\n",
        "from urllib.request import urlopen\n",
        "from urllib.parse import unquote, urlparse\n",
        "from urllib.error import HTTPError\n",
        "from zipfile import ZipFile\n",
        "import tarfile\n",
        "import shutil\n",
        "\n",
        "CHUNK_SIZE = 40960\n",
        "DATA_SOURCE_MAPPING = 'titanic:https%3A%2F%2Fstorage.googleapis.com%2Fkaggle-competitions-data%2Fkaggle-v2%2F3136%2F26502%2Fbundle%2Farchive.zip%3FX-Goog-Algorithm%3DGOOG4-RSA-SHA256%26X-Goog-Credential%3Dgcp-kaggle-com%2540kaggle-161607.iam.gserviceaccount.com%252F20240629%252Fauto%252Fstorage%252Fgoog4_request%26X-Goog-Date%3D20240629T081602Z%26X-Goog-Expires%3D259200%26X-Goog-SignedHeaders%3Dhost%26X-Goog-Signature%3D7efcebc9efa7bfa3e47c6aa61a58a01861a66f79917d9ff0d699b5be1f0bdcd811fd0c237bb7f2142a5251ffe9a626760bd2325e350979d6b89ca65bd56e7dbfbf75bff6c7460cd7628803bcf1fd571bf469e321d7573f8e060baf7ad92bb4aaaeb489fa84ce747447c96ed6e8c3b16bf70b2bf8776a4e3c3d9ebaa2062fe16a25f411d04f756b52c27a8b44402df5bf853625c1cc65ec2257d6baa0d720c587ddf027e0ac5cb5d5f243fdba4a14c28038f0949248aef3e155e123953403979dec0250a9e73874e2278ffe7669dfbf8a69ad68341011326b2f9b00865471c4e43cfdeed12304a2123daf83bcb03a9eefadac6d3c6d056b0e660dca5c6b5b5898'\n",
        "\n",
        "KAGGLE_INPUT_PATH='/kaggle/input'\n",
        "KAGGLE_WORKING_PATH='/kaggle/working'\n",
        "KAGGLE_SYMLINK='kaggle'\n",
        "\n",
        "!umount /kaggle/input/ 2> /dev/null\n",
        "shutil.rmtree('/kaggle/input', ignore_errors=True)\n",
        "os.makedirs(KAGGLE_INPUT_PATH, 0o777, exist_ok=True)\n",
        "os.makedirs(KAGGLE_WORKING_PATH, 0o777, exist_ok=True)\n",
        "\n",
        "try:\n",
        "  os.symlink(KAGGLE_INPUT_PATH, os.path.join(\"..\", 'input'), target_is_directory=True)\n",
        "except FileExistsError:\n",
        "  pass\n",
        "try:\n",
        "  os.symlink(KAGGLE_WORKING_PATH, os.path.join(\"..\", 'working'), target_is_directory=True)\n",
        "except FileExistsError:\n",
        "  pass\n",
        "\n",
        "for data_source_mapping in DATA_SOURCE_MAPPING.split(','):\n",
        "    directory, download_url_encoded = data_source_mapping.split(':')\n",
        "    download_url = unquote(download_url_encoded)\n",
        "    filename = urlparse(download_url).path\n",
        "    destination_path = os.path.join(KAGGLE_INPUT_PATH, directory)\n",
        "    try:\n",
        "        with urlopen(download_url) as fileres, NamedTemporaryFile() as tfile:\n",
        "            total_length = fileres.headers['content-length']\n",
        "            print(f'Downloading {directory}, {total_length} bytes compressed')\n",
        "            dl = 0\n",
        "            data = fileres.read(CHUNK_SIZE)\n",
        "            while len(data) > 0:\n",
        "                dl += len(data)\n",
        "                tfile.write(data)\n",
        "                done = int(50 * dl / int(total_length))\n",
        "                sys.stdout.write(f\"\\r[{'=' * done}{' ' * (50-done)}] {dl} bytes downloaded\")\n",
        "                sys.stdout.flush()\n",
        "                data = fileres.read(CHUNK_SIZE)\n",
        "            if filename.endswith('.zip'):\n",
        "              with ZipFile(tfile) as zfile:\n",
        "                zfile.extractall(destination_path)\n",
        "            else:\n",
        "              with tarfile.open(tfile.name) as tarfile:\n",
        "                tarfile.extractall(destination_path)\n",
        "            print(f'\\nDownloaded and uncompressed: {directory}')\n",
        "    except HTTPError as e:\n",
        "        print(f'Failed to load (likely expired) {download_url} to path {destination_path}')\n",
        "        continue\n",
        "    except OSError as e:\n",
        "        print(f'Failed to load {download_url} to path {destination_path}')\n",
        "        continue\n",
        "\n",
        "print('Data source import complete.')\n"
      ],
      "metadata": {
        "id": "I_HwncQmfqWx"
      },
      "cell_type": "code",
      "outputs": [],
      "execution_count": null
    },
    {
      "cell_type": "markdown",
      "source": [
        "<div style=\"color:white;background-color:Black;padding:3%;border-radius:150px 150px;font-size:2.5em;text-align:center\">Basics Pandas toolkit Part 1</div>"
      ],
      "metadata": {
        "id": "iCTz7MhEfqW1"
      }
    },
    {
      "cell_type": "markdown",
      "source": [
        "<center>\n",
        "<img src=\"https://i1.wp.com/www.datascienceexamples.com/wp-content/uploads/2019/10/python-and-pandas.jpg?resize=800%2C286&ssl=1\" width=1200>\n",
        "</center>\n"
      ],
      "metadata": {
        "id": "mKpsJTm0fqW3"
      }
    },
    {
      "cell_type": "code",
      "source": [
        "import pandas as pd\n",
        "import matplotlib.pyplot as plt\n",
        "\n",
        "import warnings\n",
        "warnings.filterwarnings(\"ignore\")"
      ],
      "metadata": {
        "execution": {
          "iopub.status.busy": "2023-08-24T14:30:01.722486Z",
          "iopub.execute_input": "2023-08-24T14:30:01.722907Z",
          "iopub.status.idle": "2023-08-24T14:30:01.767773Z",
          "shell.execute_reply.started": "2023-08-24T14:30:01.722873Z",
          "shell.execute_reply": "2023-08-24T14:30:01.766552Z"
        },
        "trusted": true,
        "id": "Nc9KvbsxfqW4"
      },
      "execution_count": null,
      "outputs": []
    },
    {
      "cell_type": "code",
      "source": [
        "df = pd.DataFrame({\n",
        "\n",
        " \"Name\": [\"Braund, Mr. Owen Harris\",\"Allen, Mr. William Henry\",\"Bonnell, Miss. Elizabeth\"],\n",
        "\n",
        " \"Age\": [22, 35, 58],\n",
        "\n",
        " \"Sex\": [\"male\", \"male\", \"female\"]\n",
        "\n",
        "})\n",
        "\n",
        "df"
      ],
      "metadata": {
        "execution": {
          "iopub.status.busy": "2023-08-24T14:30:01.769698Z",
          "iopub.execute_input": "2023-08-24T14:30:01.770122Z",
          "iopub.status.idle": "2023-08-24T14:30:01.801489Z",
          "shell.execute_reply.started": "2023-08-24T14:30:01.770088Z",
          "shell.execute_reply": "2023-08-24T14:30:01.800553Z"
        },
        "trusted": true,
        "id": "MwSN8Y_1fqW5"
      },
      "execution_count": null,
      "outputs": []
    },
    {
      "cell_type": "code",
      "source": [
        "df[\"Age\"]"
      ],
      "metadata": {
        "execution": {
          "iopub.status.busy": "2023-08-24T14:30:01.803066Z",
          "iopub.execute_input": "2023-08-24T14:30:01.803594Z",
          "iopub.status.idle": "2023-08-24T14:30:01.811383Z",
          "shell.execute_reply.started": "2023-08-24T14:30:01.803562Z",
          "shell.execute_reply": "2023-08-24T14:30:01.810115Z"
        },
        "trusted": true,
        "id": "zT37CgldfqW6"
      },
      "execution_count": null,
      "outputs": []
    },
    {
      "cell_type": "code",
      "source": [
        "ages = pd.Series([22, 35, 58], name=\"Age\")\n",
        "ages"
      ],
      "metadata": {
        "execution": {
          "iopub.status.busy": "2023-08-24T14:30:01.844536Z",
          "iopub.execute_input": "2023-08-24T14:30:01.845388Z",
          "iopub.status.idle": "2023-08-24T14:30:01.854367Z",
          "shell.execute_reply.started": "2023-08-24T14:30:01.84534Z",
          "shell.execute_reply": "2023-08-24T14:30:01.853085Z"
        },
        "trusted": true,
        "id": "e3CmT2LtfqW6"
      },
      "execution_count": null,
      "outputs": []
    },
    {
      "cell_type": "code",
      "source": [
        "df[\"Age\"].max()"
      ],
      "metadata": {
        "execution": {
          "iopub.status.busy": "2023-08-24T14:30:01.856817Z",
          "iopub.execute_input": "2023-08-24T14:30:01.857288Z",
          "iopub.status.idle": "2023-08-24T14:30:01.87495Z",
          "shell.execute_reply.started": "2023-08-24T14:30:01.857246Z",
          "shell.execute_reply": "2023-08-24T14:30:01.873788Z"
        },
        "trusted": true,
        "id": "NcV_1lgUfqW6"
      },
      "execution_count": null,
      "outputs": []
    },
    {
      "cell_type": "code",
      "source": [
        "ages.max()"
      ],
      "metadata": {
        "execution": {
          "iopub.status.busy": "2023-08-24T14:30:01.876463Z",
          "iopub.execute_input": "2023-08-24T14:30:01.877322Z",
          "iopub.status.idle": "2023-08-24T14:30:01.895786Z",
          "shell.execute_reply.started": "2023-08-24T14:30:01.877281Z",
          "shell.execute_reply": "2023-08-24T14:30:01.894627Z"
        },
        "trusted": true,
        "id": "GtSN_FPafqW7"
      },
      "execution_count": null,
      "outputs": []
    },
    {
      "cell_type": "code",
      "source": [
        "df.describe()"
      ],
      "metadata": {
        "execution": {
          "iopub.status.busy": "2023-08-24T14:30:01.897885Z",
          "iopub.execute_input": "2023-08-24T14:30:01.900087Z",
          "iopub.status.idle": "2023-08-24T14:30:01.927848Z",
          "shell.execute_reply.started": "2023-08-24T14:30:01.900041Z",
          "shell.execute_reply": "2023-08-24T14:30:01.926402Z"
        },
        "trusted": true,
        "id": "uPt54xVGfqW8"
      },
      "execution_count": null,
      "outputs": []
    },
    {
      "cell_type": "code",
      "source": [
        "titanic = pd.read_csv(\"/kaggle/input/titanic/train.csv\")\n",
        "titanic.head()"
      ],
      "metadata": {
        "execution": {
          "iopub.status.busy": "2023-08-24T14:30:01.931228Z",
          "iopub.execute_input": "2023-08-24T14:30:01.931742Z",
          "iopub.status.idle": "2023-08-24T14:30:01.968408Z",
          "shell.execute_reply.started": "2023-08-24T14:30:01.931697Z",
          "shell.execute_reply": "2023-08-24T14:30:01.967034Z"
        },
        "trusted": true,
        "id": "HfPBoDdqfqW8"
      },
      "execution_count": null,
      "outputs": []
    },
    {
      "cell_type": "code",
      "source": [
        "titanic.dtypes"
      ],
      "metadata": {
        "execution": {
          "iopub.status.busy": "2023-08-24T14:30:01.970461Z",
          "iopub.execute_input": "2023-08-24T14:30:01.970882Z",
          "iopub.status.idle": "2023-08-24T14:30:01.980356Z",
          "shell.execute_reply.started": "2023-08-24T14:30:01.970848Z",
          "shell.execute_reply": "2023-08-24T14:30:01.979243Z"
        },
        "trusted": true,
        "id": "dfe6NOV5fqW9"
      },
      "execution_count": null,
      "outputs": []
    },
    {
      "cell_type": "code",
      "source": [
        "titanic.to_excel(\"titanic.xlsx\", sheet_name=\"passengers\", index=False)"
      ],
      "metadata": {
        "execution": {
          "iopub.status.busy": "2023-08-24T14:30:01.982324Z",
          "iopub.execute_input": "2023-08-24T14:30:01.982751Z",
          "iopub.status.idle": "2023-08-24T14:30:02.925409Z",
          "shell.execute_reply.started": "2023-08-24T14:30:01.982716Z",
          "shell.execute_reply": "2023-08-24T14:30:02.924139Z"
        },
        "trusted": true,
        "id": "VUX_N-OUfqW9"
      },
      "execution_count": null,
      "outputs": []
    },
    {
      "cell_type": "code",
      "source": [
        "titanic = pd.read_excel(\"titanic.xlsx\", sheet_name=\"passengers\")"
      ],
      "metadata": {
        "execution": {
          "iopub.status.busy": "2023-08-24T14:30:02.926904Z",
          "iopub.execute_input": "2023-08-24T14:30:02.927513Z",
          "iopub.status.idle": "2023-08-24T14:30:03.263359Z",
          "shell.execute_reply.started": "2023-08-24T14:30:02.92748Z",
          "shell.execute_reply": "2023-08-24T14:30:03.262408Z"
        },
        "trusted": true,
        "id": "e2HpsNZafqW-"
      },
      "execution_count": null,
      "outputs": []
    },
    {
      "cell_type": "code",
      "source": [
        "titanic.info()"
      ],
      "metadata": {
        "execution": {
          "iopub.status.busy": "2023-08-24T14:30:03.266434Z",
          "iopub.execute_input": "2023-08-24T14:30:03.26705Z",
          "iopub.status.idle": "2023-08-24T14:30:03.294505Z",
          "shell.execute_reply.started": "2023-08-24T14:30:03.267015Z",
          "shell.execute_reply": "2023-08-24T14:30:03.293274Z"
        },
        "trusted": true,
        "id": "y_JH8DyvfqW-"
      },
      "execution_count": null,
      "outputs": []
    },
    {
      "cell_type": "code",
      "source": [
        "ages = titanic[\"Age\"]\n",
        "ages.head()"
      ],
      "metadata": {
        "execution": {
          "iopub.status.busy": "2023-08-24T14:30:03.29588Z",
          "iopub.execute_input": "2023-08-24T14:30:03.296312Z",
          "iopub.status.idle": "2023-08-24T14:30:03.311457Z",
          "shell.execute_reply.started": "2023-08-24T14:30:03.296277Z",
          "shell.execute_reply": "2023-08-24T14:30:03.310187Z"
        },
        "trusted": true,
        "id": "36Pajy_6fqW_"
      },
      "execution_count": null,
      "outputs": []
    },
    {
      "cell_type": "code",
      "source": [
        "type(titanic[\"Age\"])"
      ],
      "metadata": {
        "execution": {
          "iopub.status.busy": "2023-08-24T14:30:03.312842Z",
          "iopub.execute_input": "2023-08-24T14:30:03.313626Z",
          "iopub.status.idle": "2023-08-24T14:30:03.327474Z",
          "shell.execute_reply.started": "2023-08-24T14:30:03.313588Z",
          "shell.execute_reply": "2023-08-24T14:30:03.326491Z"
        },
        "trusted": true,
        "id": "JGbucy-vfqW_"
      },
      "execution_count": null,
      "outputs": []
    },
    {
      "cell_type": "code",
      "source": [
        "titanic[\"Age\"].shape"
      ],
      "metadata": {
        "execution": {
          "iopub.status.busy": "2023-08-24T14:30:03.328537Z",
          "iopub.execute_input": "2023-08-24T14:30:03.32886Z",
          "iopub.status.idle": "2023-08-24T14:30:03.343411Z",
          "shell.execute_reply.started": "2023-08-24T14:30:03.328832Z",
          "shell.execute_reply": "2023-08-24T14:30:03.342262Z"
        },
        "trusted": true,
        "id": "tQDFdukZfqW_"
      },
      "execution_count": null,
      "outputs": []
    },
    {
      "cell_type": "code",
      "source": [
        "titanic[\"Age\"].shape"
      ],
      "metadata": {
        "execution": {
          "iopub.status.busy": "2023-08-24T14:30:03.344902Z",
          "iopub.execute_input": "2023-08-24T14:30:03.345254Z",
          "iopub.status.idle": "2023-08-24T14:30:03.358237Z",
          "shell.execute_reply.started": "2023-08-24T14:30:03.345224Z",
          "shell.execute_reply": "2023-08-24T14:30:03.357292Z"
        },
        "trusted": true,
        "id": "aXFP3IgZfqXA"
      },
      "execution_count": null,
      "outputs": []
    },
    {
      "cell_type": "code",
      "source": [
        "age_sex = titanic[[\"Age\", \"Sex\"]]\n",
        "age_sex.head()"
      ],
      "metadata": {
        "execution": {
          "iopub.status.busy": "2023-08-24T14:30:03.359241Z",
          "iopub.execute_input": "2023-08-24T14:30:03.359814Z",
          "iopub.status.idle": "2023-08-24T14:30:03.380263Z",
          "shell.execute_reply.started": "2023-08-24T14:30:03.359779Z",
          "shell.execute_reply": "2023-08-24T14:30:03.379023Z"
        },
        "trusted": true,
        "id": "STu0qnoSfqXA"
      },
      "execution_count": null,
      "outputs": []
    },
    {
      "cell_type": "code",
      "source": [
        "titanic[[\"Age\", \"Sex\"]].shape"
      ],
      "metadata": {
        "execution": {
          "iopub.status.busy": "2023-08-24T14:30:03.381673Z",
          "iopub.execute_input": "2023-08-24T14:30:03.382078Z",
          "iopub.status.idle": "2023-08-24T14:30:03.396775Z",
          "shell.execute_reply.started": "2023-08-24T14:30:03.38204Z",
          "shell.execute_reply": "2023-08-24T14:30:03.395845Z"
        },
        "trusted": true,
        "id": "Gy0SSUaofqXB"
      },
      "execution_count": null,
      "outputs": []
    },
    {
      "cell_type": "code",
      "source": [
        "above_35 = titanic[titanic[\"Age\"] > 35]\n",
        "above_35.head()"
      ],
      "metadata": {
        "execution": {
          "iopub.status.busy": "2023-08-24T14:30:03.397993Z",
          "iopub.execute_input": "2023-08-24T14:30:03.399075Z",
          "iopub.status.idle": "2023-08-24T14:30:03.425954Z",
          "shell.execute_reply.started": "2023-08-24T14:30:03.399025Z",
          "shell.execute_reply": "2023-08-24T14:30:03.424796Z"
        },
        "trusted": true,
        "id": "VJQ9vwsFfqXB"
      },
      "execution_count": null,
      "outputs": []
    },
    {
      "cell_type": "code",
      "source": [
        "class_23 = titanic[titanic[\"Pclass\"].isin([2, 3])]\n",
        "class_23.head()"
      ],
      "metadata": {
        "execution": {
          "iopub.status.busy": "2023-08-24T14:30:03.427233Z",
          "iopub.execute_input": "2023-08-24T14:30:03.427672Z",
          "iopub.status.idle": "2023-08-24T14:30:03.457174Z",
          "shell.execute_reply.started": "2023-08-24T14:30:03.42763Z",
          "shell.execute_reply": "2023-08-24T14:30:03.455996Z"
        },
        "trusted": true,
        "id": "-mZYxJ8JfqXB"
      },
      "execution_count": null,
      "outputs": []
    },
    {
      "cell_type": "code",
      "source": [
        "class_23 = titanic[(titanic[\"Pclass\"] == 2) | (titanic[\"Pclass\"] == 3)]\n",
        "class_23.head()"
      ],
      "metadata": {
        "execution": {
          "iopub.status.busy": "2023-08-24T14:30:03.45844Z",
          "iopub.execute_input": "2023-08-24T14:30:03.458872Z",
          "iopub.status.idle": "2023-08-24T14:30:03.483786Z",
          "shell.execute_reply.started": "2023-08-24T14:30:03.458831Z",
          "shell.execute_reply": "2023-08-24T14:30:03.482537Z"
        },
        "trusted": true,
        "id": "MmFJsCU2fqXB"
      },
      "execution_count": null,
      "outputs": []
    },
    {
      "cell_type": "code",
      "source": [
        "age_no_na = titanic[titanic[\"Age\"].notna()]\n",
        "age_no_na.head()"
      ],
      "metadata": {
        "execution": {
          "iopub.status.busy": "2023-08-24T14:30:03.485622Z",
          "iopub.execute_input": "2023-08-24T14:30:03.486124Z",
          "iopub.status.idle": "2023-08-24T14:30:03.509505Z",
          "shell.execute_reply.started": "2023-08-24T14:30:03.486079Z",
          "shell.execute_reply": "2023-08-24T14:30:03.508243Z"
        },
        "trusted": true,
        "id": "8Lq_xdLTfqXC"
      },
      "execution_count": null,
      "outputs": []
    },
    {
      "cell_type": "code",
      "source": [
        "adult_names = titanic.loc[titanic[\"Age\"] > 35]\n",
        "adult_names.head()"
      ],
      "metadata": {
        "execution": {
          "iopub.status.busy": "2023-08-24T14:30:03.516675Z",
          "iopub.execute_input": "2023-08-24T14:30:03.517113Z",
          "iopub.status.idle": "2023-08-24T14:30:03.537067Z",
          "shell.execute_reply.started": "2023-08-24T14:30:03.517076Z",
          "shell.execute_reply": "2023-08-24T14:30:03.535737Z"
        },
        "trusted": true,
        "id": "tFyLknE8fqXC"
      },
      "execution_count": null,
      "outputs": []
    },
    {
      "cell_type": "code",
      "source": [
        "adult_names = titanic.loc[titanic[\"Age\"] > 35, \"Name\"]\n",
        "adult_names.head()"
      ],
      "metadata": {
        "execution": {
          "iopub.status.busy": "2023-08-24T14:30:03.538581Z",
          "iopub.execute_input": "2023-08-24T14:30:03.539019Z",
          "iopub.status.idle": "2023-08-24T14:30:03.553432Z",
          "shell.execute_reply.started": "2023-08-24T14:30:03.538962Z",
          "shell.execute_reply": "2023-08-24T14:30:03.552283Z"
        },
        "trusted": true,
        "id": "LN6M9lFefqXC"
      },
      "execution_count": null,
      "outputs": []
    },
    {
      "cell_type": "code",
      "source": [
        "titanic.iloc[9:25, 2:5]"
      ],
      "metadata": {
        "execution": {
          "iopub.status.busy": "2023-08-24T14:30:03.555089Z",
          "iopub.execute_input": "2023-08-24T14:30:03.555725Z",
          "iopub.status.idle": "2023-08-24T14:30:03.573513Z",
          "shell.execute_reply.started": "2023-08-24T14:30:03.55568Z",
          "shell.execute_reply": "2023-08-24T14:30:03.572384Z"
        },
        "trusted": true,
        "id": "3Mx3RN8LfqXD"
      },
      "execution_count": null,
      "outputs": []
    },
    {
      "cell_type": "code",
      "source": [
        "anon = titanic.iloc[0:3, 3] = \"anonymous\"\n",
        "anon"
      ],
      "metadata": {
        "execution": {
          "iopub.status.busy": "2023-08-24T14:30:03.575261Z",
          "iopub.execute_input": "2023-08-24T14:30:03.575682Z",
          "iopub.status.idle": "2023-08-24T14:30:03.589254Z",
          "shell.execute_reply.started": "2023-08-24T14:30:03.575633Z",
          "shell.execute_reply": "2023-08-24T14:30:03.588209Z"
        },
        "trusted": true,
        "id": "qpO54WadfqXD"
      },
      "execution_count": null,
      "outputs": []
    },
    {
      "cell_type": "code",
      "source": [
        "titanic.head()"
      ],
      "metadata": {
        "execution": {
          "iopub.status.busy": "2023-08-24T14:30:03.590677Z",
          "iopub.execute_input": "2023-08-24T14:30:03.591073Z",
          "iopub.status.idle": "2023-08-24T14:30:03.61608Z",
          "shell.execute_reply.started": "2023-08-24T14:30:03.591033Z",
          "shell.execute_reply": "2023-08-24T14:30:03.615096Z"
        },
        "trusted": true,
        "id": "8EICOY4hfqXD"
      },
      "execution_count": null,
      "outputs": []
    },
    {
      "cell_type": "code",
      "source": [
        "titanic[\"Age\"].mean()"
      ],
      "metadata": {
        "execution": {
          "iopub.status.busy": "2023-08-24T14:30:03.617501Z",
          "iopub.execute_input": "2023-08-24T14:30:03.618593Z",
          "iopub.status.idle": "2023-08-24T14:30:03.627668Z",
          "shell.execute_reply.started": "2023-08-24T14:30:03.618545Z",
          "shell.execute_reply": "2023-08-24T14:30:03.62642Z"
        },
        "trusted": true,
        "id": "axHKou-zfqXD"
      },
      "execution_count": null,
      "outputs": []
    },
    {
      "cell_type": "code",
      "source": [
        "titanic[[\"Age\", \"Fare\"]].median()"
      ],
      "metadata": {
        "execution": {
          "iopub.status.busy": "2023-08-24T14:30:03.628986Z",
          "iopub.execute_input": "2023-08-24T14:30:03.630063Z",
          "iopub.status.idle": "2023-08-24T14:30:03.649503Z",
          "shell.execute_reply.started": "2023-08-24T14:30:03.63001Z",
          "shell.execute_reply": "2023-08-24T14:30:03.648362Z"
        },
        "trusted": true,
        "id": "IAjX8MBofqXE"
      },
      "execution_count": null,
      "outputs": []
    },
    {
      "cell_type": "code",
      "source": [
        "titanic[[\"Age\", \"Fare\"]].describe()"
      ],
      "metadata": {
        "execution": {
          "iopub.status.busy": "2023-08-24T14:30:03.651028Z",
          "iopub.execute_input": "2023-08-24T14:30:03.652516Z",
          "iopub.status.idle": "2023-08-24T14:30:03.674854Z",
          "shell.execute_reply.started": "2023-08-24T14:30:03.652472Z",
          "shell.execute_reply": "2023-08-24T14:30:03.673737Z"
        },
        "trusted": true,
        "id": "MoJysc-MfqXF"
      },
      "execution_count": null,
      "outputs": []
    },
    {
      "cell_type": "code",
      "source": [
        "titanic.agg({\n",
        "\n",
        "\"Age\": [\"min\", \"max\", \"median\", \"skew\"],\n",
        "\"Fare\": [\"min\", \"max\", \"median\", \"mean\"]\n",
        "\n",
        "})"
      ],
      "metadata": {
        "execution": {
          "iopub.status.busy": "2023-08-24T14:30:03.676566Z",
          "iopub.execute_input": "2023-08-24T14:30:03.677149Z",
          "iopub.status.idle": "2023-08-24T14:30:03.699054Z",
          "shell.execute_reply.started": "2023-08-24T14:30:03.677103Z",
          "shell.execute_reply": "2023-08-24T14:30:03.697952Z"
        },
        "trusted": true,
        "id": "kij46DOPfqXG"
      },
      "execution_count": null,
      "outputs": []
    },
    {
      "cell_type": "code",
      "source": [
        "titanic[[\"Sex\", \"Age\"]].groupby(\"Sex\").mean()"
      ],
      "metadata": {
        "execution": {
          "iopub.status.busy": "2023-08-24T14:30:03.701113Z",
          "iopub.execute_input": "2023-08-24T14:30:03.701515Z",
          "iopub.status.idle": "2023-08-24T14:30:03.718489Z",
          "shell.execute_reply.started": "2023-08-24T14:30:03.701484Z",
          "shell.execute_reply": "2023-08-24T14:30:03.717338Z"
        },
        "trusted": true,
        "id": "ao3IBT2NfqXG"
      },
      "execution_count": null,
      "outputs": []
    },
    {
      "cell_type": "code",
      "source": [
        "titanic[[\"Sex\", \"Age\"]].groupby(\"Sex\").max()"
      ],
      "metadata": {
        "execution": {
          "iopub.status.busy": "2023-08-24T14:30:03.720559Z",
          "iopub.execute_input": "2023-08-24T14:30:03.721442Z",
          "iopub.status.idle": "2023-08-24T14:30:03.7472Z",
          "shell.execute_reply.started": "2023-08-24T14:30:03.721399Z",
          "shell.execute_reply": "2023-08-24T14:30:03.745623Z"
        },
        "trusted": true,
        "id": "mYzsG1vDfqXG"
      },
      "execution_count": null,
      "outputs": []
    },
    {
      "cell_type": "code",
      "source": [
        "titanic[[\"Sex\", \"Age\"]].groupby(\"Sex\").first()"
      ],
      "metadata": {
        "execution": {
          "iopub.status.busy": "2023-08-24T14:30:03.749102Z",
          "iopub.execute_input": "2023-08-24T14:30:03.750148Z",
          "iopub.status.idle": "2023-08-24T14:30:03.773252Z",
          "shell.execute_reply.started": "2023-08-24T14:30:03.7501Z",
          "shell.execute_reply": "2023-08-24T14:30:03.771851Z"
        },
        "trusted": true,
        "id": "sqp3wnmRfqXH"
      },
      "execution_count": null,
      "outputs": []
    },
    {
      "cell_type": "code",
      "source": [
        "titanic.head(2)"
      ],
      "metadata": {
        "execution": {
          "iopub.status.busy": "2023-08-24T14:30:03.775017Z",
          "iopub.execute_input": "2023-08-24T14:30:03.776313Z",
          "iopub.status.idle": "2023-08-24T14:30:03.796977Z",
          "shell.execute_reply.started": "2023-08-24T14:30:03.776262Z",
          "shell.execute_reply": "2023-08-24T14:30:03.796042Z"
        },
        "trusted": true,
        "id": "gzHRKPlXfqXH"
      },
      "execution_count": null,
      "outputs": []
    },
    {
      "cell_type": "code",
      "source": [
        "titanic.groupby(\"Sex\")[\"Age\"].mean()"
      ],
      "metadata": {
        "execution": {
          "iopub.status.busy": "2023-08-24T14:30:03.798454Z",
          "iopub.execute_input": "2023-08-24T14:30:03.79923Z",
          "iopub.status.idle": "2023-08-24T14:30:03.816962Z",
          "shell.execute_reply.started": "2023-08-24T14:30:03.799193Z",
          "shell.execute_reply": "2023-08-24T14:30:03.816093Z"
        },
        "trusted": true,
        "id": "U3bun6bEfqXH"
      },
      "execution_count": null,
      "outputs": []
    },
    {
      "cell_type": "code",
      "source": [
        "titanic.groupby([\"Sex\", \"Pclass\"])[\"Fare\"].mean()"
      ],
      "metadata": {
        "execution": {
          "iopub.status.busy": "2023-08-24T14:30:03.818396Z",
          "iopub.execute_input": "2023-08-24T14:30:03.819288Z",
          "iopub.status.idle": "2023-08-24T14:30:03.841368Z",
          "shell.execute_reply.started": "2023-08-24T14:30:03.819248Z",
          "shell.execute_reply": "2023-08-24T14:30:03.839969Z"
        },
        "trusted": true,
        "id": "lVCd7HJWfqXI"
      },
      "execution_count": null,
      "outputs": []
    },
    {
      "cell_type": "code",
      "source": [
        "titanic[\"Pclass\"].value_counts()"
      ],
      "metadata": {
        "execution": {
          "iopub.status.busy": "2023-08-24T14:30:03.843224Z",
          "iopub.execute_input": "2023-08-24T14:30:03.844173Z",
          "iopub.status.idle": "2023-08-24T14:30:03.853393Z",
          "shell.execute_reply.started": "2023-08-24T14:30:03.844121Z",
          "shell.execute_reply": "2023-08-24T14:30:03.852301Z"
        },
        "trusted": true,
        "id": "WezU4XlMfqXI"
      },
      "execution_count": null,
      "outputs": []
    },
    {
      "cell_type": "code",
      "source": [
        "titanic.groupby(\"Pclass\")[\"Pclass\"].count()"
      ],
      "metadata": {
        "execution": {
          "iopub.status.busy": "2023-08-24T14:30:03.854993Z",
          "iopub.execute_input": "2023-08-24T14:30:03.855633Z",
          "iopub.status.idle": "2023-08-24T14:30:03.870722Z",
          "shell.execute_reply.started": "2023-08-24T14:30:03.855597Z",
          "shell.execute_reply": "2023-08-24T14:30:03.869492Z"
        },
        "trusted": true,
        "id": "XGTvF4BWfqXJ"
      },
      "execution_count": null,
      "outputs": []
    },
    {
      "cell_type": "code",
      "source": [
        "titanic.sort_values(by=\"Age\",ascending=False).head()"
      ],
      "metadata": {
        "execution": {
          "iopub.status.busy": "2023-08-24T14:30:03.872684Z",
          "iopub.execute_input": "2023-08-24T14:30:03.87353Z",
          "iopub.status.idle": "2023-08-24T14:30:03.898853Z",
          "shell.execute_reply.started": "2023-08-24T14:30:03.873482Z",
          "shell.execute_reply": "2023-08-24T14:30:03.897427Z"
        },
        "trusted": true,
        "id": "PnNpla77fqXJ"
      },
      "execution_count": null,
      "outputs": []
    },
    {
      "cell_type": "code",
      "source": [
        "titanic.sort_values(by=['Pclass', 'Age'], ascending=False).head()"
      ],
      "metadata": {
        "execution": {
          "iopub.status.busy": "2023-08-24T14:30:03.900764Z",
          "iopub.execute_input": "2023-08-24T14:30:03.901552Z",
          "iopub.status.idle": "2023-08-24T14:30:03.925511Z",
          "shell.execute_reply.started": "2023-08-24T14:30:03.901504Z",
          "shell.execute_reply": "2023-08-24T14:30:03.924171Z"
        },
        "trusted": true,
        "id": "WBgzgWPKfqXK"
      },
      "execution_count": null,
      "outputs": []
    },
    {
      "cell_type": "code",
      "source": [
        "titanic.dtypes"
      ],
      "metadata": {
        "execution": {
          "iopub.status.busy": "2023-08-24T14:30:03.92724Z",
          "iopub.execute_input": "2023-08-24T14:30:03.927727Z",
          "iopub.status.idle": "2023-08-24T14:30:03.938097Z",
          "shell.execute_reply.started": "2023-08-24T14:30:03.927682Z",
          "shell.execute_reply": "2023-08-24T14:30:03.936752Z"
        },
        "trusted": true,
        "id": "PbgBAvDTfqXK"
      },
      "execution_count": null,
      "outputs": []
    },
    {
      "cell_type": "code",
      "source": [
        "titanic[\"Name\"].str.lower()"
      ],
      "metadata": {
        "execution": {
          "iopub.status.busy": "2023-08-24T14:30:03.940022Z",
          "iopub.execute_input": "2023-08-24T14:30:03.941159Z",
          "iopub.status.idle": "2023-08-24T14:30:03.958705Z",
          "shell.execute_reply.started": "2023-08-24T14:30:03.941109Z",
          "shell.execute_reply": "2023-08-24T14:30:03.957354Z"
        },
        "trusted": true,
        "id": "tc0PmsvnfqXK"
      },
      "execution_count": null,
      "outputs": []
    },
    {
      "cell_type": "code",
      "source": [
        "titanic[\"Name\"].str.split(\",\")"
      ],
      "metadata": {
        "execution": {
          "iopub.status.busy": "2023-08-24T14:30:03.960761Z",
          "iopub.execute_input": "2023-08-24T14:30:03.962386Z",
          "iopub.status.idle": "2023-08-24T14:30:03.982271Z",
          "shell.execute_reply.started": "2023-08-24T14:30:03.962331Z",
          "shell.execute_reply": "2023-08-24T14:30:03.98094Z"
        },
        "trusted": true,
        "id": "XY_R1UEffqXL"
      },
      "execution_count": null,
      "outputs": []
    },
    {
      "cell_type": "code",
      "source": [
        "titanic[\"Surname\"] = titanic[\"Name\"].str.split(\",\").str.get(0)\n",
        "titanic[\"Surname\"]"
      ],
      "metadata": {
        "execution": {
          "iopub.status.busy": "2023-08-24T14:30:03.983773Z",
          "iopub.execute_input": "2023-08-24T14:30:03.984192Z",
          "iopub.status.idle": "2023-08-24T14:30:04.00197Z",
          "shell.execute_reply.started": "2023-08-24T14:30:03.984155Z",
          "shell.execute_reply": "2023-08-24T14:30:04.001072Z"
        },
        "trusted": true,
        "id": "NznTfOjQfqXL"
      },
      "execution_count": null,
      "outputs": []
    },
    {
      "cell_type": "code",
      "source": [
        "titanic[\"Name_main\"] = titanic[\"Name\"].str.split(\",\").str.get(1)\n",
        "titanic[\"Name_main\"]"
      ],
      "metadata": {
        "execution": {
          "iopub.status.busy": "2023-08-24T14:30:04.003339Z",
          "iopub.execute_input": "2023-08-24T14:30:04.003982Z",
          "iopub.status.idle": "2023-08-24T14:30:04.024223Z",
          "shell.execute_reply.started": "2023-08-24T14:30:04.003942Z",
          "shell.execute_reply": "2023-08-24T14:30:04.022841Z"
        },
        "trusted": true,
        "id": "82mqBVNjfqXL"
      },
      "execution_count": null,
      "outputs": []
    },
    {
      "cell_type": "code",
      "source": [
        "titanic[\"Name\"].str.split(\",\")"
      ],
      "metadata": {
        "scrolled": true,
        "execution": {
          "iopub.status.busy": "2023-08-24T14:30:04.02578Z",
          "iopub.execute_input": "2023-08-24T14:30:04.026166Z",
          "iopub.status.idle": "2023-08-24T14:30:04.045966Z",
          "shell.execute_reply.started": "2023-08-24T14:30:04.026133Z",
          "shell.execute_reply": "2023-08-24T14:30:04.044619Z"
        },
        "trusted": true,
        "id": "DSpFET2IfqXM"
      },
      "execution_count": null,
      "outputs": []
    },
    {
      "cell_type": "code",
      "source": [
        "titanic['Real_Name'] = titanic[\"Name\"].str.split(\",\").str.get(0)\n",
        "titanic.head()"
      ],
      "metadata": {
        "execution": {
          "iopub.status.busy": "2023-08-24T14:30:04.047611Z",
          "iopub.execute_input": "2023-08-24T14:30:04.048265Z",
          "iopub.status.idle": "2023-08-24T14:30:04.0803Z",
          "shell.execute_reply.started": "2023-08-24T14:30:04.04822Z",
          "shell.execute_reply": "2023-08-24T14:30:04.079058Z"
        },
        "trusted": true,
        "id": "LUKgZC-hfqXM"
      },
      "execution_count": null,
      "outputs": []
    },
    {
      "cell_type": "code",
      "source": [
        "titanic['Surname'] = titanic[\"Name\"].str.split(\",\").str.get(1)\n",
        "titanic.head()"
      ],
      "metadata": {
        "execution": {
          "iopub.status.busy": "2023-08-24T14:30:04.082109Z",
          "iopub.execute_input": "2023-08-24T14:30:04.082495Z",
          "iopub.status.idle": "2023-08-24T14:30:04.112259Z",
          "shell.execute_reply.started": "2023-08-24T14:30:04.082461Z",
          "shell.execute_reply": "2023-08-24T14:30:04.111083Z"
        },
        "trusted": true,
        "id": "ge5mWywQfqXN"
      },
      "execution_count": null,
      "outputs": []
    },
    {
      "cell_type": "code",
      "source": [
        "titanic['Salutation'] = titanic['Surname'].str.split(\".\").str.get(0)\n",
        "titanic.head()"
      ],
      "metadata": {
        "scrolled": true,
        "execution": {
          "iopub.status.busy": "2023-08-24T14:30:04.114036Z",
          "iopub.execute_input": "2023-08-24T14:30:04.114724Z",
          "iopub.status.idle": "2023-08-24T14:30:04.141782Z",
          "shell.execute_reply.started": "2023-08-24T14:30:04.114683Z",
          "shell.execute_reply": "2023-08-24T14:30:04.140546Z"
        },
        "trusted": true,
        "id": "rZei0kRxfqXN"
      },
      "execution_count": null,
      "outputs": []
    },
    {
      "cell_type": "code",
      "source": [
        "titanic[\"Name\"].str.contains(\"Mr\")"
      ],
      "metadata": {
        "execution": {
          "iopub.status.busy": "2023-08-24T14:30:04.143542Z",
          "iopub.execute_input": "2023-08-24T14:30:04.14403Z",
          "iopub.status.idle": "2023-08-24T14:30:04.161542Z",
          "shell.execute_reply.started": "2023-08-24T14:30:04.143969Z",
          "shell.execute_reply": "2023-08-24T14:30:04.160482Z"
        },
        "trusted": true,
        "id": "nZOXjjDEfqXO"
      },
      "execution_count": null,
      "outputs": []
    },
    {
      "cell_type": "code",
      "source": [
        "titanic[titanic[\"Name\"].str.contains(\"Countess\")]"
      ],
      "metadata": {
        "execution": {
          "iopub.status.busy": "2023-08-24T14:30:04.162852Z",
          "iopub.execute_input": "2023-08-24T14:30:04.163204Z",
          "iopub.status.idle": "2023-08-24T14:30:04.19079Z",
          "shell.execute_reply.started": "2023-08-24T14:30:04.163173Z",
          "shell.execute_reply": "2023-08-24T14:30:04.189067Z"
        },
        "trusted": true,
        "id": "vIQcvn1VfqXP"
      },
      "execution_count": null,
      "outputs": []
    },
    {
      "cell_type": "code",
      "source": [
        "titanic[\"Name\"].str.len()"
      ],
      "metadata": {
        "execution": {
          "iopub.status.busy": "2023-08-24T14:30:04.192722Z",
          "iopub.execute_input": "2023-08-24T14:30:04.193451Z",
          "iopub.status.idle": "2023-08-24T14:30:04.206605Z",
          "shell.execute_reply.started": "2023-08-24T14:30:04.193412Z",
          "shell.execute_reply": "2023-08-24T14:30:04.20508Z"
        },
        "trusted": true,
        "id": "5D0-8Xy2fqXP"
      },
      "execution_count": null,
      "outputs": []
    },
    {
      "cell_type": "code",
      "source": [
        "titanic[\"Name\"].str.len().idxmax()"
      ],
      "metadata": {
        "execution": {
          "iopub.status.busy": "2023-08-24T14:30:04.208614Z",
          "iopub.execute_input": "2023-08-24T14:30:04.209137Z",
          "iopub.status.idle": "2023-08-24T14:30:04.220994Z",
          "shell.execute_reply.started": "2023-08-24T14:30:04.20909Z",
          "shell.execute_reply": "2023-08-24T14:30:04.220088Z"
        },
        "trusted": true,
        "id": "9gEKSg-lfqXP"
      },
      "execution_count": null,
      "outputs": []
    },
    {
      "cell_type": "code",
      "source": [
        "titanic.loc[titanic[\"Name\"].str.len().idxmax(), \"Name\"]"
      ],
      "metadata": {
        "execution": {
          "iopub.status.busy": "2023-08-24T14:30:04.222486Z",
          "iopub.execute_input": "2023-08-24T14:30:04.223529Z",
          "iopub.status.idle": "2023-08-24T14:30:04.237782Z",
          "shell.execute_reply.started": "2023-08-24T14:30:04.223493Z",
          "shell.execute_reply": "2023-08-24T14:30:04.236835Z"
        },
        "trusted": true,
        "id": "aRHi11kWfqXQ"
      },
      "execution_count": null,
      "outputs": []
    },
    {
      "cell_type": "code",
      "source": [
        "titanic.loc[titanic[\"Name\"].str.len().idxmin(), \"Name\"]"
      ],
      "metadata": {
        "execution": {
          "iopub.status.busy": "2023-08-24T14:30:04.2523Z",
          "iopub.execute_input": "2023-08-24T14:30:04.25269Z",
          "iopub.status.idle": "2023-08-24T14:30:04.262485Z",
          "shell.execute_reply.started": "2023-08-24T14:30:04.25266Z",
          "shell.execute_reply": "2023-08-24T14:30:04.261224Z"
        },
        "trusted": true,
        "id": "JmOZplJIfqXQ"
      },
      "execution_count": null,
      "outputs": []
    },
    {
      "cell_type": "code",
      "source": [
        "titanic[\"Sex_short\"] = titanic[\"Sex\"].replace({\"male\": \"M\", \"female\": \"F\"})\n",
        "titanic[\"Sex_short\"]"
      ],
      "metadata": {
        "execution": {
          "iopub.status.busy": "2023-08-24T14:30:04.264024Z",
          "iopub.execute_input": "2023-08-24T14:30:04.264436Z",
          "iopub.status.idle": "2023-08-24T14:30:04.28231Z",
          "shell.execute_reply.started": "2023-08-24T14:30:04.264401Z",
          "shell.execute_reply": "2023-08-24T14:30:04.280913Z"
        },
        "trusted": true,
        "id": "dl9lih5OfqXR"
      },
      "execution_count": null,
      "outputs": []
    },
    {
      "cell_type": "code",
      "source": [
        "titanic[\"Sex_short\"] = titanic[\"Sex\"].str.replace(\"female\", \"F\")\n",
        "titanic[\"Sex_short\"] = titanic[\"Sex_short\"].str.replace(\"male\", \"M\")"
      ],
      "metadata": {
        "execution": {
          "iopub.status.busy": "2023-08-24T14:30:04.284334Z",
          "iopub.execute_input": "2023-08-24T14:30:04.285304Z",
          "iopub.status.idle": "2023-08-24T14:30:04.297112Z",
          "shell.execute_reply.started": "2023-08-24T14:30:04.285253Z",
          "shell.execute_reply": "2023-08-24T14:30:04.296128Z"
        },
        "trusted": true,
        "id": "Hm7JWIvcfqXR"
      },
      "execution_count": null,
      "outputs": []
    },
    {
      "cell_type": "code",
      "source": [
        "import numpy as np\n",
        "df = pd.DataFrame(np.random.randn(10, 3), columns=list(\"abc\"))\n",
        "df[[\"a\", \"c\",\"b\"]]"
      ],
      "metadata": {
        "execution": {
          "iopub.status.busy": "2023-08-24T14:30:04.298642Z",
          "iopub.execute_input": "2023-08-24T14:30:04.299844Z",
          "iopub.status.idle": "2023-08-24T14:30:04.320934Z",
          "shell.execute_reply.started": "2023-08-24T14:30:04.29979Z",
          "shell.execute_reply": "2023-08-24T14:30:04.319414Z"
        },
        "trusted": true,
        "id": "OcFQiIY_fqXR"
      },
      "execution_count": null,
      "outputs": []
    },
    {
      "cell_type": "code",
      "source": [
        "df.loc[:, [\"a\", \"c\"]]"
      ],
      "metadata": {
        "execution": {
          "iopub.status.busy": "2023-08-24T14:30:04.322596Z",
          "iopub.execute_input": "2023-08-24T14:30:04.323576Z",
          "iopub.status.idle": "2023-08-24T14:30:04.338951Z",
          "shell.execute_reply.started": "2023-08-24T14:30:04.32352Z",
          "shell.execute_reply": "2023-08-24T14:30:04.337623Z"
        },
        "trusted": true,
        "id": "TyJlvrrwfqXS"
      },
      "execution_count": null,
      "outputs": []
    },
    {
      "cell_type": "markdown",
      "source": [
        "<font color=\"Red\" size=+2 face=\"Comic Sans MS\">Good Code</font>"
      ],
      "metadata": {
        "id": "FwRgVXQ2fqXT"
      }
    },
    {
      "cell_type": "code",
      "source": [
        "named = list(\"abcdefg\")\n",
        "n = 30\n",
        "columns = named + np.arange(len(named), n).tolist()\n",
        "df = pd.DataFrame(np.random.randn(n, n), columns=columns)\n",
        "df.iloc[:, np.r_[:10, 24:30]]"
      ],
      "metadata": {
        "execution": {
          "iopub.status.busy": "2023-08-24T14:30:04.340566Z",
          "iopub.execute_input": "2023-08-24T14:30:04.341358Z",
          "iopub.status.idle": "2023-08-24T14:30:04.38743Z",
          "shell.execute_reply.started": "2023-08-24T14:30:04.341315Z",
          "shell.execute_reply": "2023-08-24T14:30:04.38608Z"
        },
        "trusted": true,
        "id": "BlzV3oBgfqXT"
      },
      "execution_count": null,
      "outputs": []
    },
    {
      "cell_type": "code",
      "source": [
        "df = pd.DataFrame({\n",
        "\n",
        "\"v1\": [1, 3, 5, 7, 8, 3, 5, np.nan, 4, 5, 7, 9],\n",
        "\"v2\": [11, 33, 55, 77, 88, 33, 55, np.nan, 44, 55, 77, 99],\n",
        "\"by1\": [\"red\", \"blue\", 1, 2, np.nan, \"big\", 1, 2, \"red\", 1, np.nan, 12],\n",
        "\"by2\": [\"wet\",\"dry\",99,95,np.nan,\"damp\",95,99,\"red\",99,np.nan,np.nan,]\n",
        "\n",
        "})\n",
        "\n",
        "df"
      ],
      "metadata": {
        "execution": {
          "iopub.status.busy": "2023-08-24T14:30:04.389271Z",
          "iopub.execute_input": "2023-08-24T14:30:04.390538Z",
          "iopub.status.idle": "2023-08-24T14:30:04.414565Z",
          "shell.execute_reply.started": "2023-08-24T14:30:04.390455Z",
          "shell.execute_reply": "2023-08-24T14:30:04.413388Z"
        },
        "trusted": true,
        "id": "HhBlgVznfqXU"
      },
      "execution_count": null,
      "outputs": []
    },
    {
      "cell_type": "code",
      "source": [
        "g = df.groupby([\"by1\", \"by2\"])\n",
        "g[[\"v1\", \"v2\"]].mean()"
      ],
      "metadata": {
        "execution": {
          "iopub.status.busy": "2023-08-24T14:30:04.415969Z",
          "iopub.execute_input": "2023-08-24T14:30:04.416957Z",
          "iopub.status.idle": "2023-08-24T14:30:04.442291Z",
          "shell.execute_reply.started": "2023-08-24T14:30:04.416921Z",
          "shell.execute_reply": "2023-08-24T14:30:04.441082Z"
        },
        "trusted": true,
        "id": "imfBy-_TfqXU"
      },
      "execution_count": null,
      "outputs": []
    },
    {
      "cell_type": "code",
      "source": [
        "import numpy as np\n",
        "s = pd.Series(np.arange(5), dtype=np.float32)\n",
        "s"
      ],
      "metadata": {
        "execution": {
          "iopub.status.busy": "2023-08-24T14:30:04.444219Z",
          "iopub.execute_input": "2023-08-24T14:30:04.444821Z",
          "iopub.status.idle": "2023-08-24T14:30:04.45975Z",
          "shell.execute_reply.started": "2023-08-24T14:30:04.444777Z",
          "shell.execute_reply": "2023-08-24T14:30:04.458337Z"
        },
        "trusted": true,
        "id": "b4ltH1sefqXV"
      },
      "execution_count": null,
      "outputs": []
    },
    {
      "cell_type": "code",
      "source": [
        "s.isin([2, 4])"
      ],
      "metadata": {
        "execution": {
          "iopub.status.busy": "2023-08-24T14:30:04.461469Z",
          "iopub.execute_input": "2023-08-24T14:30:04.462374Z",
          "iopub.status.idle": "2023-08-24T14:30:04.474027Z",
          "shell.execute_reply.started": "2023-08-24T14:30:04.462332Z",
          "shell.execute_reply": "2023-08-24T14:30:04.472826Z"
        },
        "trusted": true,
        "id": "nnctBa9OfqXV"
      },
      "execution_count": null,
      "outputs": []
    },
    {
      "cell_type": "markdown",
      "source": [
        "<font color=\"Red\" size=+2 face=\"Comic Sans MS\">Data generation code</font>"
      ],
      "metadata": {
        "id": "7eHvKosWfqXW"
      }
    },
    {
      "cell_type": "code",
      "source": [
        "# Data genetarion code\n",
        "\n",
        "import random\n",
        "import string\n",
        "\n",
        "baseball = pd.DataFrame({\n",
        "\"team\": [\"team %d\" % (x + 1) for x in range(5)] * 5,\n",
        "\"player\": random.sample(list(string.ascii_lowercase), 25),\n",
        "\"batting avg\": np.random.uniform(0.200, 0.400, 25),\n",
        "    }\n",
        ")\n",
        "\n",
        "baseball"
      ],
      "metadata": {
        "execution": {
          "iopub.status.busy": "2023-08-24T14:30:04.475887Z",
          "iopub.execute_input": "2023-08-24T14:30:04.479604Z",
          "iopub.status.idle": "2023-08-24T14:30:04.498513Z",
          "shell.execute_reply.started": "2023-08-24T14:30:04.47953Z",
          "shell.execute_reply": "2023-08-24T14:30:04.497291Z"
        },
        "trusted": true,
        "id": "fE33c2nnfqXX"
      },
      "execution_count": null,
      "outputs": []
    },
    {
      "cell_type": "code",
      "source": [
        "baseball.pivot_table(values=\"batting avg\", columns=\"team\", aggfunc=np.max)"
      ],
      "metadata": {
        "execution": {
          "iopub.status.busy": "2023-08-24T14:30:04.50059Z",
          "iopub.execute_input": "2023-08-24T14:30:04.501078Z",
          "iopub.status.idle": "2023-08-24T14:30:04.526934Z",
          "shell.execute_reply.started": "2023-08-24T14:30:04.501034Z",
          "shell.execute_reply": "2023-08-24T14:30:04.525781Z"
        },
        "trusted": true,
        "id": "A65Ezy_8fqXX"
      },
      "execution_count": null,
      "outputs": []
    },
    {
      "cell_type": "code",
      "source": [
        "df = pd.DataFrame({\"a\": np.random.randn(10), \"b\": np.random.randn(10)})\n",
        "df.head()"
      ],
      "metadata": {
        "execution": {
          "iopub.status.busy": "2023-08-24T14:30:04.528263Z",
          "iopub.execute_input": "2023-08-24T14:30:04.528694Z",
          "iopub.status.idle": "2023-08-24T14:30:04.542351Z",
          "shell.execute_reply.started": "2023-08-24T14:30:04.528654Z",
          "shell.execute_reply": "2023-08-24T14:30:04.541163Z"
        },
        "trusted": true,
        "id": "GcikuBp-fqXY"
      },
      "execution_count": null,
      "outputs": []
    },
    {
      "cell_type": "code",
      "source": [
        "df.query(\"a <= b\")"
      ],
      "metadata": {
        "execution": {
          "iopub.status.busy": "2023-08-24T14:30:04.544167Z",
          "iopub.execute_input": "2023-08-24T14:30:04.544662Z",
          "iopub.status.idle": "2023-08-24T14:30:04.566733Z",
          "shell.execute_reply.started": "2023-08-24T14:30:04.544606Z",
          "shell.execute_reply": "2023-08-24T14:30:04.565553Z"
        },
        "trusted": true,
        "id": "sENDXX70fqXY"
      },
      "execution_count": null,
      "outputs": []
    },
    {
      "cell_type": "code",
      "source": [
        "df[df[\"a\"] <= df[\"b\"]]"
      ],
      "metadata": {
        "execution": {
          "iopub.status.busy": "2023-08-24T14:30:04.568321Z",
          "iopub.execute_input": "2023-08-24T14:30:04.568792Z",
          "iopub.status.idle": "2023-08-24T14:30:04.586841Z",
          "shell.execute_reply.started": "2023-08-24T14:30:04.568746Z",
          "shell.execute_reply": "2023-08-24T14:30:04.585652Z"
        },
        "trusted": true,
        "id": "7JNt0pFifqXZ"
      },
      "execution_count": null,
      "outputs": []
    },
    {
      "cell_type": "code",
      "source": [
        "df.loc[df[\"a\"] <= df[\"b\"]]"
      ],
      "metadata": {
        "execution": {
          "iopub.status.busy": "2023-08-24T14:30:04.590049Z",
          "iopub.execute_input": "2023-08-24T14:30:04.590443Z",
          "iopub.status.idle": "2023-08-24T14:30:04.604778Z",
          "shell.execute_reply.started": "2023-08-24T14:30:04.590407Z",
          "shell.execute_reply": "2023-08-24T14:30:04.603394Z"
        },
        "trusted": true,
        "id": "8czYVpe2fqXZ"
      },
      "execution_count": null,
      "outputs": []
    },
    {
      "cell_type": "code",
      "source": [
        "df[df[\"a\"] >= df[\"b\"]]"
      ],
      "metadata": {
        "execution": {
          "iopub.status.busy": "2023-08-24T14:30:04.606302Z",
          "iopub.execute_input": "2023-08-24T14:30:04.606662Z",
          "iopub.status.idle": "2023-08-24T14:30:04.619591Z",
          "shell.execute_reply.started": "2023-08-24T14:30:04.606631Z",
          "shell.execute_reply": "2023-08-24T14:30:04.618639Z"
        },
        "trusted": true,
        "id": "q2RwlFWtfqXZ"
      },
      "execution_count": null,
      "outputs": []
    },
    {
      "cell_type": "code",
      "source": [
        "df = pd.DataFrame({\"a\": np.random.randn(10), \"b\": np.random.randn(10)})\n",
        "df.head()"
      ],
      "metadata": {
        "execution": {
          "iopub.status.busy": "2023-08-24T14:30:04.621385Z",
          "iopub.execute_input": "2023-08-24T14:30:04.621702Z",
          "iopub.status.idle": "2023-08-24T14:30:04.638795Z",
          "shell.execute_reply.started": "2023-08-24T14:30:04.621674Z",
          "shell.execute_reply": "2023-08-24T14:30:04.638029Z"
        },
        "trusted": true,
        "id": "vL3Fb6vRfqXa"
      },
      "execution_count": null,
      "outputs": []
    },
    {
      "cell_type": "code",
      "source": [
        "df.eval(\"a + b\")"
      ],
      "metadata": {
        "execution": {
          "iopub.status.busy": "2023-08-24T14:30:04.640355Z",
          "iopub.execute_input": "2023-08-24T14:30:04.640951Z",
          "iopub.status.idle": "2023-08-24T14:30:04.659031Z",
          "shell.execute_reply.started": "2023-08-24T14:30:04.640918Z",
          "shell.execute_reply": "2023-08-24T14:30:04.657835Z"
        },
        "trusted": true,
        "id": "qQvfU2h9fqXa"
      },
      "execution_count": null,
      "outputs": []
    },
    {
      "cell_type": "code",
      "source": [
        "df[\"a\"] + df[\"b\"]"
      ],
      "metadata": {
        "execution": {
          "iopub.status.busy": "2023-08-24T14:30:04.660924Z",
          "iopub.execute_input": "2023-08-24T14:30:04.661847Z",
          "iopub.status.idle": "2023-08-24T14:30:04.673467Z",
          "shell.execute_reply.started": "2023-08-24T14:30:04.6618Z",
          "shell.execute_reply": "2023-08-24T14:30:04.672074Z"
        },
        "trusted": true,
        "id": "6mh0VdpVfqXb"
      },
      "execution_count": null,
      "outputs": []
    },
    {
      "cell_type": "code",
      "source": [
        "df = pd.DataFrame({\n",
        "\n",
        "\"x\": np.random.uniform(1.0, 168.0, 120),\n",
        "\"y\": np.random.uniform(7.0, 334.0, 120),\n",
        "\"z\": np.random.uniform(1.7, 20.7, 120),\n",
        "\"month\": [5, 6, 7, 8] * 30,\n",
        "\"week\": np.random.randint(1, 4, 120)\n",
        "\n",
        "})\n",
        "\n",
        "df.head()"
      ],
      "metadata": {
        "execution": {
          "iopub.status.busy": "2023-08-24T14:30:04.675152Z",
          "iopub.execute_input": "2023-08-24T14:30:04.675904Z",
          "iopub.status.idle": "2023-08-24T14:30:04.696763Z",
          "shell.execute_reply.started": "2023-08-24T14:30:04.675862Z",
          "shell.execute_reply": "2023-08-24T14:30:04.695487Z"
        },
        "trusted": true,
        "id": "JORsUMXSfqXb"
      },
      "execution_count": null,
      "outputs": []
    },
    {
      "cell_type": "code",
      "source": [
        "grouped = df.groupby([\"month\", \"week\"])\n",
        "grouped[\"x\"].agg([np.mean, np.std])"
      ],
      "metadata": {
        "execution": {
          "iopub.status.busy": "2023-08-24T14:30:04.698522Z",
          "iopub.execute_input": "2023-08-24T14:30:04.699523Z",
          "iopub.status.idle": "2023-08-24T14:30:04.719773Z",
          "shell.execute_reply.started": "2023-08-24T14:30:04.699474Z",
          "shell.execute_reply": "2023-08-24T14:30:04.71861Z"
        },
        "trusted": true,
        "id": "3175rGQcfqXc"
      },
      "execution_count": null,
      "outputs": []
    },
    {
      "cell_type": "code",
      "source": [
        "a = np.array(list(range(1, 24)) + [np.NAN]).reshape(2, 3, 4)\n",
        "a"
      ],
      "metadata": {
        "execution": {
          "iopub.status.busy": "2023-08-24T14:30:04.721391Z",
          "iopub.execute_input": "2023-08-24T14:30:04.722287Z",
          "iopub.status.idle": "2023-08-24T14:30:04.730134Z",
          "shell.execute_reply.started": "2023-08-24T14:30:04.722247Z",
          "shell.execute_reply": "2023-08-24T14:30:04.729285Z"
        },
        "trusted": true,
        "id": "75UtS_oLfqXc"
      },
      "execution_count": null,
      "outputs": []
    },
    {
      "cell_type": "code",
      "source": [
        "pd.DataFrame([tuple(list(x) + [val]) for x, val in np.ndenumerate(a)])"
      ],
      "metadata": {
        "execution": {
          "iopub.status.busy": "2023-08-24T14:30:04.731417Z",
          "iopub.execute_input": "2023-08-24T14:30:04.732086Z",
          "iopub.status.idle": "2023-08-24T14:30:04.756718Z",
          "shell.execute_reply.started": "2023-08-24T14:30:04.732055Z",
          "shell.execute_reply": "2023-08-24T14:30:04.755511Z"
        },
        "trusted": true,
        "id": "QfGtLcCzfqXd"
      },
      "execution_count": null,
      "outputs": []
    },
    {
      "cell_type": "code",
      "source": [
        "a = list(enumerate(list(range(1, 5)) + [np.NAN]))\n",
        "a"
      ],
      "metadata": {
        "execution": {
          "iopub.status.busy": "2023-08-24T14:30:04.758671Z",
          "iopub.execute_input": "2023-08-24T14:30:04.759414Z",
          "iopub.status.idle": "2023-08-24T14:30:04.768532Z",
          "shell.execute_reply.started": "2023-08-24T14:30:04.759372Z",
          "shell.execute_reply": "2023-08-24T14:30:04.767326Z"
        },
        "trusted": true,
        "id": "ql6TpcL6fqXe"
      },
      "execution_count": null,
      "outputs": []
    },
    {
      "cell_type": "code",
      "source": [
        "pd.DataFrame(a)"
      ],
      "metadata": {
        "execution": {
          "iopub.status.busy": "2023-08-24T14:30:04.7705Z",
          "iopub.execute_input": "2023-08-24T14:30:04.771262Z",
          "iopub.status.idle": "2023-08-24T14:30:04.787472Z",
          "shell.execute_reply.started": "2023-08-24T14:30:04.771217Z",
          "shell.execute_reply": "2023-08-24T14:30:04.786197Z"
        },
        "trusted": true,
        "id": "gIwzm5CxfqXe"
      },
      "execution_count": null,
      "outputs": []
    },
    {
      "cell_type": "code",
      "source": [
        "cheese = pd.DataFrame({\n",
        "\n",
        "\"first\": [\"John\", \"Mary\"],\n",
        "\"last\": [\"Doe\", \"Bo\"],\n",
        "\"height\": [5.5, 6.0],\n",
        "\"weight\": [130, 150]\n",
        "\n",
        "})\n",
        "\n",
        "cheese"
      ],
      "metadata": {
        "execution": {
          "iopub.status.busy": "2023-08-24T14:30:04.789163Z",
          "iopub.execute_input": "2023-08-24T14:30:04.789596Z",
          "iopub.status.idle": "2023-08-24T14:30:04.805441Z",
          "shell.execute_reply.started": "2023-08-24T14:30:04.789556Z",
          "shell.execute_reply": "2023-08-24T14:30:04.804228Z"
        },
        "trusted": true,
        "id": "P0k7jFs6fqXf"
      },
      "execution_count": null,
      "outputs": []
    },
    {
      "cell_type": "code",
      "source": [
        "pd.melt(cheese, id_vars=[\"first\", \"last\"])"
      ],
      "metadata": {
        "execution": {
          "iopub.status.busy": "2023-08-24T14:30:04.807195Z",
          "iopub.execute_input": "2023-08-24T14:30:04.807892Z",
          "iopub.status.idle": "2023-08-24T14:30:04.828985Z",
          "shell.execute_reply.started": "2023-08-24T14:30:04.807847Z",
          "shell.execute_reply": "2023-08-24T14:30:04.827827Z"
        },
        "trusted": true,
        "id": "aPug147TfqXf"
      },
      "execution_count": null,
      "outputs": []
    },
    {
      "cell_type": "code",
      "source": [
        "cheese.set_index([\"first\", \"last\"]).stack() # alternative"
      ],
      "metadata": {
        "execution": {
          "iopub.status.busy": "2023-08-24T14:30:04.830877Z",
          "iopub.execute_input": "2023-08-24T14:30:04.831606Z",
          "iopub.status.idle": "2023-08-24T14:30:04.85135Z",
          "shell.execute_reply.started": "2023-08-24T14:30:04.831562Z",
          "shell.execute_reply": "2023-08-24T14:30:04.850031Z"
        },
        "trusted": true,
        "id": "j7EdFXc3fqXf"
      },
      "execution_count": null,
      "outputs": []
    },
    {
      "cell_type": "code",
      "source": [
        "df = pd.DataFrame({\n",
        "\n",
        "\"x\": np.random.uniform(1.0, 168.0, 12),\n",
        "\"y\": np.random.uniform(7.0, 334.0, 12),\n",
        "\"z\": np.random.uniform(1.7, 20.7, 12),\n",
        "\"month\": [5, 6, 7] * 4,\n",
        "\"week\": [1, 2] * 6\n",
        "\n",
        "})\n",
        "\n",
        "mdf = pd.melt(df, id_vars=[\"month\", \"week\"])\n",
        "\n",
        "pd.pivot_table(mdf,values=\"value\",index=[\"variable\", \"week\"],columns=[\"month\"],aggfunc=np.mean,)"
      ],
      "metadata": {
        "execution": {
          "iopub.status.busy": "2023-08-24T14:30:04.853031Z",
          "iopub.execute_input": "2023-08-24T14:30:04.854071Z",
          "iopub.status.idle": "2023-08-24T14:30:04.885587Z",
          "shell.execute_reply.started": "2023-08-24T14:30:04.853995Z",
          "shell.execute_reply": "2023-08-24T14:30:04.884411Z"
        },
        "trusted": true,
        "id": "86n0igBZfqXg"
      },
      "execution_count": null,
      "outputs": []
    },
    {
      "cell_type": "code",
      "source": [
        "df = pd.DataFrame({\n",
        "\n",
        "\"Animal\": [\"Animal1\",\"Animal2\",\"Animal3\",\"Animal2\",\"Animal1\",\"Animal2\",\"Animal3\",],\n",
        "\"FeedType\": [\"A\", \"B\", \"A\", \"A\", \"B\", \"B\", \"A\"],\n",
        "\"Amount\": [10, 7, 4, 2, 5, 6, 2]\n",
        "\n",
        "})\n",
        "\n",
        "df.pivot_table(values=\"Amount\", index=\"Animal\", columns=\"FeedType\", aggfunc=\"sum\")"
      ],
      "metadata": {
        "execution": {
          "iopub.status.busy": "2023-08-24T14:30:04.88714Z",
          "iopub.execute_input": "2023-08-24T14:30:04.887578Z",
          "iopub.status.idle": "2023-08-24T14:30:04.914477Z",
          "shell.execute_reply.started": "2023-08-24T14:30:04.887542Z",
          "shell.execute_reply": "2023-08-24T14:30:04.913323Z"
        },
        "trusted": true,
        "id": "e8-58wtifqXg"
      },
      "execution_count": null,
      "outputs": []
    },
    {
      "cell_type": "code",
      "source": [
        "df.groupby([\"Animal\", \"FeedType\"])[\"Amount\"].sum()"
      ],
      "metadata": {
        "execution": {
          "iopub.status.busy": "2023-08-24T14:30:04.915812Z",
          "iopub.execute_input": "2023-08-24T14:30:04.917024Z",
          "iopub.status.idle": "2023-08-24T14:30:04.930341Z",
          "shell.execute_reply.started": "2023-08-24T14:30:04.916962Z",
          "shell.execute_reply": "2023-08-24T14:30:04.929468Z"
        },
        "trusted": true,
        "id": "9WphovMhfqXh"
      },
      "execution_count": null,
      "outputs": []
    },
    {
      "cell_type": "code",
      "source": [
        "pd.cut(pd.Series([1, 2, 3, 4, 5, 6]), 3)"
      ],
      "metadata": {
        "execution": {
          "iopub.status.busy": "2023-08-24T14:30:04.931628Z",
          "iopub.execute_input": "2023-08-24T14:30:04.932899Z",
          "iopub.status.idle": "2023-08-24T14:30:04.954775Z",
          "shell.execute_reply.started": "2023-08-24T14:30:04.932859Z",
          "shell.execute_reply": "2023-08-24T14:30:04.953599Z"
        },
        "trusted": true,
        "id": "afOqsSyOfqXi"
      },
      "execution_count": null,
      "outputs": []
    },
    {
      "cell_type": "code",
      "source": [
        "pd.Series([1, 2, 3, 2, 2, 3]).astype(\"category\")"
      ],
      "metadata": {
        "execution": {
          "iopub.status.busy": "2023-08-24T14:30:04.956561Z",
          "iopub.execute_input": "2023-08-24T14:30:04.956956Z",
          "iopub.status.idle": "2023-08-24T14:30:04.971523Z",
          "shell.execute_reply.started": "2023-08-24T14:30:04.956924Z",
          "shell.execute_reply": "2023-08-24T14:30:04.970569Z"
        },
        "trusted": true,
        "id": "ngHYRjMQfqXj"
      },
      "execution_count": null,
      "outputs": []
    },
    {
      "cell_type": "code",
      "source": [
        "frame = pd.DataFrame({\"col1\": [\"A\", \"B\", np.NaN, \"C\", \"D\"], \"col2\": [\"F\", np.NaN, \"G\", \"H\", \"I\"]})\n",
        "\n",
        "frame"
      ],
      "metadata": {
        "execution": {
          "iopub.status.busy": "2023-08-24T14:30:04.972967Z",
          "iopub.execute_input": "2023-08-24T14:30:04.974244Z",
          "iopub.status.idle": "2023-08-24T14:30:04.987457Z",
          "shell.execute_reply.started": "2023-08-24T14:30:04.974207Z",
          "shell.execute_reply": "2023-08-24T14:30:04.986529Z"
        },
        "trusted": true,
        "id": "2Mg4xlCafqXj"
      },
      "execution_count": null,
      "outputs": []
    },
    {
      "cell_type": "code",
      "source": [
        "frame[frame[\"col2\"].isna()]"
      ],
      "metadata": {
        "execution": {
          "iopub.status.busy": "2023-08-24T14:30:04.989048Z",
          "iopub.execute_input": "2023-08-24T14:30:04.98973Z",
          "iopub.status.idle": "2023-08-24T14:30:05.008254Z",
          "shell.execute_reply.started": "2023-08-24T14:30:04.989692Z",
          "shell.execute_reply": "2023-08-24T14:30:05.006947Z"
        },
        "trusted": true,
        "id": "gC4EIiH8fqXk"
      },
      "execution_count": null,
      "outputs": []
    },
    {
      "cell_type": "code",
      "source": [
        "frame[frame[\"col1\"].notna()]"
      ],
      "metadata": {
        "execution": {
          "iopub.status.busy": "2023-08-24T14:30:05.010051Z",
          "iopub.execute_input": "2023-08-24T14:30:05.01049Z",
          "iopub.status.idle": "2023-08-24T14:30:05.027763Z",
          "shell.execute_reply.started": "2023-08-24T14:30:05.010455Z",
          "shell.execute_reply": "2023-08-24T14:30:05.026443Z"
        },
        "trusted": true,
        "id": "9HW_5gH4fqXl"
      },
      "execution_count": null,
      "outputs": []
    },
    {
      "cell_type": "code",
      "source": [
        "df1 = pd.DataFrame({\"key\": [\"A\", \"B\", \"C\", \"D\"], \"value\": np.random.randn(4)})\n",
        "df2 = pd.DataFrame({\"key\": [\"B\", \"D\", \"D\", \"E\"], \"value\": np.random.randn(4)})"
      ],
      "metadata": {
        "execution": {
          "iopub.status.busy": "2023-08-24T14:30:05.029035Z",
          "iopub.execute_input": "2023-08-24T14:30:05.02989Z",
          "iopub.status.idle": "2023-08-24T14:30:05.039069Z",
          "shell.execute_reply.started": "2023-08-24T14:30:05.029838Z",
          "shell.execute_reply": "2023-08-24T14:30:05.03776Z"
        },
        "trusted": true,
        "id": "bxsNRythfqXm"
      },
      "execution_count": null,
      "outputs": []
    },
    {
      "cell_type": "code",
      "source": [
        "pd.merge(df1, df2, on=\"key\")"
      ],
      "metadata": {
        "execution": {
          "iopub.status.busy": "2023-08-24T14:30:05.040617Z",
          "iopub.execute_input": "2023-08-24T14:30:05.041592Z",
          "iopub.status.idle": "2023-08-24T14:30:05.067435Z",
          "shell.execute_reply.started": "2023-08-24T14:30:05.041555Z",
          "shell.execute_reply": "2023-08-24T14:30:05.066186Z"
        },
        "trusted": true,
        "id": "GZtayT2efqXo"
      },
      "execution_count": null,
      "outputs": []
    },
    {
      "cell_type": "code",
      "source": [
        "indexed_df2 = df2.set_index(\"key\")\n",
        "pd.merge(df1, indexed_df2, left_on=\"key\", right_index=True)"
      ],
      "metadata": {
        "execution": {
          "iopub.status.busy": "2023-08-24T14:30:05.068686Z",
          "iopub.execute_input": "2023-08-24T14:30:05.069526Z",
          "iopub.status.idle": "2023-08-24T14:30:05.085714Z",
          "shell.execute_reply.started": "2023-08-24T14:30:05.069489Z",
          "shell.execute_reply": "2023-08-24T14:30:05.084523Z"
        },
        "trusted": true,
        "id": "8dVPkBwgfqXo"
      },
      "execution_count": null,
      "outputs": []
    },
    {
      "cell_type": "code",
      "source": [
        "pd.merge(df1, df2, on=\"key\", how=\"left\")"
      ],
      "metadata": {
        "execution": {
          "iopub.status.busy": "2023-08-24T14:30:05.087162Z",
          "iopub.execute_input": "2023-08-24T14:30:05.087757Z",
          "iopub.status.idle": "2023-08-24T14:30:05.103099Z",
          "shell.execute_reply.started": "2023-08-24T14:30:05.087721Z",
          "shell.execute_reply": "2023-08-24T14:30:05.102152Z"
        },
        "trusted": true,
        "id": "2cD4rqt0fqXp"
      },
      "execution_count": null,
      "outputs": []
    },
    {
      "cell_type": "code",
      "source": [
        "pd.merge(df1, df2, on=\"key\", how=\"right\")"
      ],
      "metadata": {
        "execution": {
          "iopub.status.busy": "2023-08-24T14:30:05.104957Z",
          "iopub.execute_input": "2023-08-24T14:30:05.105489Z",
          "iopub.status.idle": "2023-08-24T14:30:05.127261Z",
          "shell.execute_reply.started": "2023-08-24T14:30:05.105445Z",
          "shell.execute_reply": "2023-08-24T14:30:05.125937Z"
        },
        "trusted": true,
        "id": "WgTC9-j-fqXq"
      },
      "execution_count": null,
      "outputs": []
    },
    {
      "cell_type": "code",
      "source": [
        "pd.merge(df1, df2, on=\"key\", how=\"outer\")"
      ],
      "metadata": {
        "execution": {
          "iopub.status.busy": "2023-08-24T14:30:05.128881Z",
          "iopub.execute_input": "2023-08-24T14:30:05.130009Z",
          "iopub.status.idle": "2023-08-24T14:30:05.15333Z",
          "shell.execute_reply.started": "2023-08-24T14:30:05.129952Z",
          "shell.execute_reply": "2023-08-24T14:30:05.152055Z"
        },
        "trusted": true,
        "id": "YZObm6NqfqXr"
      },
      "execution_count": null,
      "outputs": []
    },
    {
      "cell_type": "code",
      "source": [
        "df1 = pd.DataFrame({\"city\": [\"Chicago\", \"San Francisco\", \"New York City\"], \"rank\": range(1, 4)})\n",
        "\n",
        "df2 = pd.DataFrame({\"city\": [\"Chicago\", \"Boston\", \"Los Angeles\"], \"rank\": [1, 4, 5]})\n",
        "\n",
        "\n",
        "pd.concat([df1, df2])"
      ],
      "metadata": {
        "execution": {
          "iopub.status.busy": "2023-08-24T14:30:05.154961Z",
          "iopub.execute_input": "2023-08-24T14:30:05.156895Z",
          "iopub.status.idle": "2023-08-24T14:30:05.175638Z",
          "shell.execute_reply.started": "2023-08-24T14:30:05.156847Z",
          "shell.execute_reply": "2023-08-24T14:30:05.174386Z"
        },
        "trusted": true,
        "id": "i-Ld7xljfqXr"
      },
      "execution_count": null,
      "outputs": []
    },
    {
      "cell_type": "code",
      "source": [
        "pd.concat([df1, df2]).drop_duplicates()"
      ],
      "metadata": {
        "execution": {
          "iopub.status.busy": "2023-08-24T14:30:05.177219Z",
          "iopub.execute_input": "2023-08-24T14:30:05.177912Z",
          "iopub.status.idle": "2023-08-24T14:30:05.190239Z",
          "shell.execute_reply.started": "2023-08-24T14:30:05.177861Z",
          "shell.execute_reply": "2023-08-24T14:30:05.189186Z"
        },
        "trusted": true,
        "id": "LRqR0W24fqXs"
      },
      "execution_count": null,
      "outputs": []
    },
    {
      "cell_type": "code",
      "source": [
        "df = pd.DataFrame({\"x\": [1, 3, 5], \"y\": [2, 4, 6]})\n",
        "df"
      ],
      "metadata": {
        "execution": {
          "iopub.status.busy": "2023-08-24T14:30:05.191574Z",
          "iopub.execute_input": "2023-08-24T14:30:05.192026Z",
          "iopub.status.idle": "2023-08-24T14:30:05.204016Z",
          "shell.execute_reply.started": "2023-08-24T14:30:05.191968Z",
          "shell.execute_reply": "2023-08-24T14:30:05.203054Z"
        },
        "trusted": true,
        "id": "JOsfamt0fqXs"
      },
      "execution_count": null,
      "outputs": []
    },
    {
      "cell_type": "code",
      "source": [
        "firstlast = pd.DataFrame({\"String\": [\"John Smith\", \"Jane Cook\"]})\n",
        "firstlast[\"First_Name\"] = firstlast[\"String\"].str.split(\" \", expand=True)[0]\n",
        "firstlast[\"Last_Name\"] = firstlast[\"String\"].str.rsplit(\" \", expand=True)[1]\n",
        "firstlast"
      ],
      "metadata": {
        "execution": {
          "iopub.status.busy": "2023-08-24T14:30:05.205409Z",
          "iopub.execute_input": "2023-08-24T14:30:05.206175Z",
          "iopub.status.idle": "2023-08-24T14:30:05.221551Z",
          "shell.execute_reply.started": "2023-08-24T14:30:05.206138Z",
          "shell.execute_reply": "2023-08-24T14:30:05.220287Z"
        },
        "trusted": true,
        "id": "87KSju3lfqXt"
      },
      "execution_count": null,
      "outputs": []
    },
    {
      "cell_type": "code",
      "source": [
        "firstlast = pd.DataFrame({\"string\": [\"John Smith\", \"Jane Cook\"]})\n",
        "firstlast[\"upper\"] = firstlast[\"string\"].str.upper()\n",
        "firstlast[\"lower\"] = firstlast[\"string\"].str.lower()\n",
        "firstlast[\"title\"] = firstlast[\"string\"].str.title()\n",
        "firstlast"
      ],
      "metadata": {
        "execution": {
          "iopub.status.busy": "2023-08-24T14:30:05.222985Z",
          "iopub.execute_input": "2023-08-24T14:30:05.22337Z",
          "iopub.status.idle": "2023-08-24T14:30:05.243782Z",
          "shell.execute_reply.started": "2023-08-24T14:30:05.223337Z",
          "shell.execute_reply": "2023-08-24T14:30:05.242566Z"
        },
        "trusted": true,
        "id": "BNhemNjrfqXt"
      },
      "execution_count": null,
      "outputs": []
    },
    {
      "cell_type": "code",
      "source": [
        "df1 = pd.DataFrame({\"key\": [\"A\", \"B\", \"C\", \"D\"], \"value\": np.random.randn(4)})\n",
        "df1"
      ],
      "metadata": {
        "execution": {
          "iopub.status.busy": "2023-08-24T14:30:05.245594Z",
          "iopub.execute_input": "2023-08-24T14:30:05.245965Z",
          "iopub.status.idle": "2023-08-24T14:30:05.258126Z",
          "shell.execute_reply.started": "2023-08-24T14:30:05.245932Z",
          "shell.execute_reply": "2023-08-24T14:30:05.256942Z"
        },
        "trusted": true,
        "id": "o0GtiTJkfqXu"
      },
      "execution_count": null,
      "outputs": []
    },
    {
      "cell_type": "code",
      "source": [
        "df2 = pd.DataFrame({\"key\": [\"B\", \"D\", \"D\", \"E\"], \"value\": np.random.randn(4)})\n",
        "df2"
      ],
      "metadata": {
        "execution": {
          "iopub.status.busy": "2023-08-24T14:30:05.259733Z",
          "iopub.execute_input": "2023-08-24T14:30:05.260119Z",
          "iopub.status.idle": "2023-08-24T14:30:05.278151Z",
          "shell.execute_reply.started": "2023-08-24T14:30:05.260086Z",
          "shell.execute_reply": "2023-08-24T14:30:05.277149Z"
        },
        "trusted": true,
        "id": "7ng0BB02fqXv"
      },
      "execution_count": null,
      "outputs": []
    },
    {
      "cell_type": "code",
      "source": [
        "inner_join = df1.merge(df2, on=[\"key\"], how=\"inner\")\n",
        "inner_join"
      ],
      "metadata": {
        "execution": {
          "iopub.status.busy": "2023-08-24T14:30:05.279675Z",
          "iopub.execute_input": "2023-08-24T14:30:05.280533Z",
          "iopub.status.idle": "2023-08-24T14:30:05.2969Z",
          "shell.execute_reply.started": "2023-08-24T14:30:05.28049Z",
          "shell.execute_reply": "2023-08-24T14:30:05.295499Z"
        },
        "trusted": true,
        "id": "qpr2zpiCfqXv"
      },
      "execution_count": null,
      "outputs": []
    },
    {
      "cell_type": "code",
      "source": [
        "left_join = df1.merge(df2, on=[\"key\"], how=\"left\")\n",
        "left_join"
      ],
      "metadata": {
        "execution": {
          "iopub.status.busy": "2023-08-24T14:30:05.299131Z",
          "iopub.execute_input": "2023-08-24T14:30:05.299612Z",
          "iopub.status.idle": "2023-08-24T14:30:05.323388Z",
          "shell.execute_reply.started": "2023-08-24T14:30:05.299561Z",
          "shell.execute_reply": "2023-08-24T14:30:05.322101Z"
        },
        "trusted": true,
        "id": "z5F_ig8afqXw"
      },
      "execution_count": null,
      "outputs": []
    },
    {
      "cell_type": "code",
      "source": [
        "right_join = df1.merge(df2, on=[\"key\"], how=\"right\")\n",
        "right_join"
      ],
      "metadata": {
        "execution": {
          "iopub.status.busy": "2023-08-24T14:30:05.32541Z",
          "iopub.execute_input": "2023-08-24T14:30:05.325848Z",
          "iopub.status.idle": "2023-08-24T14:30:05.342257Z",
          "shell.execute_reply.started": "2023-08-24T14:30:05.325808Z",
          "shell.execute_reply": "2023-08-24T14:30:05.341406Z"
        },
        "trusted": true,
        "id": "AKeqC5ncfqXw"
      },
      "execution_count": null,
      "outputs": []
    },
    {
      "cell_type": "code",
      "source": [
        "outer_join = df1.merge(df2, on=[\"key\"], how=\"outer\")\n",
        "outer_join"
      ],
      "metadata": {
        "execution": {
          "iopub.status.busy": "2023-08-24T14:30:05.344269Z",
          "iopub.execute_input": "2023-08-24T14:30:05.345228Z",
          "iopub.status.idle": "2023-08-24T14:30:05.369393Z",
          "shell.execute_reply.started": "2023-08-24T14:30:05.345179Z",
          "shell.execute_reply": "2023-08-24T14:30:05.368146Z"
        },
        "trusted": true,
        "id": "H3yZ6S4SfqXx"
      },
      "execution_count": null,
      "outputs": []
    },
    {
      "cell_type": "code",
      "source": [
        "df = pd.DataFrame({\"AAA\": [1] * 8, \"BBB\": list(range(0, 8))})\n",
        "df"
      ],
      "metadata": {
        "execution": {
          "iopub.status.busy": "2023-08-24T14:30:05.370607Z",
          "iopub.execute_input": "2023-08-24T14:30:05.370939Z",
          "iopub.status.idle": "2023-08-24T14:30:05.383516Z",
          "shell.execute_reply.started": "2023-08-24T14:30:05.37091Z",
          "shell.execute_reply": "2023-08-24T14:30:05.381515Z"
        },
        "trusted": true,
        "id": "6yzcQCqRfqXx"
      },
      "execution_count": null,
      "outputs": []
    },
    {
      "cell_type": "code",
      "source": [
        "series = list(range(1, 5))\n",
        "series"
      ],
      "metadata": {
        "execution": {
          "iopub.status.busy": "2023-08-24T14:30:05.386246Z",
          "iopub.execute_input": "2023-08-24T14:30:05.386858Z",
          "iopub.status.idle": "2023-08-24T14:30:05.398029Z",
          "shell.execute_reply.started": "2023-08-24T14:30:05.386814Z",
          "shell.execute_reply": "2023-08-24T14:30:05.397079Z"
        },
        "trusted": true,
        "id": "h0V0VqyDfqXy"
      },
      "execution_count": null,
      "outputs": []
    },
    {
      "cell_type": "code",
      "source": [
        "df.loc[2:5, \"AAA\"] = series\n",
        "df"
      ],
      "metadata": {
        "execution": {
          "iopub.status.busy": "2023-08-24T14:30:05.399112Z",
          "iopub.execute_input": "2023-08-24T14:30:05.399476Z",
          "iopub.status.idle": "2023-08-24T14:30:05.41832Z",
          "shell.execute_reply.started": "2023-08-24T14:30:05.399444Z",
          "shell.execute_reply": "2023-08-24T14:30:05.41718Z"
        },
        "trusted": true,
        "id": "qEBVF1x0fqXy"
      },
      "execution_count": null,
      "outputs": []
    },
    {
      "cell_type": "code",
      "source": [
        "df = pd.DataFrame({\n",
        "\n",
        "\"class\": [\"A\", \"A\", \"A\", \"B\", \"C\", \"D\"],\n",
        "\"student_count\": [42, 35, 42, 50, 47, 45],\n",
        "\"all_pass\": [\"Yes\", \"Yes\", \"Yes\", \"No\", \"No\", \"Yes\"]\n",
        "\n",
        "})\n",
        "\n",
        "df.drop_duplicates()"
      ],
      "metadata": {
        "execution": {
          "iopub.status.busy": "2023-08-24T14:30:05.420186Z",
          "iopub.execute_input": "2023-08-24T14:30:05.420651Z",
          "iopub.status.idle": "2023-08-24T14:30:05.444533Z",
          "shell.execute_reply.started": "2023-08-24T14:30:05.420607Z",
          "shell.execute_reply": "2023-08-24T14:30:05.44273Z"
        },
        "trusted": true,
        "id": "vGoFefVkfqXz"
      },
      "execution_count": null,
      "outputs": []
    },
    {
      "cell_type": "code",
      "source": [
        "df.drop_duplicates([\"class\", \"student_count\"])"
      ],
      "metadata": {
        "execution": {
          "iopub.status.busy": "2023-08-24T14:30:05.446618Z",
          "iopub.execute_input": "2023-08-24T14:30:05.447068Z",
          "iopub.status.idle": "2023-08-24T14:30:05.460317Z",
          "shell.execute_reply.started": "2023-08-24T14:30:05.447013Z",
          "shell.execute_reply": "2023-08-24T14:30:05.459039Z"
        },
        "trusted": true,
        "id": "qSlWUAUdfqXz"
      },
      "execution_count": null,
      "outputs": []
    },
    {
      "cell_type": "code",
      "source": [
        "new_row = pd.DataFrame([[\"E\", 51, True]],columns=[\"class\", \"student_count\", \"all_pass\"])\n",
        "pd.concat([df, new_row])"
      ],
      "metadata": {
        "execution": {
          "iopub.status.busy": "2023-08-24T14:30:05.478209Z",
          "iopub.execute_input": "2023-08-24T14:30:05.478625Z",
          "iopub.status.idle": "2023-08-24T14:30:05.495227Z",
          "shell.execute_reply.started": "2023-08-24T14:30:05.478593Z",
          "shell.execute_reply": "2023-08-24T14:30:05.494089Z"
        },
        "trusted": true,
        "id": "dQ48M30ufqX0"
      },
      "execution_count": null,
      "outputs": []
    },
    {
      "cell_type": "code",
      "source": [
        "df = pd.DataFrame({\"x\": [1, 3, 5], \"y\": [2, 4, 6]})\n",
        "df"
      ],
      "metadata": {
        "execution": {
          "iopub.status.busy": "2023-08-24T14:30:05.497052Z",
          "iopub.execute_input": "2023-08-24T14:30:05.497482Z",
          "iopub.status.idle": "2023-08-24T14:30:05.51591Z",
          "shell.execute_reply.started": "2023-08-24T14:30:05.497439Z",
          "shell.execute_reply": "2023-08-24T14:30:05.514767Z"
        },
        "trusted": true,
        "id": "aIhnvmqxfqX0"
      },
      "execution_count": null,
      "outputs": []
    },
    {
      "cell_type": "code",
      "source": [
        "df1 = pd.DataFrame({\"key\": [\"A\", \"B\", \"C\", \"D\"], \"value\": np.random.randn(4)})\n",
        "df1"
      ],
      "metadata": {
        "execution": {
          "iopub.status.busy": "2023-08-24T14:30:05.517696Z",
          "iopub.execute_input": "2023-08-24T14:30:05.518158Z",
          "iopub.status.idle": "2023-08-24T14:30:05.534646Z",
          "shell.execute_reply.started": "2023-08-24T14:30:05.518117Z",
          "shell.execute_reply": "2023-08-24T14:30:05.533464Z"
        },
        "trusted": true,
        "id": "AMcXX9K9fqX1"
      },
      "execution_count": null,
      "outputs": []
    },
    {
      "cell_type": "code",
      "source": [
        "df2 = pd.DataFrame({\"key\": [\"B\", \"D\", \"D\", \"E\"], \"value\": np.random.randn(4)})\n",
        "df2"
      ],
      "metadata": {
        "execution": {
          "iopub.status.busy": "2023-08-24T14:30:05.536501Z",
          "iopub.execute_input": "2023-08-24T14:30:05.537274Z",
          "iopub.status.idle": "2023-08-24T14:30:05.554127Z",
          "shell.execute_reply.started": "2023-08-24T14:30:05.537228Z",
          "shell.execute_reply": "2023-08-24T14:30:05.552916Z"
        },
        "trusted": true,
        "id": "GSBJSyk2fqX2"
      },
      "execution_count": null,
      "outputs": []
    },
    {
      "cell_type": "code",
      "source": [
        "inner_join = df1.merge(df2, on=[\"key\"], how=\"inner\")\n",
        "inner_join"
      ],
      "metadata": {
        "execution": {
          "iopub.status.busy": "2023-08-24T14:30:05.555953Z",
          "iopub.execute_input": "2023-08-24T14:30:05.556427Z",
          "iopub.status.idle": "2023-08-24T14:30:05.57531Z",
          "shell.execute_reply.started": "2023-08-24T14:30:05.556385Z",
          "shell.execute_reply": "2023-08-24T14:30:05.574077Z"
        },
        "trusted": true,
        "id": "-rf-bR63fqX2"
      },
      "execution_count": null,
      "outputs": []
    },
    {
      "cell_type": "code",
      "source": [
        "left_join = df1.merge(df2, on=[\"key\"], how=\"left\")\n",
        "left_join"
      ],
      "metadata": {
        "execution": {
          "iopub.status.busy": "2023-08-24T14:30:05.576869Z",
          "iopub.execute_input": "2023-08-24T14:30:05.578299Z",
          "iopub.status.idle": "2023-08-24T14:30:05.599022Z",
          "shell.execute_reply.started": "2023-08-24T14:30:05.578255Z",
          "shell.execute_reply": "2023-08-24T14:30:05.597843Z"
        },
        "trusted": true,
        "id": "8I-WHxxDfqX3"
      },
      "execution_count": null,
      "outputs": []
    },
    {
      "cell_type": "code",
      "source": [
        "right_join = df1.merge(df2, on=[\"key\"], how=\"right\")\n",
        "right_join"
      ],
      "metadata": {
        "execution": {
          "iopub.status.busy": "2023-08-24T14:30:05.600882Z",
          "iopub.execute_input": "2023-08-24T14:30:05.601653Z",
          "iopub.status.idle": "2023-08-24T14:30:05.617779Z",
          "shell.execute_reply.started": "2023-08-24T14:30:05.601612Z",
          "shell.execute_reply": "2023-08-24T14:30:05.61665Z"
        },
        "trusted": true,
        "id": "0xQU-r59fqX5"
      },
      "execution_count": null,
      "outputs": []
    },
    {
      "cell_type": "code",
      "source": [
        "outer_join = df1.merge(df2, on=[\"key\"], how=\"outer\")\n",
        "outer_join"
      ],
      "metadata": {
        "execution": {
          "iopub.status.busy": "2023-08-24T14:30:05.619399Z",
          "iopub.execute_input": "2023-08-24T14:30:05.619994Z",
          "iopub.status.idle": "2023-08-24T14:30:05.642607Z",
          "shell.execute_reply.started": "2023-08-24T14:30:05.619956Z",
          "shell.execute_reply": "2023-08-24T14:30:05.641436Z"
        },
        "trusted": true,
        "id": "QN4lhjp5fqX5"
      },
      "execution_count": null,
      "outputs": []
    },
    {
      "cell_type": "code",
      "source": [
        "outer_join[\"value_x\"] + outer_join[\"value_y\"]"
      ],
      "metadata": {
        "execution": {
          "iopub.status.busy": "2023-08-24T14:30:05.645072Z",
          "iopub.execute_input": "2023-08-24T14:30:05.645582Z",
          "iopub.status.idle": "2023-08-24T14:30:05.654851Z",
          "shell.execute_reply.started": "2023-08-24T14:30:05.645538Z",
          "shell.execute_reply": "2023-08-24T14:30:05.653847Z"
        },
        "trusted": true,
        "id": "bqMhPsMJfqX6"
      },
      "execution_count": null,
      "outputs": []
    },
    {
      "cell_type": "code",
      "source": [
        "outer_join[\"value_x\"].sum()"
      ],
      "metadata": {
        "execution": {
          "iopub.status.busy": "2023-08-24T14:30:05.656263Z",
          "iopub.execute_input": "2023-08-24T14:30:05.656628Z",
          "iopub.status.idle": "2023-08-24T14:30:05.670121Z",
          "shell.execute_reply.started": "2023-08-24T14:30:05.656596Z",
          "shell.execute_reply": "2023-08-24T14:30:05.669256Z"
        },
        "trusted": true,
        "id": "BI07jOzjfqX7"
      },
      "execution_count": null,
      "outputs": []
    },
    {
      "cell_type": "code",
      "source": [
        "outer_join[outer_join[\"value_x\"].isna()]"
      ],
      "metadata": {
        "execution": {
          "iopub.status.busy": "2023-08-24T14:30:05.671558Z",
          "iopub.execute_input": "2023-08-24T14:30:05.672288Z",
          "iopub.status.idle": "2023-08-24T14:30:05.689976Z",
          "shell.execute_reply.started": "2023-08-24T14:30:05.672252Z",
          "shell.execute_reply": "2023-08-24T14:30:05.68884Z"
        },
        "trusted": true,
        "id": "uN2SGXdzfqX7"
      },
      "execution_count": null,
      "outputs": []
    },
    {
      "cell_type": "code",
      "source": [
        "outer_join[outer_join[\"value_x\"].notna()]"
      ],
      "metadata": {
        "execution": {
          "iopub.status.busy": "2023-08-24T14:30:05.691355Z",
          "iopub.execute_input": "2023-08-24T14:30:05.691684Z",
          "iopub.status.idle": "2023-08-24T14:30:05.712397Z",
          "shell.execute_reply.started": "2023-08-24T14:30:05.691655Z",
          "shell.execute_reply": "2023-08-24T14:30:05.711424Z"
        },
        "trusted": true,
        "id": "nG3DRogJfqX8"
      },
      "execution_count": null,
      "outputs": []
    },
    {
      "cell_type": "code",
      "source": [
        "outer_join.dropna()"
      ],
      "metadata": {
        "execution": {
          "iopub.status.busy": "2023-08-24T14:30:05.713398Z",
          "iopub.execute_input": "2023-08-24T14:30:05.713765Z",
          "iopub.status.idle": "2023-08-24T14:30:05.733413Z",
          "shell.execute_reply.started": "2023-08-24T14:30:05.713732Z",
          "shell.execute_reply": "2023-08-24T14:30:05.732386Z"
        },
        "trusted": true,
        "id": "q3tc7R3HfqX8"
      },
      "execution_count": null,
      "outputs": []
    },
    {
      "cell_type": "code",
      "source": [
        "outer_join.fillna(method=\"ffill\")"
      ],
      "metadata": {
        "execution": {
          "iopub.status.busy": "2023-08-24T14:30:05.734833Z",
          "iopub.execute_input": "2023-08-24T14:30:05.735204Z",
          "iopub.status.idle": "2023-08-24T14:30:05.758244Z",
          "shell.execute_reply.started": "2023-08-24T14:30:05.735172Z",
          "shell.execute_reply": "2023-08-24T14:30:05.756988Z"
        },
        "trusted": true,
        "id": "J93K1DHSfqX9"
      },
      "execution_count": null,
      "outputs": []
    },
    {
      "cell_type": "code",
      "source": [
        "outer_join[\"value_x\"].fillna(outer_join[\"value_x\"].mean())"
      ],
      "metadata": {
        "execution": {
          "iopub.status.busy": "2023-08-24T14:30:05.759816Z",
          "iopub.execute_input": "2023-08-24T14:30:05.760206Z",
          "iopub.status.idle": "2023-08-24T14:30:05.772206Z",
          "shell.execute_reply.started": "2023-08-24T14:30:05.760173Z",
          "shell.execute_reply": "2023-08-24T14:30:05.771289Z"
        },
        "trusted": true,
        "id": "WDzA80tEfqX9"
      },
      "execution_count": null,
      "outputs": []
    },
    {
      "cell_type": "code",
      "source": [
        "s = pd.Series([1, 3, 5, np.nan, 6, 8])\n",
        "s"
      ],
      "metadata": {
        "execution": {
          "iopub.status.busy": "2023-08-24T14:30:05.773447Z",
          "iopub.execute_input": "2023-08-24T14:30:05.773791Z",
          "iopub.status.idle": "2023-08-24T14:30:05.790119Z",
          "shell.execute_reply.started": "2023-08-24T14:30:05.773759Z",
          "shell.execute_reply": "2023-08-24T14:30:05.789265Z"
        },
        "trusted": true,
        "id": "50N1PgQjfqX-"
      },
      "execution_count": null,
      "outputs": []
    },
    {
      "cell_type": "code",
      "source": [
        "dates = pd.date_range(\"20130101\", periods=6)\n",
        "dates"
      ],
      "metadata": {
        "execution": {
          "iopub.status.busy": "2023-08-24T14:30:05.791559Z",
          "iopub.execute_input": "2023-08-24T14:30:05.791885Z",
          "iopub.status.idle": "2023-08-24T14:30:05.810959Z",
          "shell.execute_reply.started": "2023-08-24T14:30:05.791857Z",
          "shell.execute_reply": "2023-08-24T14:30:05.809831Z"
        },
        "trusted": true,
        "id": "CrU68Ga_fqX-"
      },
      "execution_count": null,
      "outputs": []
    },
    {
      "cell_type": "code",
      "source": [
        "df = pd.DataFrame(np.random.randn(6, 4), index=dates, columns=list(\"ABCD\"))\n",
        "df"
      ],
      "metadata": {
        "execution": {
          "iopub.status.busy": "2023-08-24T14:30:05.812841Z",
          "iopub.execute_input": "2023-08-24T14:30:05.813203Z",
          "iopub.status.idle": "2023-08-24T14:30:05.833483Z",
          "shell.execute_reply.started": "2023-08-24T14:30:05.813172Z",
          "shell.execute_reply": "2023-08-24T14:30:05.832684Z"
        },
        "trusted": true,
        "id": "Gk5-H7infqX_"
      },
      "execution_count": null,
      "outputs": []
    },
    {
      "cell_type": "code",
      "source": [
        "df2 = pd.DataFrame({\n",
        "\n",
        "\"A\": 1.0,\n",
        "\"B\": pd.Timestamp(\"20130102\"),\n",
        "\"C\": pd.Series(1, index=list(range(4)), dtype=\"float32\"),\n",
        "\"D\": np.array([3] * 4, dtype=\"int32\"),\n",
        "\"E\": pd.Categorical([\"test\", \"train\", \"test\", \"train\"]),\n",
        "\"F\": \"foo\"\n",
        "\n",
        "})\n",
        "\n",
        "df2"
      ],
      "metadata": {
        "execution": {
          "iopub.status.busy": "2023-08-24T14:30:05.834771Z",
          "iopub.execute_input": "2023-08-24T14:30:05.835164Z",
          "iopub.status.idle": "2023-08-24T14:30:05.861636Z",
          "shell.execute_reply.started": "2023-08-24T14:30:05.835132Z",
          "shell.execute_reply": "2023-08-24T14:30:05.860715Z"
        },
        "trusted": true,
        "id": "papkBkAYfqYA"
      },
      "execution_count": null,
      "outputs": []
    },
    {
      "cell_type": "code",
      "source": [
        "df2.index"
      ],
      "metadata": {
        "execution": {
          "iopub.status.busy": "2023-08-24T14:30:05.862971Z",
          "iopub.execute_input": "2023-08-24T14:30:05.86396Z",
          "iopub.status.idle": "2023-08-24T14:30:05.871239Z",
          "shell.execute_reply.started": "2023-08-24T14:30:05.863923Z",
          "shell.execute_reply": "2023-08-24T14:30:05.870131Z"
        },
        "trusted": true,
        "id": "z_X7NBQ_fqYB"
      },
      "execution_count": null,
      "outputs": []
    },
    {
      "cell_type": "code",
      "source": [
        "df.to_numpy()"
      ],
      "metadata": {
        "execution": {
          "iopub.status.busy": "2023-08-24T14:30:05.872615Z",
          "iopub.execute_input": "2023-08-24T14:30:05.873197Z",
          "iopub.status.idle": "2023-08-24T14:30:05.890723Z",
          "shell.execute_reply.started": "2023-08-24T14:30:05.873163Z",
          "shell.execute_reply": "2023-08-24T14:30:05.889797Z"
        },
        "trusted": true,
        "id": "pQ6JllvifqYB"
      },
      "execution_count": null,
      "outputs": []
    },
    {
      "cell_type": "code",
      "source": [
        "df2.to_numpy()"
      ],
      "metadata": {
        "execution": {
          "iopub.status.busy": "2023-08-24T14:30:05.892157Z",
          "iopub.execute_input": "2023-08-24T14:30:05.89274Z",
          "iopub.status.idle": "2023-08-24T14:30:05.906526Z",
          "shell.execute_reply.started": "2023-08-24T14:30:05.892708Z",
          "shell.execute_reply": "2023-08-24T14:30:05.90537Z"
        },
        "trusted": true,
        "id": "Z5IWUMnTfqYC"
      },
      "execution_count": null,
      "outputs": []
    },
    {
      "cell_type": "code",
      "source": [
        "df.sort_index(axis=1, ascending=False)"
      ],
      "metadata": {
        "execution": {
          "iopub.status.busy": "2023-08-24T14:30:05.908101Z",
          "iopub.execute_input": "2023-08-24T14:30:05.908775Z",
          "iopub.status.idle": "2023-08-24T14:30:05.925469Z",
          "shell.execute_reply.started": "2023-08-24T14:30:05.908742Z",
          "shell.execute_reply": "2023-08-24T14:30:05.924271Z"
        },
        "trusted": true,
        "id": "hbusWbpSfqYD"
      },
      "execution_count": null,
      "outputs": []
    },
    {
      "cell_type": "code",
      "source": [
        "df.sort_values(by=\"B\")"
      ],
      "metadata": {
        "execution": {
          "iopub.status.busy": "2023-08-24T14:30:05.927144Z",
          "iopub.execute_input": "2023-08-24T14:30:05.927819Z",
          "iopub.status.idle": "2023-08-24T14:30:05.94038Z",
          "shell.execute_reply.started": "2023-08-24T14:30:05.927783Z",
          "shell.execute_reply": "2023-08-24T14:30:05.939481Z"
        },
        "trusted": true,
        "id": "EkCCPy5wfqYD"
      },
      "execution_count": null,
      "outputs": []
    },
    {
      "cell_type": "code",
      "source": [
        "df[0:3]"
      ],
      "metadata": {
        "execution": {
          "iopub.status.busy": "2023-08-24T14:30:05.941819Z",
          "iopub.execute_input": "2023-08-24T14:30:05.942421Z",
          "iopub.status.idle": "2023-08-24T14:30:05.955475Z",
          "shell.execute_reply.started": "2023-08-24T14:30:05.942386Z",
          "shell.execute_reply": "2023-08-24T14:30:05.954601Z"
        },
        "trusted": true,
        "id": "HZVCMweVfqYE"
      },
      "execution_count": null,
      "outputs": []
    },
    {
      "cell_type": "code",
      "source": [
        "df[\"20130102\":\"20130104\"]"
      ],
      "metadata": {
        "execution": {
          "iopub.status.busy": "2023-08-24T14:30:05.95717Z",
          "iopub.execute_input": "2023-08-24T14:30:05.958113Z",
          "iopub.status.idle": "2023-08-24T14:30:05.975165Z",
          "shell.execute_reply.started": "2023-08-24T14:30:05.958076Z",
          "shell.execute_reply": "2023-08-24T14:30:05.974089Z"
        },
        "trusted": true,
        "id": "ysyhjwvdfqYE"
      },
      "execution_count": null,
      "outputs": []
    },
    {
      "cell_type": "code",
      "source": [
        "df.loc[dates[0]]"
      ],
      "metadata": {
        "execution": {
          "iopub.status.busy": "2023-08-24T14:30:05.97654Z",
          "iopub.execute_input": "2023-08-24T14:30:05.977202Z",
          "iopub.status.idle": "2023-08-24T14:30:05.991135Z",
          "shell.execute_reply.started": "2023-08-24T14:30:05.977166Z",
          "shell.execute_reply": "2023-08-24T14:30:05.990034Z"
        },
        "trusted": true,
        "id": "ZH7jwuoPfqYF"
      },
      "execution_count": null,
      "outputs": []
    },
    {
      "cell_type": "code",
      "source": [
        "df.loc[:, [\"A\", \"B\"]]"
      ],
      "metadata": {
        "execution": {
          "iopub.status.busy": "2023-08-24T14:30:05.992958Z",
          "iopub.execute_input": "2023-08-24T14:30:05.993431Z",
          "iopub.status.idle": "2023-08-24T14:30:06.011248Z",
          "shell.execute_reply.started": "2023-08-24T14:30:05.993388Z",
          "shell.execute_reply": "2023-08-24T14:30:06.010035Z"
        },
        "trusted": true,
        "id": "7MZ-DVe2fqYF"
      },
      "execution_count": null,
      "outputs": []
    },
    {
      "cell_type": "code",
      "source": [
        "df.loc[\"20130102\":\"20130104\", [\"A\", \"B\"]]"
      ],
      "metadata": {
        "execution": {
          "iopub.status.busy": "2023-08-24T14:30:06.013049Z",
          "iopub.execute_input": "2023-08-24T14:30:06.013787Z",
          "iopub.status.idle": "2023-08-24T14:30:06.033946Z",
          "shell.execute_reply.started": "2023-08-24T14:30:06.013744Z",
          "shell.execute_reply": "2023-08-24T14:30:06.03258Z"
        },
        "trusted": true,
        "id": "xdoXdz-SfqYG"
      },
      "execution_count": null,
      "outputs": []
    },
    {
      "cell_type": "code",
      "source": [
        "df.loc[\"20130102\", [\"A\", \"B\"]]"
      ],
      "metadata": {
        "execution": {
          "iopub.status.busy": "2023-08-24T14:30:06.035442Z",
          "iopub.execute_input": "2023-08-24T14:30:06.036399Z",
          "iopub.status.idle": "2023-08-24T14:30:06.046291Z",
          "shell.execute_reply.started": "2023-08-24T14:30:06.036353Z",
          "shell.execute_reply": "2023-08-24T14:30:06.045428Z"
        },
        "trusted": true,
        "id": "mzA6GJpDfqYH"
      },
      "execution_count": null,
      "outputs": []
    },
    {
      "cell_type": "code",
      "source": [
        "df.at[dates[0], \"A\"]"
      ],
      "metadata": {
        "execution": {
          "iopub.status.busy": "2023-08-24T14:30:06.04758Z",
          "iopub.execute_input": "2023-08-24T14:30:06.048069Z",
          "iopub.status.idle": "2023-08-24T14:30:06.062324Z",
          "shell.execute_reply.started": "2023-08-24T14:30:06.048033Z",
          "shell.execute_reply": "2023-08-24T14:30:06.061123Z"
        },
        "trusted": true,
        "id": "ZpcBG0GOfqYH"
      },
      "execution_count": null,
      "outputs": []
    },
    {
      "cell_type": "code",
      "source": [
        "df.iloc[3]"
      ],
      "metadata": {
        "execution": {
          "iopub.status.busy": "2023-08-24T14:30:06.06376Z",
          "iopub.execute_input": "2023-08-24T14:30:06.064705Z",
          "iopub.status.idle": "2023-08-24T14:30:06.079928Z",
          "shell.execute_reply.started": "2023-08-24T14:30:06.064657Z",
          "shell.execute_reply": "2023-08-24T14:30:06.078938Z"
        },
        "trusted": true,
        "id": "ucm0nHl-fqYI"
      },
      "execution_count": null,
      "outputs": []
    },
    {
      "cell_type": "code",
      "source": [
        "df.iloc[3:5, 0:2]"
      ],
      "metadata": {
        "execution": {
          "iopub.status.busy": "2023-08-24T14:30:06.081346Z",
          "iopub.execute_input": "2023-08-24T14:30:06.08189Z",
          "iopub.status.idle": "2023-08-24T14:30:06.098681Z",
          "shell.execute_reply.started": "2023-08-24T14:30:06.081859Z",
          "shell.execute_reply": "2023-08-24T14:30:06.097529Z"
        },
        "trusted": true,
        "id": "egkSMucYfqYJ"
      },
      "execution_count": null,
      "outputs": []
    },
    {
      "cell_type": "code",
      "source": [
        "df.iloc[[1, 2, 4], [0, 2]]"
      ],
      "metadata": {
        "execution": {
          "iopub.status.busy": "2023-08-24T14:30:06.100618Z",
          "iopub.execute_input": "2023-08-24T14:30:06.101236Z",
          "iopub.status.idle": "2023-08-24T14:30:06.113441Z",
          "shell.execute_reply.started": "2023-08-24T14:30:06.101204Z",
          "shell.execute_reply": "2023-08-24T14:30:06.112439Z"
        },
        "trusted": true,
        "id": "13Q1Y1LIfqYJ"
      },
      "execution_count": null,
      "outputs": []
    },
    {
      "cell_type": "code",
      "source": [
        "df.iloc[1:3, :]"
      ],
      "metadata": {
        "execution": {
          "iopub.status.busy": "2023-08-24T14:30:06.115113Z",
          "iopub.execute_input": "2023-08-24T14:30:06.115483Z",
          "iopub.status.idle": "2023-08-24T14:30:06.133859Z",
          "shell.execute_reply.started": "2023-08-24T14:30:06.11545Z",
          "shell.execute_reply": "2023-08-24T14:30:06.13275Z"
        },
        "trusted": true,
        "id": "XdOQDPFIfqYK"
      },
      "execution_count": null,
      "outputs": []
    },
    {
      "cell_type": "code",
      "source": [
        "df.iloc[:, 1:3]"
      ],
      "metadata": {
        "execution": {
          "iopub.status.busy": "2023-08-24T14:30:06.135323Z",
          "iopub.execute_input": "2023-08-24T14:30:06.13604Z",
          "iopub.status.idle": "2023-08-24T14:30:06.153453Z",
          "shell.execute_reply.started": "2023-08-24T14:30:06.135979Z",
          "shell.execute_reply": "2023-08-24T14:30:06.152541Z"
        },
        "trusted": true,
        "id": "WxtEW70UfqYK"
      },
      "execution_count": null,
      "outputs": []
    },
    {
      "cell_type": "code",
      "source": [
        "df.iloc[1, 1]"
      ],
      "metadata": {
        "execution": {
          "iopub.status.busy": "2023-08-24T14:30:06.154793Z",
          "iopub.execute_input": "2023-08-24T14:30:06.155281Z",
          "iopub.status.idle": "2023-08-24T14:30:06.177349Z",
          "shell.execute_reply.started": "2023-08-24T14:30:06.155247Z",
          "shell.execute_reply": "2023-08-24T14:30:06.176229Z"
        },
        "trusted": true,
        "id": "DchtcP3yfqYL"
      },
      "execution_count": null,
      "outputs": []
    },
    {
      "cell_type": "code",
      "source": [
        "df[df[\"A\"] > 0]"
      ],
      "metadata": {
        "execution": {
          "iopub.status.busy": "2023-08-24T14:30:06.178834Z",
          "iopub.execute_input": "2023-08-24T14:30:06.179491Z",
          "iopub.status.idle": "2023-08-24T14:30:06.196739Z",
          "shell.execute_reply.started": "2023-08-24T14:30:06.179451Z",
          "shell.execute_reply": "2023-08-24T14:30:06.195707Z"
        },
        "trusted": true,
        "id": "6JWVLlCGfqYL"
      },
      "execution_count": null,
      "outputs": []
    },
    {
      "cell_type": "code",
      "source": [
        "df[df > 0]"
      ],
      "metadata": {
        "execution": {
          "iopub.status.busy": "2023-08-24T14:30:06.198217Z",
          "iopub.execute_input": "2023-08-24T14:30:06.199067Z",
          "iopub.status.idle": "2023-08-24T14:30:06.212982Z",
          "shell.execute_reply.started": "2023-08-24T14:30:06.199031Z",
          "shell.execute_reply": "2023-08-24T14:30:06.21185Z"
        },
        "trusted": true,
        "id": "qnjvMneqfqYL"
      },
      "execution_count": null,
      "outputs": []
    },
    {
      "cell_type": "code",
      "source": [
        "df2 = df.copy()\n",
        "df2[\"E\"] = [\"one\", \"one\", \"two\", \"three\", \"four\", \"three\"]\n",
        "df2"
      ],
      "metadata": {
        "execution": {
          "iopub.status.busy": "2023-08-24T14:30:06.214323Z",
          "iopub.execute_input": "2023-08-24T14:30:06.214868Z",
          "iopub.status.idle": "2023-08-24T14:30:06.231722Z",
          "shell.execute_reply.started": "2023-08-24T14:30:06.214835Z",
          "shell.execute_reply": "2023-08-24T14:30:06.230598Z"
        },
        "trusted": true,
        "id": "C16PcA5zfqYM"
      },
      "execution_count": null,
      "outputs": []
    },
    {
      "cell_type": "code",
      "source": [
        "df2[df2[\"E\"].isin([\"two\", \"four\"])]"
      ],
      "metadata": {
        "execution": {
          "iopub.status.busy": "2023-08-24T14:30:06.233192Z",
          "iopub.execute_input": "2023-08-24T14:30:06.234036Z",
          "iopub.status.idle": "2023-08-24T14:30:06.253111Z",
          "shell.execute_reply.started": "2023-08-24T14:30:06.233978Z",
          "shell.execute_reply": "2023-08-24T14:30:06.251869Z"
        },
        "trusted": true,
        "id": "w3Wv796ufqYM"
      },
      "execution_count": null,
      "outputs": []
    },
    {
      "cell_type": "code",
      "source": [
        "\n",
        "s1 = pd.Series([1, 2, 3, 4, 5, 6], index=pd.date_range(\"20130102\", periods=6))\n",
        "s1"
      ],
      "metadata": {
        "execution": {
          "iopub.status.busy": "2023-08-24T14:30:06.254291Z",
          "iopub.execute_input": "2023-08-24T14:30:06.254894Z",
          "iopub.status.idle": "2023-08-24T14:30:06.270108Z",
          "shell.execute_reply.started": "2023-08-24T14:30:06.254862Z",
          "shell.execute_reply": "2023-08-24T14:30:06.269225Z"
        },
        "trusted": true,
        "id": "ZDG2RBn3fqYM"
      },
      "execution_count": null,
      "outputs": []
    },
    {
      "cell_type": "code",
      "source": [
        "df.at[dates[0], \"A\"] = 0"
      ],
      "metadata": {
        "execution": {
          "iopub.status.busy": "2023-08-24T14:30:06.271312Z",
          "iopub.execute_input": "2023-08-24T14:30:06.271815Z",
          "iopub.status.idle": "2023-08-24T14:30:06.282412Z",
          "shell.execute_reply.started": "2023-08-24T14:30:06.271777Z",
          "shell.execute_reply": "2023-08-24T14:30:06.281088Z"
        },
        "trusted": true,
        "id": "PBJvUS8tfqYN"
      },
      "execution_count": null,
      "outputs": []
    },
    {
      "cell_type": "code",
      "source": [
        "df.iat[0, 1] = 0"
      ],
      "metadata": {
        "execution": {
          "iopub.status.busy": "2023-08-24T14:30:06.283865Z",
          "iopub.execute_input": "2023-08-24T14:30:06.284394Z",
          "iopub.status.idle": "2023-08-24T14:30:06.295859Z",
          "shell.execute_reply.started": "2023-08-24T14:30:06.284325Z",
          "shell.execute_reply": "2023-08-24T14:30:06.294711Z"
        },
        "trusted": true,
        "id": "Sq4tvUnmfqYN"
      },
      "execution_count": null,
      "outputs": []
    },
    {
      "cell_type": "code",
      "source": [
        "df.loc[:, \"D\"] = np.array([5] * len(df))\n",
        "df"
      ],
      "metadata": {
        "execution": {
          "iopub.status.busy": "2023-08-24T14:30:06.297304Z",
          "iopub.execute_input": "2023-08-24T14:30:06.297648Z",
          "iopub.status.idle": "2023-08-24T14:30:06.317711Z",
          "shell.execute_reply.started": "2023-08-24T14:30:06.297618Z",
          "shell.execute_reply": "2023-08-24T14:30:06.316798Z"
        },
        "trusted": true,
        "id": "6nOq8t2cfqYN"
      },
      "execution_count": null,
      "outputs": []
    },
    {
      "cell_type": "code",
      "source": [
        "df2 = df.copy()\n",
        "df2[df2 > 0] = -df2\n",
        "df2"
      ],
      "metadata": {
        "execution": {
          "iopub.status.busy": "2023-08-24T14:30:06.319139Z",
          "iopub.execute_input": "2023-08-24T14:30:06.32017Z",
          "iopub.status.idle": "2023-08-24T14:30:06.336323Z",
          "shell.execute_reply.started": "2023-08-24T14:30:06.320122Z",
          "shell.execute_reply": "2023-08-24T14:30:06.334855Z"
        },
        "trusted": true,
        "id": "xq4-Abu2fqYO"
      },
      "execution_count": null,
      "outputs": []
    },
    {
      "cell_type": "code",
      "source": [
        "df1 = df.reindex(index=dates[0:4], columns=list(df.columns) + [\"E\"])\n",
        "df1.loc[dates[0] : dates[1], \"E\"] = 1\n",
        "df1"
      ],
      "metadata": {
        "execution": {
          "iopub.status.busy": "2023-08-24T14:30:06.338117Z",
          "iopub.execute_input": "2023-08-24T14:30:06.338477Z",
          "iopub.status.idle": "2023-08-24T14:30:06.355691Z",
          "shell.execute_reply.started": "2023-08-24T14:30:06.338447Z",
          "shell.execute_reply": "2023-08-24T14:30:06.354358Z"
        },
        "trusted": true,
        "id": "ZlX0FQ11fqYO"
      },
      "execution_count": null,
      "outputs": []
    },
    {
      "cell_type": "code",
      "source": [
        "df1.dropna(how=\"any\")"
      ],
      "metadata": {
        "execution": {
          "iopub.status.busy": "2023-08-24T14:30:06.357529Z",
          "iopub.execute_input": "2023-08-24T14:30:06.358541Z",
          "iopub.status.idle": "2023-08-24T14:30:06.378884Z",
          "shell.execute_reply.started": "2023-08-24T14:30:06.35849Z",
          "shell.execute_reply": "2023-08-24T14:30:06.377541Z"
        },
        "trusted": true,
        "id": "pdOsxXxIfqYP"
      },
      "execution_count": null,
      "outputs": []
    },
    {
      "cell_type": "code",
      "source": [
        "df1.fillna(value=5)"
      ],
      "metadata": {
        "execution": {
          "iopub.status.busy": "2023-08-24T14:30:06.380698Z",
          "iopub.execute_input": "2023-08-24T14:30:06.381857Z",
          "iopub.status.idle": "2023-08-24T14:30:06.398719Z",
          "shell.execute_reply.started": "2023-08-24T14:30:06.381804Z",
          "shell.execute_reply": "2023-08-24T14:30:06.397345Z"
        },
        "trusted": true,
        "id": "NTse_BrTfqYQ"
      },
      "execution_count": null,
      "outputs": []
    },
    {
      "cell_type": "code",
      "source": [
        "pd.isna(df1)"
      ],
      "metadata": {
        "execution": {
          "iopub.status.busy": "2023-08-24T14:30:06.400409Z",
          "iopub.execute_input": "2023-08-24T14:30:06.401317Z",
          "iopub.status.idle": "2023-08-24T14:30:06.418916Z",
          "shell.execute_reply.started": "2023-08-24T14:30:06.401266Z",
          "shell.execute_reply": "2023-08-24T14:30:06.417676Z"
        },
        "trusted": true,
        "id": "ws21BnE2fqYR"
      },
      "execution_count": null,
      "outputs": []
    },
    {
      "cell_type": "code",
      "source": [
        "df.mean()"
      ],
      "metadata": {
        "execution": {
          "iopub.status.busy": "2023-08-24T14:30:06.42053Z",
          "iopub.execute_input": "2023-08-24T14:30:06.421019Z",
          "iopub.status.idle": "2023-08-24T14:30:06.436886Z",
          "shell.execute_reply.started": "2023-08-24T14:30:06.420953Z",
          "shell.execute_reply": "2023-08-24T14:30:06.435598Z"
        },
        "trusted": true,
        "id": "NpL4j9u5fqYS"
      },
      "execution_count": null,
      "outputs": []
    },
    {
      "cell_type": "code",
      "source": [
        "df.mean(1)"
      ],
      "metadata": {
        "execution": {
          "iopub.status.busy": "2023-08-24T14:30:06.438447Z",
          "iopub.execute_input": "2023-08-24T14:30:06.439381Z",
          "iopub.status.idle": "2023-08-24T14:30:06.455054Z",
          "shell.execute_reply.started": "2023-08-24T14:30:06.43934Z",
          "shell.execute_reply": "2023-08-24T14:30:06.45391Z"
        },
        "trusted": true,
        "id": "1zIr4zV3fqYT"
      },
      "execution_count": null,
      "outputs": []
    },
    {
      "cell_type": "code",
      "source": [
        "s = pd.Series([1, 3, 5, np.nan, 6, 8], index=dates).shift(2)\n",
        "s"
      ],
      "metadata": {
        "execution": {
          "iopub.status.busy": "2023-08-24T14:30:06.456814Z",
          "iopub.execute_input": "2023-08-24T14:30:06.457549Z",
          "iopub.status.idle": "2023-08-24T14:30:06.472434Z",
          "shell.execute_reply.started": "2023-08-24T14:30:06.457506Z",
          "shell.execute_reply": "2023-08-24T14:30:06.471542Z"
        },
        "trusted": true,
        "id": "9YKYYPPhfqYT"
      },
      "execution_count": null,
      "outputs": []
    },
    {
      "cell_type": "code",
      "source": [
        "df.sub(s, axis=\"index\")"
      ],
      "metadata": {
        "execution": {
          "iopub.status.busy": "2023-08-24T14:30:06.473823Z",
          "iopub.execute_input": "2023-08-24T14:30:06.474937Z",
          "iopub.status.idle": "2023-08-24T14:30:06.495015Z",
          "shell.execute_reply.started": "2023-08-24T14:30:06.474896Z",
          "shell.execute_reply": "2023-08-24T14:30:06.494054Z"
        },
        "trusted": true,
        "id": "3oKD9-p1fqYU"
      },
      "execution_count": null,
      "outputs": []
    },
    {
      "cell_type": "code",
      "source": [
        "df.apply(np.cumsum)"
      ],
      "metadata": {
        "execution": {
          "iopub.status.busy": "2023-08-24T14:30:06.496358Z",
          "iopub.execute_input": "2023-08-24T14:30:06.497663Z",
          "iopub.status.idle": "2023-08-24T14:30:06.511662Z",
          "shell.execute_reply.started": "2023-08-24T14:30:06.497625Z",
          "shell.execute_reply": "2023-08-24T14:30:06.510737Z"
        },
        "trusted": true,
        "id": "FpdiZRuLfqYU"
      },
      "execution_count": null,
      "outputs": []
    },
    {
      "cell_type": "code",
      "source": [
        "df.apply(lambda x: x.max() - x.min())"
      ],
      "metadata": {
        "execution": {
          "iopub.status.busy": "2023-08-24T14:30:06.513176Z",
          "iopub.execute_input": "2023-08-24T14:30:06.513608Z",
          "iopub.status.idle": "2023-08-24T14:30:06.529076Z",
          "shell.execute_reply.started": "2023-08-24T14:30:06.513574Z",
          "shell.execute_reply": "2023-08-24T14:30:06.527883Z"
        },
        "trusted": true,
        "id": "1p7k9v2qfqYU"
      },
      "execution_count": null,
      "outputs": []
    },
    {
      "cell_type": "code",
      "source": [],
      "metadata": {
        "id": "Vp-7YGVrfqYV"
      },
      "execution_count": null,
      "outputs": []
    }
  ]
}