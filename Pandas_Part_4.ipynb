{
  "metadata": {
    "kernelspec": {
      "language": "python",
      "display_name": "Python 3",
      "name": "python3"
    },
    "language_info": {
      "pygments_lexer": "ipython3",
      "nbconvert_exporter": "python",
      "version": "3.6.4",
      "file_extension": ".py",
      "codemirror_mode": {
        "name": "ipython",
        "version": 3
      },
      "name": "python",
      "mimetype": "text/x-python"
    },
    "colab": {
      "name": "🐼Pandas 🛠⚒ toolkit for 👨👩Beginners Part 4",
      "provenance": [],
      "include_colab_link": true
    }
  },
  "nbformat_minor": 0,
  "nbformat": 4,
  "cells": [
    {
      "cell_type": "markdown",
      "metadata": {
        "id": "view-in-github",
        "colab_type": "text"
      },
      "source": [
        "<a href=\"https://colab.research.google.com/github/Mohit-Jangid/Pandas/blob/main/Pandas_Part_4.ipynb\" target=\"_parent\"><img src=\"https://colab.research.google.com/assets/colab-badge.svg\" alt=\"Open In Colab\"/></a>"
      ]
    },
    {
      "source": [
        "\n",
        "# IMPORTANT: RUN THIS CELL IN ORDER TO IMPORT YOUR KAGGLE DATA SOURCES\n",
        "# TO THE CORRECT LOCATION (/kaggle/input) IN YOUR NOTEBOOK,\n",
        "# THEN FEEL FREE TO DELETE THIS CELL.\n",
        "# NOTE: THIS NOTEBOOK ENVIRONMENT DIFFERS FROM KAGGLE'S PYTHON\n",
        "# ENVIRONMENT SO THERE MAY BE MISSING LIBRARIES USED BY YOUR\n",
        "# NOTEBOOK.\n",
        "\n",
        "import os\n",
        "import sys\n",
        "from tempfile import NamedTemporaryFile\n",
        "from urllib.request import urlopen\n",
        "from urllib.parse import unquote, urlparse\n",
        "from urllib.error import HTTPError\n",
        "from zipfile import ZipFile\n",
        "import tarfile\n",
        "import shutil\n",
        "\n",
        "CHUNK_SIZE = 40960\n",
        "DATA_SOURCE_MAPPING = 'airquality3:https%3A%2F%2Fstorage.googleapis.com%2Fkaggle-data-sets%2F3638119%2F6321894%2Fbundle%2Farchive.zip%3FX-Goog-Algorithm%3DGOOG4-RSA-SHA256%26X-Goog-Credential%3Dgcp-kaggle-com%2540kaggle-161607.iam.gserviceaccount.com%252F20240701%252Fauto%252Fstorage%252Fgoog4_request%26X-Goog-Date%3D20240701T184037Z%26X-Goog-Expires%3D259200%26X-Goog-SignedHeaders%3Dhost%26X-Goog-Signature%3Db1ef97c514aa8f16208fa1b96043e5a2b08bef855c1f394af6585e004b4f7b0a9dd027486c8df2ca466df754253f365017c72419e2940f3bff658ba8ff1f603a93ba7c03eed6007532413bf5bc0ba5f88d0c14ec937e3cc6906061164a6090038f0bc016d16196b4f8374a9af503ee6f17b54b97afe54a5bf0e8f5478271eed016ac9c2ff37d019f6254209f3e9973fdf3c02800247cb137acd20977f92999976feff58402d975049305c751e8f010e20e4a413a68a6ef6e04e46b1c630fcfe9a144d669382c0fbaf2593677ba45ea8a99691389bb2156f5b1ed8b0f465911fe5f0affd905170ed2f44baff7e3519d9944805a4901761dedb6a8a6d71bda21bd'\n",
        "\n",
        "KAGGLE_INPUT_PATH='/kaggle/input'\n",
        "KAGGLE_WORKING_PATH='/kaggle/working'\n",
        "KAGGLE_SYMLINK='kaggle'\n",
        "\n",
        "!umount /kaggle/input/ 2> /dev/null\n",
        "shutil.rmtree('/kaggle/input', ignore_errors=True)\n",
        "os.makedirs(KAGGLE_INPUT_PATH, 0o777, exist_ok=True)\n",
        "os.makedirs(KAGGLE_WORKING_PATH, 0o777, exist_ok=True)\n",
        "\n",
        "try:\n",
        "  os.symlink(KAGGLE_INPUT_PATH, os.path.join(\"..\", 'input'), target_is_directory=True)\n",
        "except FileExistsError:\n",
        "  pass\n",
        "try:\n",
        "  os.symlink(KAGGLE_WORKING_PATH, os.path.join(\"..\", 'working'), target_is_directory=True)\n",
        "except FileExistsError:\n",
        "  pass\n",
        "\n",
        "for data_source_mapping in DATA_SOURCE_MAPPING.split(','):\n",
        "    directory, download_url_encoded = data_source_mapping.split(':')\n",
        "    download_url = unquote(download_url_encoded)\n",
        "    filename = urlparse(download_url).path\n",
        "    destination_path = os.path.join(KAGGLE_INPUT_PATH, directory)\n",
        "    try:\n",
        "        with urlopen(download_url) as fileres, NamedTemporaryFile() as tfile:\n",
        "            total_length = fileres.headers['content-length']\n",
        "            print(f'Downloading {directory}, {total_length} bytes compressed')\n",
        "            dl = 0\n",
        "            data = fileres.read(CHUNK_SIZE)\n",
        "            while len(data) > 0:\n",
        "                dl += len(data)\n",
        "                tfile.write(data)\n",
        "                done = int(50 * dl / int(total_length))\n",
        "                sys.stdout.write(f\"\\r[{'=' * done}{' ' * (50-done)}] {dl} bytes downloaded\")\n",
        "                sys.stdout.flush()\n",
        "                data = fileres.read(CHUNK_SIZE)\n",
        "            if filename.endswith('.zip'):\n",
        "              with ZipFile(tfile) as zfile:\n",
        "                zfile.extractall(destination_path)\n",
        "            else:\n",
        "              with tarfile.open(tfile.name) as tarfile:\n",
        "                tarfile.extractall(destination_path)\n",
        "            print(f'\\nDownloaded and uncompressed: {directory}')\n",
        "    except HTTPError as e:\n",
        "        print(f'Failed to load (likely expired) {download_url} to path {destination_path}')\n",
        "        continue\n",
        "    except OSError as e:\n",
        "        print(f'Failed to load {download_url} to path {destination_path}')\n",
        "        continue\n",
        "\n",
        "print('Data source import complete.')\n"
      ],
      "metadata": {
        "id": "rxx24szpmDkz"
      },
      "cell_type": "code",
      "outputs": [],
      "execution_count": null
    },
    {
      "cell_type": "markdown",
      "source": [
        "<div style=\"color:white;background-color:Black;padding:3%;border-radius:150px 150px;font-size:2.5em;text-align:center\">Pandas toolkit Part 4</div>"
      ],
      "metadata": {
        "id": "ROGNNjZ2mDlX"
      }
    },
    {
      "cell_type": "markdown",
      "source": [
        "<center>\n",
        "<img src=\"https://i1.wp.com/www.datascienceexamples.com/wp-content/uploads/2019/10/python-and-pandas.jpg?resize=800%2C286&ssl=1\" width=1200>\n",
        "</center>"
      ],
      "metadata": {
        "id": "U87DfTZHmDld"
      }
    },
    {
      "cell_type": "code",
      "source": [
        "import pandas as pd\n",
        "import numpy as np"
      ],
      "metadata": {
        "execution": {
          "iopub.status.busy": "2023-08-19T08:08:51.510172Z",
          "iopub.execute_input": "2023-08-19T08:08:51.510896Z",
          "iopub.status.idle": "2023-08-19T08:08:51.52315Z",
          "shell.execute_reply.started": "2023-08-19T08:08:51.51085Z",
          "shell.execute_reply": "2023-08-19T08:08:51.521787Z"
        },
        "trusted": true,
        "id": "YQZAdm3qmDlg"
      },
      "execution_count": null,
      "outputs": []
    },
    {
      "cell_type": "code",
      "source": [
        "df = pd.DataFrame(\n",
        "{\n",
        "\"one\": pd.Series(np.random.randn(3), index=[\"a\", \"b\", \"c\"]),\n",
        "\"two\": pd.Series(np.random.randn(4), index=[\"a\", \"b\", \"c\", \"d\"]),\n",
        "\"three\": pd.Series(np.random.randn(3), index=[\"b\", \"c\", \"d\"]),\n",
        "}\n",
        ")\n",
        "unsorted_df = df.reindex(\n",
        "index=[\"a\", \"d\", \"c\", \"b\"], columns=[\"three\", \"two\", \"one\"]\n",
        ")\n",
        "\n",
        "unsorted_df"
      ],
      "metadata": {
        "execution": {
          "iopub.status.busy": "2023-08-19T08:08:51.524638Z",
          "iopub.execute_input": "2023-08-19T08:08:51.525369Z",
          "iopub.status.idle": "2023-08-19T08:08:51.556718Z",
          "shell.execute_reply.started": "2023-08-19T08:08:51.525326Z",
          "shell.execute_reply": "2023-08-19T08:08:51.555557Z"
        },
        "trusted": true,
        "id": "iXVi5JaxmDli"
      },
      "execution_count": null,
      "outputs": []
    },
    {
      "cell_type": "code",
      "source": [
        "unsorted_df.sort_index()"
      ],
      "metadata": {
        "execution": {
          "iopub.status.busy": "2023-08-19T08:08:51.558261Z",
          "iopub.execute_input": "2023-08-19T08:08:51.558603Z",
          "iopub.status.idle": "2023-08-19T08:08:51.571389Z",
          "shell.execute_reply.started": "2023-08-19T08:08:51.558573Z",
          "shell.execute_reply": "2023-08-19T08:08:51.570506Z"
        },
        "trusted": true,
        "id": "r6i7PiUGmDlj"
      },
      "execution_count": null,
      "outputs": []
    },
    {
      "cell_type": "code",
      "source": [
        "unsorted_df.sort_index(ascending=False)"
      ],
      "metadata": {
        "execution": {
          "iopub.status.busy": "2023-08-19T08:08:51.574259Z",
          "iopub.execute_input": "2023-08-19T08:08:51.574803Z",
          "iopub.status.idle": "2023-08-19T08:08:51.597663Z",
          "shell.execute_reply.started": "2023-08-19T08:08:51.574773Z",
          "shell.execute_reply": "2023-08-19T08:08:51.59662Z"
        },
        "trusted": true,
        "id": "X3U-Afx-mDlk"
      },
      "execution_count": null,
      "outputs": []
    },
    {
      "cell_type": "code",
      "source": [
        "unsorted_df.sort_index(axis=1)"
      ],
      "metadata": {
        "execution": {
          "iopub.status.busy": "2023-08-19T08:08:51.599058Z",
          "iopub.execute_input": "2023-08-19T08:08:51.599416Z",
          "iopub.status.idle": "2023-08-19T08:08:51.617961Z",
          "shell.execute_reply.started": "2023-08-19T08:08:51.59938Z",
          "shell.execute_reply": "2023-08-19T08:08:51.616601Z"
        },
        "trusted": true,
        "id": "ONEdX0b-mDll"
      },
      "execution_count": null,
      "outputs": []
    },
    {
      "cell_type": "code",
      "source": [
        "unsorted_df[\"three\"].sort_index()"
      ],
      "metadata": {
        "execution": {
          "iopub.status.busy": "2023-08-19T08:08:51.61958Z",
          "iopub.execute_input": "2023-08-19T08:08:51.61991Z",
          "iopub.status.idle": "2023-08-19T08:08:51.632133Z",
          "shell.execute_reply.started": "2023-08-19T08:08:51.619881Z",
          "shell.execute_reply": "2023-08-19T08:08:51.631265Z"
        },
        "trusted": true,
        "id": "8n77v9lemDln"
      },
      "execution_count": null,
      "outputs": []
    },
    {
      "cell_type": "code",
      "source": [
        "s1 = pd.DataFrame({\"a\": [\"B\", \"a\", \"C\"], \"b\": [1, 2, 3], \"c\": [2, 3, 4]}).set_index(list(\"ab\"))\n",
        "s1"
      ],
      "metadata": {
        "execution": {
          "iopub.status.busy": "2023-08-19T08:08:51.633626Z",
          "iopub.execute_input": "2023-08-19T08:08:51.634209Z",
          "iopub.status.idle": "2023-08-19T08:08:51.64855Z",
          "shell.execute_reply.started": "2023-08-19T08:08:51.634143Z",
          "shell.execute_reply": "2023-08-19T08:08:51.647551Z"
        },
        "trusted": true,
        "id": "AVsaSourmDlo"
      },
      "execution_count": null,
      "outputs": []
    },
    {
      "cell_type": "code",
      "source": [
        "s1.sort_index(level=\"a\")"
      ],
      "metadata": {
        "execution": {
          "iopub.status.busy": "2023-08-19T08:08:51.650238Z",
          "iopub.execute_input": "2023-08-19T08:08:51.651051Z",
          "iopub.status.idle": "2023-08-19T08:08:51.662154Z",
          "shell.execute_reply.started": "2023-08-19T08:08:51.65101Z",
          "shell.execute_reply": "2023-08-19T08:08:51.661258Z"
        },
        "trusted": true,
        "id": "gMR9T1H1mDlp"
      },
      "execution_count": null,
      "outputs": []
    },
    {
      "cell_type": "code",
      "source": [
        "s1.sort_index(level=\"a\", key=lambda idx: idx.str.lower())"
      ],
      "metadata": {
        "execution": {
          "iopub.status.busy": "2023-08-19T08:08:51.663681Z",
          "iopub.execute_input": "2023-08-19T08:08:51.664609Z",
          "iopub.status.idle": "2023-08-19T08:08:51.677799Z",
          "shell.execute_reply.started": "2023-08-19T08:08:51.664568Z",
          "shell.execute_reply": "2023-08-19T08:08:51.676937Z"
        },
        "trusted": true,
        "id": "uGZli-PHmDlq"
      },
      "execution_count": null,
      "outputs": []
    },
    {
      "cell_type": "code",
      "source": [
        "df1 = pd.DataFrame({\"one\": [2, 1, 1, 1], \"two\": [1, 3, 2, 4], \"three\": [5, 4, 3, 2]})\n",
        "\n",
        "df1.sort_values(by=\"two\")"
      ],
      "metadata": {
        "execution": {
          "iopub.status.busy": "2023-08-19T08:08:51.679585Z",
          "iopub.execute_input": "2023-08-19T08:08:51.680285Z",
          "iopub.status.idle": "2023-08-19T08:08:51.693702Z",
          "shell.execute_reply.started": "2023-08-19T08:08:51.680243Z",
          "shell.execute_reply": "2023-08-19T08:08:51.692549Z"
        },
        "trusted": true,
        "id": "qcAmUzWOmDlr"
      },
      "execution_count": null,
      "outputs": []
    },
    {
      "cell_type": "code",
      "source": [
        "df1[[\"one\", \"two\", \"three\"]].sort_values(by=[\"one\", \"two\"])"
      ],
      "metadata": {
        "execution": {
          "iopub.status.busy": "2023-08-19T08:08:51.694899Z",
          "iopub.execute_input": "2023-08-19T08:08:51.695257Z",
          "iopub.status.idle": "2023-08-19T08:08:51.713936Z",
          "shell.execute_reply.started": "2023-08-19T08:08:51.695218Z",
          "shell.execute_reply": "2023-08-19T08:08:51.712433Z"
        },
        "trusted": true,
        "id": "zwIZyTapmDls"
      },
      "execution_count": null,
      "outputs": []
    },
    {
      "cell_type": "code",
      "source": [
        "s = pd.Series(np.random.randn(5), index=[\"a\", \"b\", \"c\", \"d\", \"e\"])\n",
        "s"
      ],
      "metadata": {
        "execution": {
          "iopub.status.busy": "2023-08-19T08:08:51.715972Z",
          "iopub.execute_input": "2023-08-19T08:08:51.716424Z",
          "iopub.status.idle": "2023-08-19T08:08:51.731271Z",
          "shell.execute_reply.started": "2023-08-19T08:08:51.716375Z",
          "shell.execute_reply": "2023-08-19T08:08:51.729967Z"
        },
        "trusted": true,
        "id": "4eL_J8RgmDls"
      },
      "execution_count": null,
      "outputs": []
    },
    {
      "cell_type": "code",
      "source": [
        "s[2] = np.nan\n",
        "s.sort_values()"
      ],
      "metadata": {
        "execution": {
          "iopub.status.busy": "2023-08-19T08:08:51.738868Z",
          "iopub.execute_input": "2023-08-19T08:08:51.739857Z",
          "iopub.status.idle": "2023-08-19T08:08:51.749145Z",
          "shell.execute_reply.started": "2023-08-19T08:08:51.73981Z",
          "shell.execute_reply": "2023-08-19T08:08:51.748246Z"
        },
        "trusted": true,
        "id": "jbeeFQwvmDlt"
      },
      "execution_count": null,
      "outputs": []
    },
    {
      "cell_type": "code",
      "source": [
        "s.sort_values(na_position=\"first\")"
      ],
      "metadata": {
        "execution": {
          "iopub.status.busy": "2023-08-19T08:08:51.750484Z",
          "iopub.execute_input": "2023-08-19T08:08:51.751511Z",
          "iopub.status.idle": "2023-08-19T08:08:51.763779Z",
          "shell.execute_reply.started": "2023-08-19T08:08:51.751471Z",
          "shell.execute_reply": "2023-08-19T08:08:51.762862Z"
        },
        "trusted": true,
        "id": "32o7FCq7mDlt"
      },
      "execution_count": null,
      "outputs": []
    },
    {
      "cell_type": "code",
      "source": [
        "s1 = pd.Series([\"B\", \"a\", \"C\"])\n",
        "s1.sort_values()"
      ],
      "metadata": {
        "execution": {
          "iopub.status.busy": "2023-08-19T08:08:51.765101Z",
          "iopub.execute_input": "2023-08-19T08:08:51.766475Z",
          "iopub.status.idle": "2023-08-19T08:08:51.779989Z",
          "shell.execute_reply.started": "2023-08-19T08:08:51.766434Z",
          "shell.execute_reply": "2023-08-19T08:08:51.778612Z"
        },
        "trusted": true,
        "id": "kyP2b3lWmDlu"
      },
      "execution_count": null,
      "outputs": []
    },
    {
      "cell_type": "code",
      "source": [
        "df = pd.DataFrame({\"a\": [\"B\", \"a\", \"C\"], \"b\": [1, 2, 3]})\n",
        "df.sort_values(by=\"a\")"
      ],
      "metadata": {
        "execution": {
          "iopub.status.busy": "2023-08-19T08:08:51.78331Z",
          "iopub.execute_input": "2023-08-19T08:08:51.783967Z",
          "iopub.status.idle": "2023-08-19T08:08:51.800883Z",
          "shell.execute_reply.started": "2023-08-19T08:08:51.783923Z",
          "shell.execute_reply": "2023-08-19T08:08:51.799662Z"
        },
        "trusted": true,
        "id": "Tw98P1xUmDlu"
      },
      "execution_count": null,
      "outputs": []
    },
    {
      "cell_type": "code",
      "source": [
        "df.sort_values(by=\"a\", key=lambda col: col.str.lower())"
      ],
      "metadata": {
        "execution": {
          "iopub.status.busy": "2023-08-19T08:08:51.803002Z",
          "iopub.execute_input": "2023-08-19T08:08:51.803456Z",
          "iopub.status.idle": "2023-08-19T08:08:51.818456Z",
          "shell.execute_reply.started": "2023-08-19T08:08:51.803416Z",
          "shell.execute_reply": "2023-08-19T08:08:51.817041Z"
        },
        "trusted": true,
        "id": "e0GxdkhnmDlv"
      },
      "execution_count": null,
      "outputs": []
    },
    {
      "cell_type": "code",
      "source": [
        "idx = pd.MultiIndex.from_tuples([(\"a\", 1), (\"a\", 2), (\"a\", 2), (\"b\", 2), (\"b\", 1), (\"b\", 1)])\n",
        "idx.names = [\"first\", \"second\"]\n",
        "df_multi = pd.DataFrame({\"A\": np.arange(6, 0, -1)}, index=idx)\n",
        "df_multi"
      ],
      "metadata": {
        "execution": {
          "iopub.status.busy": "2023-08-19T08:08:51.820625Z",
          "iopub.execute_input": "2023-08-19T08:08:51.821123Z",
          "iopub.status.idle": "2023-08-19T08:08:51.839751Z",
          "shell.execute_reply.started": "2023-08-19T08:08:51.821082Z",
          "shell.execute_reply": "2023-08-19T08:08:51.837959Z"
        },
        "trusted": true,
        "id": "lzTgJGiHmDlv"
      },
      "execution_count": null,
      "outputs": []
    },
    {
      "cell_type": "code",
      "source": [
        "df_multi.sort_values(by=[\"second\", \"A\"])"
      ],
      "metadata": {
        "execution": {
          "iopub.status.busy": "2023-08-19T08:08:51.84162Z",
          "iopub.execute_input": "2023-08-19T08:08:51.842098Z",
          "iopub.status.idle": "2023-08-19T08:08:51.860496Z",
          "shell.execute_reply.started": "2023-08-19T08:08:51.842058Z",
          "shell.execute_reply": "2023-08-19T08:08:51.858878Z"
        },
        "trusted": true,
        "id": "B7hY85ytmDlw"
      },
      "execution_count": null,
      "outputs": []
    },
    {
      "cell_type": "code",
      "source": [
        "ser = pd.Series([1, 2, 3])\n",
        "ser.searchsorted([0, 3])"
      ],
      "metadata": {
        "execution": {
          "iopub.status.busy": "2023-08-19T08:08:51.862773Z",
          "iopub.execute_input": "2023-08-19T08:08:51.863274Z",
          "iopub.status.idle": "2023-08-19T08:08:51.879052Z",
          "shell.execute_reply.started": "2023-08-19T08:08:51.863231Z",
          "shell.execute_reply": "2023-08-19T08:08:51.877781Z"
        },
        "trusted": true,
        "id": "urmL8pvqmDlw"
      },
      "execution_count": null,
      "outputs": []
    },
    {
      "cell_type": "code",
      "source": [
        "ser.searchsorted([0, 4])"
      ],
      "metadata": {
        "execution": {
          "iopub.status.busy": "2023-08-19T08:08:51.881359Z",
          "iopub.execute_input": "2023-08-19T08:08:51.882518Z",
          "iopub.status.idle": "2023-08-19T08:08:51.892492Z",
          "shell.execute_reply.started": "2023-08-19T08:08:51.882469Z",
          "shell.execute_reply": "2023-08-19T08:08:51.890996Z"
        },
        "trusted": true,
        "id": "c2_7xMsmmDlx"
      },
      "execution_count": null,
      "outputs": []
    },
    {
      "cell_type": "code",
      "source": [
        "ser.searchsorted([0, 3], sorter=np.argsort(ser))"
      ],
      "metadata": {
        "execution": {
          "iopub.status.busy": "2023-08-19T08:08:51.895933Z",
          "iopub.execute_input": "2023-08-19T08:08:51.899598Z",
          "iopub.status.idle": "2023-08-19T08:08:51.908637Z",
          "shell.execute_reply.started": "2023-08-19T08:08:51.899527Z",
          "shell.execute_reply": "2023-08-19T08:08:51.907399Z"
        },
        "trusted": true,
        "id": "J-jGWjMWmDlx"
      },
      "execution_count": null,
      "outputs": []
    },
    {
      "cell_type": "code",
      "source": [
        "s = pd.Series(np.random.permutation(10))\n",
        "s"
      ],
      "metadata": {
        "execution": {
          "iopub.status.busy": "2023-08-19T08:08:51.910859Z",
          "iopub.execute_input": "2023-08-19T08:08:51.911485Z",
          "iopub.status.idle": "2023-08-19T08:08:51.927209Z",
          "shell.execute_reply.started": "2023-08-19T08:08:51.911443Z",
          "shell.execute_reply": "2023-08-19T08:08:51.925707Z"
        },
        "trusted": true,
        "id": "SMxK1cbtmDly"
      },
      "execution_count": null,
      "outputs": []
    },
    {
      "cell_type": "code",
      "source": [
        "df = pd.DataFrame({\n",
        "\"a\": [-2, -1, 1, 10, 8, 11, -1],\n",
        "\"b\": list(\"abdceff\"),\n",
        "\"c\": [1.0, 2.0, 4.0, 3.2, np.nan, 3.0, 4.0],\n",
        "})\n",
        "\n",
        "df.nlargest(3, \"a\")"
      ],
      "metadata": {
        "execution": {
          "iopub.status.busy": "2023-08-19T08:08:51.929809Z",
          "iopub.execute_input": "2023-08-19T08:08:51.930357Z",
          "iopub.status.idle": "2023-08-19T08:08:51.951147Z",
          "shell.execute_reply.started": "2023-08-19T08:08:51.930316Z",
          "shell.execute_reply": "2023-08-19T08:08:51.950129Z"
        },
        "trusted": true,
        "id": "e9X3kQmlmDly"
      },
      "execution_count": null,
      "outputs": []
    },
    {
      "cell_type": "code",
      "source": [
        "df1.columns = pd.MultiIndex.from_tuples([(\"a\", \"one\"), (\"a\", \"two\"), (\"b\", \"three\")])\n",
        "\n",
        "df1.sort_values(by=(\"a\", \"two\"))"
      ],
      "metadata": {
        "execution": {
          "iopub.status.busy": "2023-08-19T08:08:51.952497Z",
          "iopub.execute_input": "2023-08-19T08:08:51.953592Z",
          "iopub.status.idle": "2023-08-19T08:08:51.968813Z",
          "shell.execute_reply.started": "2023-08-19T08:08:51.953552Z",
          "shell.execute_reply": "2023-08-19T08:08:51.967697Z"
        },
        "trusted": true,
        "id": "H6Dy5TCRmDly"
      },
      "execution_count": null,
      "outputs": []
    },
    {
      "cell_type": "code",
      "source": [
        "dft = pd.DataFrame({\n",
        "\"A\": np.random.rand(3),\n",
        "\"B\": 1,\n",
        "\"C\": \"foo\",\n",
        "\"D\": pd.Timestamp(\"20010102\"),\n",
        "\"E\": pd.Series([1.0] * 3).astype(\"float32\"),\n",
        "\"F\": False,\n",
        "\"G\": pd.Series([1] * 3, dtype=\"int8\"),\n",
        "})\n",
        "\n",
        "dft"
      ],
      "metadata": {
        "execution": {
          "iopub.status.busy": "2023-08-19T08:08:51.970238Z",
          "iopub.execute_input": "2023-08-19T08:08:51.971453Z",
          "iopub.status.idle": "2023-08-19T08:08:51.993057Z",
          "shell.execute_reply.started": "2023-08-19T08:08:51.97141Z",
          "shell.execute_reply": "2023-08-19T08:08:51.992244Z"
        },
        "trusted": true,
        "id": "Gbef-gm-mDlz"
      },
      "execution_count": null,
      "outputs": []
    },
    {
      "cell_type": "code",
      "source": [
        "df1 = pd.DataFrame(np.random.randn(8, 1), columns=[\"A\"], dtype=\"float32\")\n",
        "df1"
      ],
      "metadata": {
        "execution": {
          "iopub.status.busy": "2023-08-19T08:08:51.994472Z",
          "iopub.execute_input": "2023-08-19T08:08:51.995211Z",
          "iopub.status.idle": "2023-08-19T08:08:52.010084Z",
          "shell.execute_reply.started": "2023-08-19T08:08:51.995135Z",
          "shell.execute_reply": "2023-08-19T08:08:52.008905Z"
        },
        "trusted": true,
        "id": "LUO8h4XGmDlz"
      },
      "execution_count": null,
      "outputs": []
    },
    {
      "cell_type": "code",
      "source": [
        "df2 = pd.DataFrame({\n",
        "\"A\": pd.Series(np.random.randn(8), dtype=\"float16\"),\n",
        "\"B\": pd.Series(np.random.randn(8)),\n",
        "\"C\": pd.Series(np.array(np.random.randn(8), dtype=\"uint8\")),\n",
        "})\n",
        "\n",
        "df2"
      ],
      "metadata": {
        "execution": {
          "iopub.status.busy": "2023-08-19T08:08:52.011569Z",
          "iopub.execute_input": "2023-08-19T08:08:52.011981Z",
          "iopub.status.idle": "2023-08-19T08:08:52.032944Z",
          "shell.execute_reply.started": "2023-08-19T08:08:52.011932Z",
          "shell.execute_reply": "2023-08-19T08:08:52.031836Z"
        },
        "trusted": true,
        "id": "Dlw13iAlmDl0"
      },
      "execution_count": null,
      "outputs": []
    },
    {
      "cell_type": "code",
      "source": [
        "pd.DataFrame([1, 2], columns=[\"a\"]).dtypes"
      ],
      "metadata": {
        "execution": {
          "iopub.status.busy": "2023-08-19T08:08:52.03465Z",
          "iopub.execute_input": "2023-08-19T08:08:52.035105Z",
          "iopub.status.idle": "2023-08-19T08:08:52.044083Z",
          "shell.execute_reply.started": "2023-08-19T08:08:52.035065Z",
          "shell.execute_reply": "2023-08-19T08:08:52.04297Z"
        },
        "trusted": true,
        "id": "SyVz1mPhmDl2"
      },
      "execution_count": null,
      "outputs": []
    },
    {
      "cell_type": "code",
      "source": [
        "pd.DataFrame({\"a\": [1, 2]}).dtypes"
      ],
      "metadata": {
        "execution": {
          "iopub.status.busy": "2023-08-19T08:08:52.045759Z",
          "iopub.execute_input": "2023-08-19T08:08:52.046477Z",
          "iopub.status.idle": "2023-08-19T08:08:52.061059Z",
          "shell.execute_reply.started": "2023-08-19T08:08:52.046436Z",
          "shell.execute_reply": "2023-08-19T08:08:52.060246Z"
        },
        "trusted": true,
        "id": "Hg5_viGomDl3"
      },
      "execution_count": null,
      "outputs": []
    },
    {
      "cell_type": "code",
      "source": [
        "pd.DataFrame({\"a\": 1}, index=list(range(2))).dtypes"
      ],
      "metadata": {
        "execution": {
          "iopub.status.busy": "2023-08-19T08:08:52.062643Z",
          "iopub.execute_input": "2023-08-19T08:08:52.063377Z",
          "iopub.status.idle": "2023-08-19T08:08:52.073031Z",
          "shell.execute_reply.started": "2023-08-19T08:08:52.063337Z",
          "shell.execute_reply": "2023-08-19T08:08:52.072087Z"
        },
        "trusted": true,
        "id": "nEMFWRUamDl4"
      },
      "execution_count": null,
      "outputs": []
    },
    {
      "cell_type": "code",
      "source": [
        "df3 = df1.reindex_like(df2).fillna(value=0.0) + df2\n",
        "df3"
      ],
      "metadata": {
        "execution": {
          "iopub.status.busy": "2023-08-19T08:08:52.074398Z",
          "iopub.execute_input": "2023-08-19T08:08:52.074729Z",
          "iopub.status.idle": "2023-08-19T08:08:52.095523Z",
          "shell.execute_reply.started": "2023-08-19T08:08:52.0747Z",
          "shell.execute_reply": "2023-08-19T08:08:52.094406Z"
        },
        "trusted": true,
        "id": "PqKN2Pa2mDl4"
      },
      "execution_count": null,
      "outputs": []
    },
    {
      "cell_type": "code",
      "source": [
        "df3.to_numpy().dtype"
      ],
      "metadata": {
        "execution": {
          "iopub.status.busy": "2023-08-19T08:08:52.097153Z",
          "iopub.execute_input": "2023-08-19T08:08:52.09819Z",
          "iopub.status.idle": "2023-08-19T08:08:52.107089Z",
          "shell.execute_reply.started": "2023-08-19T08:08:52.098142Z",
          "shell.execute_reply": "2023-08-19T08:08:52.105956Z"
        },
        "trusted": true,
        "id": "76CQf7oWmDl5"
      },
      "execution_count": null,
      "outputs": []
    },
    {
      "cell_type": "code",
      "source": [
        "df3.astype(\"float32\").dtypes"
      ],
      "metadata": {
        "execution": {
          "iopub.status.busy": "2023-08-19T08:08:52.10889Z",
          "iopub.execute_input": "2023-08-19T08:08:52.110271Z",
          "iopub.status.idle": "2023-08-19T08:08:52.122163Z",
          "shell.execute_reply.started": "2023-08-19T08:08:52.110205Z",
          "shell.execute_reply": "2023-08-19T08:08:52.120265Z"
        },
        "trusted": true,
        "id": "5UexJvD8mDl5"
      },
      "execution_count": null,
      "outputs": []
    },
    {
      "cell_type": "code",
      "source": [
        "dft = pd.DataFrame({\"a\": [1, 2, 3], \"b\": [4, 5, 6], \"c\": [7, 8, 9]})\n",
        "dft[[\"a\", \"b\"]] = dft[[\"a\", \"b\"]].astype(np.uint8)\n",
        "dft"
      ],
      "metadata": {
        "execution": {
          "iopub.status.busy": "2023-08-19T08:08:52.123697Z",
          "iopub.execute_input": "2023-08-19T08:08:52.124032Z",
          "iopub.status.idle": "2023-08-19T08:08:52.14092Z",
          "shell.execute_reply.started": "2023-08-19T08:08:52.124002Z",
          "shell.execute_reply": "2023-08-19T08:08:52.139607Z"
        },
        "trusted": true,
        "id": "lujgfM_vmDl6"
      },
      "execution_count": null,
      "outputs": []
    },
    {
      "cell_type": "code",
      "source": [
        "dft1 = pd.DataFrame({\"a\": [1, 0, 1], \"b\": [4, 5, 6], \"c\": [7, 8, 9]})\n",
        "dft1 = dft1.astype({\"a\": np.bool_, \"c\": np.float64})\n",
        "dft1"
      ],
      "metadata": {
        "execution": {
          "iopub.status.busy": "2023-08-19T08:08:52.142033Z",
          "iopub.execute_input": "2023-08-19T08:08:52.142393Z",
          "iopub.status.idle": "2023-08-19T08:08:52.159976Z",
          "shell.execute_reply.started": "2023-08-19T08:08:52.142364Z",
          "shell.execute_reply": "2023-08-19T08:08:52.158774Z"
        },
        "trusted": true,
        "id": "UnYGFtJMmDl6"
      },
      "execution_count": null,
      "outputs": []
    },
    {
      "cell_type": "code",
      "source": [
        "dft = pd.DataFrame({\"a\": [1, 2, 3], \"b\": [4, 5, 6], \"c\": [7, 8, 9]})\n",
        "dft.loc[:, [\"a\", \"b\"]].astype(np.uint8).dtypes"
      ],
      "metadata": {
        "execution": {
          "iopub.status.busy": "2023-08-19T08:08:52.161757Z",
          "iopub.execute_input": "2023-08-19T08:08:52.162481Z",
          "iopub.status.idle": "2023-08-19T08:08:52.173442Z",
          "shell.execute_reply.started": "2023-08-19T08:08:52.162441Z",
          "shell.execute_reply": "2023-08-19T08:08:52.172249Z"
        },
        "trusted": true,
        "id": "YIdeWAD4mDmJ"
      },
      "execution_count": null,
      "outputs": []
    },
    {
      "cell_type": "code",
      "source": [
        "dft.loc[:, [\"a\", \"b\"]] = dft.loc[:, [\"a\", \"b\"]].astype(np.uint8)\n",
        "dft.dtypes"
      ],
      "metadata": {
        "execution": {
          "iopub.status.busy": "2023-08-19T08:08:52.174632Z",
          "iopub.execute_input": "2023-08-19T08:08:52.175545Z",
          "iopub.status.idle": "2023-08-19T08:08:52.191343Z",
          "shell.execute_reply.started": "2023-08-19T08:08:52.175441Z",
          "shell.execute_reply": "2023-08-19T08:08:52.190378Z"
        },
        "trusted": true,
        "id": "BigbOGh9mDmK"
      },
      "execution_count": null,
      "outputs": []
    },
    {
      "cell_type": "code",
      "source": [
        "import datetime\n",
        "df = pd.DataFrame(\n",
        "[\n",
        "[1, 2],\n",
        "[\"a\", \"b\"],\n",
        "[datetime.datetime(2016, 3, 2), datetime.datetime(2016, 3,2)],\n",
        "]\n",
        ")\n",
        "df = df.T\n",
        "df"
      ],
      "metadata": {
        "execution": {
          "iopub.status.busy": "2023-08-19T08:08:52.192831Z",
          "iopub.execute_input": "2023-08-19T08:08:52.193586Z",
          "iopub.status.idle": "2023-08-19T08:08:52.211666Z",
          "shell.execute_reply.started": "2023-08-19T08:08:52.193535Z",
          "shell.execute_reply": "2023-08-19T08:08:52.210787Z"
        },
        "trusted": true,
        "id": "vHKSZMBTmDmK"
      },
      "execution_count": null,
      "outputs": []
    },
    {
      "cell_type": "code",
      "source": [
        "df.infer_objects().dtypes"
      ],
      "metadata": {
        "execution": {
          "iopub.status.busy": "2023-08-19T08:08:52.225738Z",
          "iopub.execute_input": "2023-08-19T08:08:52.226137Z",
          "iopub.status.idle": "2023-08-19T08:08:52.23402Z",
          "shell.execute_reply.started": "2023-08-19T08:08:52.226107Z",
          "shell.execute_reply": "2023-08-19T08:08:52.232941Z"
        },
        "trusted": true,
        "id": "aR-S8EFtmDmM"
      },
      "execution_count": null,
      "outputs": []
    },
    {
      "cell_type": "code",
      "source": [
        "m = [\"1.1\", 2, 3]\n",
        "pd.to_numeric(m)"
      ],
      "metadata": {
        "execution": {
          "iopub.status.busy": "2023-08-19T08:08:52.235457Z",
          "iopub.execute_input": "2023-08-19T08:08:52.236455Z",
          "iopub.status.idle": "2023-08-19T08:08:52.248124Z",
          "shell.execute_reply.started": "2023-08-19T08:08:52.236413Z",
          "shell.execute_reply": "2023-08-19T08:08:52.246981Z"
        },
        "trusted": true,
        "id": "4Z9Agt3gmDmM"
      },
      "execution_count": null,
      "outputs": []
    },
    {
      "cell_type": "code",
      "source": [
        "import datetime\n",
        "m = [\"2016-07-09\", datetime.datetime(2016, 3, 2)]\n",
        "pd.to_datetime(m)"
      ],
      "metadata": {
        "execution": {
          "iopub.status.busy": "2023-08-19T08:08:52.249927Z",
          "iopub.execute_input": "2023-08-19T08:08:52.250376Z",
          "iopub.status.idle": "2023-08-19T08:08:52.265833Z",
          "shell.execute_reply.started": "2023-08-19T08:08:52.250337Z",
          "shell.execute_reply": "2023-08-19T08:08:52.264698Z"
        },
        "trusted": true,
        "id": "-3lZlyHgmDmN"
      },
      "execution_count": null,
      "outputs": []
    },
    {
      "cell_type": "code",
      "source": [
        "m = [\"5us\", pd.Timedelta(\"1day\")]\n",
        "pd.to_timedelta(m)"
      ],
      "metadata": {
        "execution": {
          "iopub.status.busy": "2023-08-19T08:08:52.268046Z",
          "iopub.execute_input": "2023-08-19T08:08:52.268417Z",
          "iopub.status.idle": "2023-08-19T08:08:52.279094Z",
          "shell.execute_reply.started": "2023-08-19T08:08:52.268388Z",
          "shell.execute_reply": "2023-08-19T08:08:52.277991Z"
        },
        "trusted": true,
        "id": "rK1CVGG7mDmN"
      },
      "execution_count": null,
      "outputs": []
    },
    {
      "cell_type": "code",
      "source": [
        "import datetime\n",
        "m = [\"apple\", datetime.datetime(2016, 3, 2)]"
      ],
      "metadata": {
        "execution": {
          "iopub.status.busy": "2023-08-19T08:08:52.280745Z",
          "iopub.execute_input": "2023-08-19T08:08:52.281667Z",
          "iopub.status.idle": "2023-08-19T08:08:52.293377Z",
          "shell.execute_reply.started": "2023-08-19T08:08:52.281625Z",
          "shell.execute_reply": "2023-08-19T08:08:52.292514Z"
        },
        "trusted": true,
        "id": "wwHU6o3tmDmO"
      },
      "execution_count": null,
      "outputs": []
    },
    {
      "cell_type": "code",
      "source": [
        "pd.to_datetime(m, errors=\"coerce\")"
      ],
      "metadata": {
        "execution": {
          "iopub.status.busy": "2023-08-19T08:08:52.294798Z",
          "iopub.execute_input": "2023-08-19T08:08:52.295479Z",
          "iopub.status.idle": "2023-08-19T08:08:52.311572Z",
          "shell.execute_reply.started": "2023-08-19T08:08:52.29544Z",
          "shell.execute_reply": "2023-08-19T08:08:52.310404Z"
        },
        "trusted": true,
        "id": "3M1yq4B1mDmP"
      },
      "execution_count": null,
      "outputs": []
    },
    {
      "cell_type": "code",
      "source": [
        "m = [\"apple\", 2, 3]\n",
        "pd.to_numeric(m, errors=\"coerce\")"
      ],
      "metadata": {
        "execution": {
          "iopub.status.busy": "2023-08-19T08:08:52.313157Z",
          "iopub.execute_input": "2023-08-19T08:08:52.313903Z",
          "iopub.status.idle": "2023-08-19T08:08:52.32815Z",
          "shell.execute_reply.started": "2023-08-19T08:08:52.313863Z",
          "shell.execute_reply": "2023-08-19T08:08:52.327024Z"
        },
        "trusted": true,
        "id": "KNkt0ry0mDmP"
      },
      "execution_count": null,
      "outputs": []
    },
    {
      "cell_type": "code",
      "source": [
        "m = [\"apple\", pd.Timedelta(\"1day\")]\n",
        "pd.to_timedelta(m, errors=\"coerce\")"
      ],
      "metadata": {
        "execution": {
          "iopub.status.busy": "2023-08-19T08:08:52.32962Z",
          "iopub.execute_input": "2023-08-19T08:08:52.329977Z",
          "iopub.status.idle": "2023-08-19T08:08:52.342668Z",
          "shell.execute_reply.started": "2023-08-19T08:08:52.32994Z",
          "shell.execute_reply": "2023-08-19T08:08:52.341549Z"
        },
        "trusted": true,
        "id": "LAVKhd5kmDmQ"
      },
      "execution_count": null,
      "outputs": []
    },
    {
      "cell_type": "code",
      "source": [
        "import datetime\n",
        "m = [\"apple\", datetime.datetime(2016, 3, 2)]\n",
        "pd.to_datetime(m, errors=\"ignore\")"
      ],
      "metadata": {
        "execution": {
          "iopub.status.busy": "2023-08-19T08:08:52.344338Z",
          "iopub.execute_input": "2023-08-19T08:08:52.345047Z",
          "iopub.status.idle": "2023-08-19T08:08:52.357595Z",
          "shell.execute_reply.started": "2023-08-19T08:08:52.345006Z",
          "shell.execute_reply": "2023-08-19T08:08:52.356538Z"
        },
        "trusted": true,
        "id": "E3kgT516mDmR"
      },
      "execution_count": null,
      "outputs": []
    },
    {
      "cell_type": "code",
      "source": [
        "m = [\"apple\", 2, 3]\n",
        "pd.to_numeric(m, errors=\"ignore\")"
      ],
      "metadata": {
        "execution": {
          "iopub.status.busy": "2023-08-19T08:08:52.358963Z",
          "iopub.execute_input": "2023-08-19T08:08:52.359903Z",
          "iopub.status.idle": "2023-08-19T08:08:52.371368Z",
          "shell.execute_reply.started": "2023-08-19T08:08:52.359871Z",
          "shell.execute_reply": "2023-08-19T08:08:52.370221Z"
        },
        "trusted": true,
        "id": "ZuegWJgZmDmR"
      },
      "execution_count": null,
      "outputs": []
    },
    {
      "cell_type": "code",
      "source": [
        "m = [\"apple\", pd.Timedelta(\"1day\")]\n",
        "pd.to_timedelta(m, errors=\"ignore\")"
      ],
      "metadata": {
        "execution": {
          "iopub.status.busy": "2023-08-19T08:08:52.373139Z",
          "iopub.execute_input": "2023-08-19T08:08:52.373856Z",
          "iopub.status.idle": "2023-08-19T08:08:52.386378Z",
          "shell.execute_reply.started": "2023-08-19T08:08:52.373815Z",
          "shell.execute_reply": "2023-08-19T08:08:52.385264Z"
        },
        "trusted": true,
        "id": "OwU6MdSbmDmS"
      },
      "execution_count": null,
      "outputs": []
    },
    {
      "cell_type": "code",
      "source": [
        "import datetime\n",
        "df = pd.DataFrame([[\"2016-07-09\", datetime.datetime(2016, 3, 2)]] * 2, dtype=\"O\")\n",
        "df"
      ],
      "metadata": {
        "execution": {
          "iopub.status.busy": "2023-08-19T08:08:52.387964Z",
          "iopub.execute_input": "2023-08-19T08:08:52.388979Z",
          "iopub.status.idle": "2023-08-19T08:08:52.403969Z",
          "shell.execute_reply.started": "2023-08-19T08:08:52.388937Z",
          "shell.execute_reply": "2023-08-19T08:08:52.402814Z"
        },
        "trusted": true,
        "id": "hYOJcqJbmDmT"
      },
      "execution_count": null,
      "outputs": []
    },
    {
      "cell_type": "code",
      "source": [
        "df.apply(pd.to_datetime)"
      ],
      "metadata": {
        "execution": {
          "iopub.status.busy": "2023-08-19T08:08:52.405494Z",
          "iopub.execute_input": "2023-08-19T08:08:52.406493Z",
          "iopub.status.idle": "2023-08-19T08:08:52.424574Z",
          "shell.execute_reply.started": "2023-08-19T08:08:52.406451Z",
          "shell.execute_reply": "2023-08-19T08:08:52.423136Z"
        },
        "trusted": true,
        "id": "ZXHunNsgmDmU"
      },
      "execution_count": null,
      "outputs": []
    },
    {
      "cell_type": "code",
      "source": [
        "df = pd.DataFrame([[\"1.1\", 2, 3]] * 2, dtype=\"O\")\n",
        "df"
      ],
      "metadata": {
        "execution": {
          "iopub.status.busy": "2023-08-19T08:08:52.42654Z",
          "iopub.execute_input": "2023-08-19T08:08:52.427653Z",
          "iopub.status.idle": "2023-08-19T08:08:52.439886Z",
          "shell.execute_reply.started": "2023-08-19T08:08:52.427611Z",
          "shell.execute_reply": "2023-08-19T08:08:52.439077Z"
        },
        "trusted": true,
        "id": "_Szl6TGdmDmU"
      },
      "execution_count": null,
      "outputs": []
    },
    {
      "cell_type": "code",
      "source": [
        "df.apply(pd.to_numeric)"
      ],
      "metadata": {
        "execution": {
          "iopub.status.busy": "2023-08-19T08:08:52.441505Z",
          "iopub.execute_input": "2023-08-19T08:08:52.442262Z",
          "iopub.status.idle": "2023-08-19T08:08:52.458767Z",
          "shell.execute_reply.started": "2023-08-19T08:08:52.442219Z",
          "shell.execute_reply": "2023-08-19T08:08:52.457295Z"
        },
        "trusted": true,
        "id": "3R96YSntmDmV"
      },
      "execution_count": null,
      "outputs": []
    },
    {
      "cell_type": "code",
      "source": [
        "df = pd.DataFrame([[\"5us\", pd.Timedelta(\"1day\")]] * 2, dtype=\"O\")\n",
        "df"
      ],
      "metadata": {
        "execution": {
          "iopub.status.busy": "2023-08-19T08:08:52.460247Z",
          "iopub.execute_input": "2023-08-19T08:08:52.461097Z",
          "iopub.status.idle": "2023-08-19T08:08:52.473271Z",
          "shell.execute_reply.started": "2023-08-19T08:08:52.461042Z",
          "shell.execute_reply": "2023-08-19T08:08:52.472135Z"
        },
        "trusted": true,
        "id": "-CDyc1mUmDmV"
      },
      "execution_count": null,
      "outputs": []
    },
    {
      "cell_type": "code",
      "source": [
        "df.apply(pd.to_timedelta)"
      ],
      "metadata": {
        "execution": {
          "iopub.status.busy": "2023-08-19T08:08:52.475045Z",
          "iopub.execute_input": "2023-08-19T08:08:52.475489Z",
          "iopub.status.idle": "2023-08-19T08:08:52.491563Z",
          "shell.execute_reply.started": "2023-08-19T08:08:52.475451Z",
          "shell.execute_reply": "2023-08-19T08:08:52.490439Z"
        },
        "trusted": true,
        "id": "0AJlEXEpmDmW"
      },
      "execution_count": null,
      "outputs": []
    },
    {
      "cell_type": "code",
      "source": [
        "dfi = df3.astype(\"int32\")\n",
        "dfi[\"E\"] = 1\n",
        "dfi"
      ],
      "metadata": {
        "execution": {
          "iopub.status.busy": "2023-08-19T08:08:52.493056Z",
          "iopub.execute_input": "2023-08-19T08:08:52.494055Z",
          "iopub.status.idle": "2023-08-19T08:08:52.506407Z",
          "shell.execute_reply.started": "2023-08-19T08:08:52.494021Z",
          "shell.execute_reply": "2023-08-19T08:08:52.505088Z"
        },
        "trusted": true,
        "id": "8nGd1H_-mDmW"
      },
      "execution_count": null,
      "outputs": []
    },
    {
      "cell_type": "code",
      "source": [
        "casted = dfi[dfi > 0]\n",
        "casted"
      ],
      "metadata": {
        "execution": {
          "iopub.status.busy": "2023-08-19T08:08:52.508397Z",
          "iopub.execute_input": "2023-08-19T08:08:52.509309Z",
          "iopub.status.idle": "2023-08-19T08:08:52.533471Z",
          "shell.execute_reply.started": "2023-08-19T08:08:52.509267Z",
          "shell.execute_reply": "2023-08-19T08:08:52.532353Z"
        },
        "trusted": true,
        "id": "dVFlt4t4mDmX"
      },
      "execution_count": null,
      "outputs": []
    },
    {
      "cell_type": "code",
      "source": [
        "df = pd.DataFrame({\n",
        "\"string\": list(\"abc\"),\n",
        "\"int64\": list(range(1, 4)),\n",
        "\"uint8\": np.arange(3, 6).astype(\"u1\"),\n",
        "\"float64\": np.arange(4.0, 7.0),\n",
        "\"bool1\": [True, False, True],\n",
        "\"bool2\": [False, True, False],\n",
        "\"dates\": pd.date_range(\"now\", periods=3),\n",
        " \"category\": pd.Series(list(\"ABC\")).astype(\"category\"),\n",
        "})"
      ],
      "metadata": {
        "execution": {
          "iopub.status.busy": "2023-08-19T08:08:52.53486Z",
          "iopub.execute_input": "2023-08-19T08:08:52.535233Z",
          "iopub.status.idle": "2023-08-19T08:08:52.545823Z",
          "shell.execute_reply.started": "2023-08-19T08:08:52.535193Z",
          "shell.execute_reply": "2023-08-19T08:08:52.5446Z"
        },
        "trusted": true,
        "id": "Hi21XcS7mDmX"
      },
      "execution_count": null,
      "outputs": []
    },
    {
      "cell_type": "code",
      "source": [
        "df[\"tdeltas\"] = df.dates.diff()\n",
        "df[\"uint64\"] = np.arange(3, 6).astype(\"u8\")\n",
        "df[\"other_dates\"] = pd.date_range(\"20130101\", periods=3)\n",
        "df[\"tz_aware_dates\"] = pd.date_range(\"20130101\", periods=3, tz=\"US/Eastern\")\n",
        "df"
      ],
      "metadata": {
        "execution": {
          "iopub.status.busy": "2023-08-19T08:08:52.547492Z",
          "iopub.execute_input": "2023-08-19T08:08:52.547831Z",
          "iopub.status.idle": "2023-08-19T08:08:52.613821Z",
          "shell.execute_reply.started": "2023-08-19T08:08:52.547802Z",
          "shell.execute_reply": "2023-08-19T08:08:52.612362Z"
        },
        "trusted": true,
        "id": "UBbya1BBmDmX"
      },
      "execution_count": null,
      "outputs": []
    },
    {
      "cell_type": "code",
      "source": [
        "df.select_dtypes(include=[bool])"
      ],
      "metadata": {
        "execution": {
          "iopub.status.busy": "2023-08-19T08:08:52.615272Z",
          "iopub.execute_input": "2023-08-19T08:08:52.616641Z",
          "iopub.status.idle": "2023-08-19T08:08:52.630604Z",
          "shell.execute_reply.started": "2023-08-19T08:08:52.616593Z",
          "shell.execute_reply": "2023-08-19T08:08:52.628913Z"
        },
        "trusted": true,
        "id": "1CmZ6fD_mDmY"
      },
      "execution_count": null,
      "outputs": []
    },
    {
      "cell_type": "code",
      "source": [
        "df.select_dtypes(include=[\"bool\"])"
      ],
      "metadata": {
        "execution": {
          "iopub.status.busy": "2023-08-19T08:08:52.632754Z",
          "iopub.execute_input": "2023-08-19T08:08:52.633591Z",
          "iopub.status.idle": "2023-08-19T08:08:52.649704Z",
          "shell.execute_reply.started": "2023-08-19T08:08:52.633544Z",
          "shell.execute_reply": "2023-08-19T08:08:52.648278Z"
        },
        "trusted": true,
        "id": "0xFTJA_ImDmY"
      },
      "execution_count": null,
      "outputs": []
    },
    {
      "cell_type": "code",
      "source": [
        "df.select_dtypes(include=[\"number\", \"bool\"], exclude=[\"unsignedinteger\"])"
      ],
      "metadata": {
        "execution": {
          "iopub.status.busy": "2023-08-19T08:08:52.651764Z",
          "iopub.execute_input": "2023-08-19T08:08:52.652255Z",
          "iopub.status.idle": "2023-08-19T08:08:52.671496Z",
          "shell.execute_reply.started": "2023-08-19T08:08:52.652203Z",
          "shell.execute_reply": "2023-08-19T08:08:52.670276Z"
        },
        "trusted": true,
        "id": "F3ofdn45mDmZ"
      },
      "execution_count": null,
      "outputs": []
    },
    {
      "cell_type": "code",
      "source": [
        "df.select_dtypes(include=[\"object\"])"
      ],
      "metadata": {
        "execution": {
          "iopub.status.busy": "2023-08-19T08:08:52.673434Z",
          "iopub.execute_input": "2023-08-19T08:08:52.673864Z",
          "iopub.status.idle": "2023-08-19T08:08:52.692408Z",
          "shell.execute_reply.started": "2023-08-19T08:08:52.673824Z",
          "shell.execute_reply": "2023-08-19T08:08:52.691259Z"
        },
        "trusted": true,
        "id": "TsvEm-yjmDmZ"
      },
      "execution_count": null,
      "outputs": []
    },
    {
      "cell_type": "code",
      "source": [
        "def subdtypes(dtype):\n",
        "    subs = dtype.__subclasses__()\n",
        "    if not subs:\n",
        "        return dtype\n",
        "    return [dtype, [subdtypes(dt) for dt in subs]]"
      ],
      "metadata": {
        "execution": {
          "iopub.status.busy": "2023-08-19T08:08:52.69416Z",
          "iopub.execute_input": "2023-08-19T08:08:52.695542Z",
          "iopub.status.idle": "2023-08-19T08:08:52.709521Z",
          "shell.execute_reply.started": "2023-08-19T08:08:52.695493Z",
          "shell.execute_reply": "2023-08-19T08:08:52.707895Z"
        },
        "trusted": true,
        "id": "BDwNngmBmDmZ"
      },
      "execution_count": null,
      "outputs": []
    },
    {
      "cell_type": "code",
      "source": [
        "subdtypes(np.generic)"
      ],
      "metadata": {
        "execution": {
          "iopub.status.busy": "2023-08-19T08:08:52.711492Z",
          "iopub.execute_input": "2023-08-19T08:08:52.711936Z",
          "iopub.status.idle": "2023-08-19T08:08:52.72751Z",
          "shell.execute_reply.started": "2023-08-19T08:08:52.711897Z",
          "shell.execute_reply": "2023-08-19T08:08:52.726252Z"
        },
        "trusted": true,
        "id": "ufuEnk1hmDma"
      },
      "execution_count": null,
      "outputs": []
    },
    {
      "cell_type": "code",
      "source": [
        "import pandas as pd\n",
        "from io import StringIO\n",
        "data = \"col1,col2,col3\\na,b,1\\na,b,2\\nc,d,3\"\n",
        "pd.read_csv(StringIO(data))"
      ],
      "metadata": {
        "execution": {
          "iopub.status.busy": "2023-08-19T08:08:52.729448Z",
          "iopub.execute_input": "2023-08-19T08:08:52.730201Z",
          "iopub.status.idle": "2023-08-19T08:08:52.753105Z",
          "shell.execute_reply.started": "2023-08-19T08:08:52.730135Z",
          "shell.execute_reply": "2023-08-19T08:08:52.752005Z"
        },
        "trusted": true,
        "id": "YZnE1A2pmDma"
      },
      "execution_count": null,
      "outputs": []
    },
    {
      "cell_type": "code",
      "source": [
        "pd.read_csv(StringIO(data), usecols=lambda x: x.upper() in [\"COL1\", \"COL3\"])"
      ],
      "metadata": {
        "execution": {
          "iopub.status.busy": "2023-08-19T08:08:52.75469Z",
          "iopub.execute_input": "2023-08-19T08:08:52.75615Z",
          "iopub.status.idle": "2023-08-19T08:08:52.771884Z",
          "shell.execute_reply.started": "2023-08-19T08:08:52.756104Z",
          "shell.execute_reply": "2023-08-19T08:08:52.770993Z"
        },
        "trusted": true,
        "id": "Py11BTwvmDma"
      },
      "execution_count": null,
      "outputs": []
    },
    {
      "cell_type": "code",
      "source": [
        "data = \"col1,col2,col3\\na,b,1\"\n",
        "df = pd.read_csv(StringIO(data))"
      ],
      "metadata": {
        "execution": {
          "iopub.status.busy": "2023-08-19T08:08:52.773601Z",
          "iopub.execute_input": "2023-08-19T08:08:52.77455Z",
          "iopub.status.idle": "2023-08-19T08:08:52.790944Z",
          "shell.execute_reply.started": "2023-08-19T08:08:52.774485Z",
          "shell.execute_reply": "2023-08-19T08:08:52.789674Z"
        },
        "trusted": true,
        "id": "gc9X3AIMmDmb"
      },
      "execution_count": null,
      "outputs": []
    },
    {
      "cell_type": "code",
      "source": [
        "df.columns = [f\"pre_{col}\" for col in df.columns]\n",
        "df"
      ],
      "metadata": {
        "execution": {
          "iopub.status.busy": "2023-08-19T08:08:52.792409Z",
          "iopub.execute_input": "2023-08-19T08:08:52.792792Z",
          "iopub.status.idle": "2023-08-19T08:08:52.812584Z",
          "shell.execute_reply.started": "2023-08-19T08:08:52.792762Z",
          "shell.execute_reply": "2023-08-19T08:08:52.811263Z"
        },
        "trusted": true,
        "id": "-YLr8u_gmDmb"
      },
      "execution_count": null,
      "outputs": []
    },
    {
      "cell_type": "code",
      "source": [
        "data = \"col1,col2,col3\\na,b,1\\na,b,2\\nc,d,3\"\n",
        "pd.read_csv(StringIO(data))"
      ],
      "metadata": {
        "execution": {
          "iopub.status.busy": "2023-08-19T08:08:52.814934Z",
          "iopub.execute_input": "2023-08-19T08:08:52.815742Z",
          "iopub.status.idle": "2023-08-19T08:08:52.834269Z",
          "shell.execute_reply.started": "2023-08-19T08:08:52.815695Z",
          "shell.execute_reply": "2023-08-19T08:08:52.832733Z"
        },
        "trusted": true,
        "id": "NehAV7jkmDmc"
      },
      "execution_count": null,
      "outputs": []
    },
    {
      "cell_type": "code",
      "source": [
        "pd.read_csv(StringIO(data), skiprows=lambda x: x % 2 != 0)"
      ],
      "metadata": {
        "execution": {
          "iopub.status.busy": "2023-08-19T08:08:52.836046Z",
          "iopub.execute_input": "2023-08-19T08:08:52.837264Z",
          "iopub.status.idle": "2023-08-19T08:08:52.852657Z",
          "shell.execute_reply.started": "2023-08-19T08:08:52.837202Z",
          "shell.execute_reply": "2023-08-19T08:08:52.851473Z"
        },
        "trusted": true,
        "id": "gfBsT6n5mDmc"
      },
      "execution_count": null,
      "outputs": []
    },
    {
      "cell_type": "code",
      "source": [
        "import numpy as np\n",
        "data = \"a,b,c,d\\n1,2,3,4\\n5,6,7,8\\n9,10,11\"\n",
        "print(data)"
      ],
      "metadata": {
        "execution": {
          "iopub.status.busy": "2023-08-19T08:08:52.85412Z",
          "iopub.execute_input": "2023-08-19T08:08:52.854969Z",
          "iopub.status.idle": "2023-08-19T08:08:52.864115Z",
          "shell.execute_reply.started": "2023-08-19T08:08:52.854927Z",
          "shell.execute_reply": "2023-08-19T08:08:52.862701Z"
        },
        "trusted": true,
        "id": "LMCcTzSAmDmd"
      },
      "execution_count": null,
      "outputs": []
    },
    {
      "cell_type": "code",
      "source": [
        "df = pd.read_csv(StringIO(data), dtype=object)\n",
        "df"
      ],
      "metadata": {
        "execution": {
          "iopub.status.busy": "2023-08-19T08:08:52.866653Z",
          "iopub.execute_input": "2023-08-19T08:08:52.867118Z",
          "iopub.status.idle": "2023-08-19T08:08:52.883563Z",
          "shell.execute_reply.started": "2023-08-19T08:08:52.867074Z",
          "shell.execute_reply": "2023-08-19T08:08:52.882426Z"
        },
        "trusted": true,
        "id": "yWwFkiLkmDmd"
      },
      "execution_count": null,
      "outputs": []
    },
    {
      "cell_type": "code",
      "source": [
        "df = pd.read_csv(StringIO(data), dtype={\"b\": object, \"c\": np.float64, \"d\":\"Int64\"})\n",
        "df.dtypes"
      ],
      "metadata": {
        "execution": {
          "iopub.status.busy": "2023-08-19T08:08:52.885017Z",
          "iopub.execute_input": "2023-08-19T08:08:52.886415Z",
          "iopub.status.idle": "2023-08-19T08:08:52.903858Z",
          "shell.execute_reply.started": "2023-08-19T08:08:52.886371Z",
          "shell.execute_reply": "2023-08-19T08:08:52.902282Z"
        },
        "trusted": true,
        "id": "rrUyPAM6mDmg"
      },
      "execution_count": null,
      "outputs": []
    },
    {
      "cell_type": "code",
      "source": [
        "data = \"col_1\\n1\\n2\\n'A'\\n4.22\"\n",
        "pd.read_csv(StringIO(data), converters={\"col_1\": str})\n",
        "df"
      ],
      "metadata": {
        "execution": {
          "iopub.status.busy": "2023-08-19T08:08:52.905912Z",
          "iopub.execute_input": "2023-08-19T08:08:52.906425Z",
          "iopub.status.idle": "2023-08-19T08:08:52.927452Z",
          "shell.execute_reply.started": "2023-08-19T08:08:52.906381Z",
          "shell.execute_reply": "2023-08-19T08:08:52.926219Z"
        },
        "trusted": true,
        "id": "4Kund-TxmDmh"
      },
      "execution_count": null,
      "outputs": []
    },
    {
      "cell_type": "code",
      "source": [
        "df = pd.read_csv(StringIO(data), dtype=\"category\")\n",
        "df.dtypes"
      ],
      "metadata": {
        "execution": {
          "iopub.status.busy": "2023-08-19T08:08:52.929103Z",
          "iopub.execute_input": "2023-08-19T08:08:52.930411Z",
          "iopub.status.idle": "2023-08-19T08:08:52.946779Z",
          "shell.execute_reply.started": "2023-08-19T08:08:52.93036Z",
          "shell.execute_reply": "2023-08-19T08:08:52.945433Z"
        },
        "trusted": true,
        "id": "QQAkwXFwmDmh"
      },
      "execution_count": null,
      "outputs": []
    },
    {
      "cell_type": "code",
      "source": [
        "air_quality = pd.read_csv(\"/kaggle/input/airquality2/air_quality_no2.csv\", index_col=0, parse_dates=True)\n",
        "air_quality.head()"
      ],
      "metadata": {
        "execution": {
          "iopub.status.busy": "2023-08-19T08:08:52.948769Z",
          "iopub.execute_input": "2023-08-19T08:08:52.949571Z",
          "iopub.status.idle": "2023-08-19T08:08:52.974131Z",
          "shell.execute_reply.started": "2023-08-19T08:08:52.949489Z",
          "shell.execute_reply": "2023-08-19T08:08:52.972658Z"
        },
        "trusted": true,
        "id": "qNojS1-OmDmi"
      },
      "execution_count": null,
      "outputs": []
    },
    {
      "cell_type": "code",
      "source": [
        "air_quality.plot();"
      ],
      "metadata": {
        "execution": {
          "iopub.status.busy": "2023-08-19T08:08:52.97576Z",
          "iopub.execute_input": "2023-08-19T08:08:52.976234Z",
          "iopub.status.idle": "2023-08-19T08:08:53.504525Z",
          "shell.execute_reply.started": "2023-08-19T08:08:52.976169Z",
          "shell.execute_reply": "2023-08-19T08:08:53.503168Z"
        },
        "trusted": true,
        "id": "8Dmn1NBEmDmi"
      },
      "execution_count": null,
      "outputs": []
    },
    {
      "cell_type": "code",
      "source": [
        "air_quality[\"station_paris\"].plot();"
      ],
      "metadata": {
        "execution": {
          "iopub.status.busy": "2023-08-19T08:08:53.50626Z",
          "iopub.execute_input": "2023-08-19T08:08:53.506754Z",
          "iopub.status.idle": "2023-08-19T08:08:53.871822Z",
          "shell.execute_reply.started": "2023-08-19T08:08:53.506713Z",
          "shell.execute_reply": "2023-08-19T08:08:53.870749Z"
        },
        "trusted": true,
        "id": "2tMbNjQamDmj"
      },
      "execution_count": null,
      "outputs": []
    },
    {
      "cell_type": "code",
      "source": [
        "air_quality.plot.scatter(x=\"station_london\", y=\"station_paris\", alpha=0.5);"
      ],
      "metadata": {
        "execution": {
          "iopub.status.busy": "2023-08-19T08:08:53.873449Z",
          "iopub.execute_input": "2023-08-19T08:08:53.873781Z",
          "iopub.status.idle": "2023-08-19T08:08:54.167144Z",
          "shell.execute_reply.started": "2023-08-19T08:08:53.873751Z",
          "shell.execute_reply": "2023-08-19T08:08:54.165677Z"
        },
        "trusted": true,
        "id": "wy0NAZhImDmj"
      },
      "execution_count": null,
      "outputs": []
    },
    {
      "cell_type": "code",
      "source": [
        "[\n",
        "method_name\n",
        "for method_name in dir(air_quality.plot)\n",
        "if not method_name.startswith(\"_\")\n",
        "]"
      ],
      "metadata": {
        "execution": {
          "iopub.status.busy": "2023-08-19T08:08:54.169226Z",
          "iopub.execute_input": "2023-08-19T08:08:54.170074Z",
          "iopub.status.idle": "2023-08-19T08:08:54.178925Z",
          "shell.execute_reply.started": "2023-08-19T08:08:54.170028Z",
          "shell.execute_reply": "2023-08-19T08:08:54.177773Z"
        },
        "trusted": true,
        "id": "08gVVWlSmDmk"
      },
      "execution_count": null,
      "outputs": []
    },
    {
      "cell_type": "code",
      "source": [
        "air_quality.plot.box();"
      ],
      "metadata": {
        "execution": {
          "iopub.status.busy": "2023-08-19T08:08:54.180521Z",
          "iopub.execute_input": "2023-08-19T08:08:54.181605Z",
          "iopub.status.idle": "2023-08-19T08:08:54.691726Z",
          "shell.execute_reply.started": "2023-08-19T08:08:54.181561Z",
          "shell.execute_reply": "2023-08-19T08:08:54.69026Z"
        },
        "trusted": true,
        "id": "inPuXQCqmDml"
      },
      "execution_count": null,
      "outputs": []
    },
    {
      "cell_type": "code",
      "source": [
        "axs = air_quality.plot.area(figsize=(12, 4), subplots=True);\n",
        "axs;"
      ],
      "metadata": {
        "execution": {
          "iopub.status.busy": "2023-08-19T08:08:54.693563Z",
          "iopub.execute_input": "2023-08-19T08:08:54.694033Z",
          "iopub.status.idle": "2023-08-19T08:08:56.046006Z",
          "shell.execute_reply.started": "2023-08-19T08:08:54.693991Z",
          "shell.execute_reply": "2023-08-19T08:08:56.044771Z"
        },
        "trusted": true,
        "id": "G33d6JVGmDmm"
      },
      "execution_count": null,
      "outputs": []
    },
    {
      "cell_type": "code",
      "source": [
        "import matplotlib.pyplot as plt\n",
        "fig, axs = plt.subplots(figsize=(12, 4))\n",
        "air_quality.plot.area(ax=axs)\n",
        "axs.set_ylabel(\"NO$_2$ concentration\")\n",
        "fig.savefig(\"no2_concentrations.png\")"
      ],
      "metadata": {
        "execution": {
          "iopub.status.busy": "2023-08-19T08:08:56.047591Z",
          "iopub.execute_input": "2023-08-19T08:08:56.047916Z",
          "iopub.status.idle": "2023-08-19T08:08:56.810533Z",
          "shell.execute_reply.started": "2023-08-19T08:08:56.047888Z",
          "shell.execute_reply": "2023-08-19T08:08:56.809016Z"
        },
        "trusted": true,
        "id": "Fk6pZZHumDmm"
      },
      "execution_count": null,
      "outputs": []
    },
    {
      "cell_type": "code",
      "source": [
        "fig, axs = plt.subplots(figsize=(17, 4))\n",
        "air_quality.plot.area(ax=axs)\n",
        "axs.set_ylabel(\"NO$_2$ concentration\");"
      ],
      "metadata": {
        "execution": {
          "iopub.status.busy": "2023-08-19T08:08:56.812162Z",
          "iopub.execute_input": "2023-08-19T08:08:56.812636Z",
          "iopub.status.idle": "2023-08-19T08:08:57.358059Z",
          "shell.execute_reply.started": "2023-08-19T08:08:56.812597Z",
          "shell.execute_reply": "2023-08-19T08:08:57.356899Z"
        },
        "trusted": true,
        "id": "H6wDpvuzmDmn"
      },
      "execution_count": null,
      "outputs": []
    },
    {
      "cell_type": "code",
      "source": [
        "air_quality[\"london_mg_per_cubic\"] = air_quality[\"station_london\"] * 1.882\n",
        "air_quality.head()"
      ],
      "metadata": {
        "execution": {
          "iopub.status.busy": "2023-08-19T08:08:57.359353Z",
          "iopub.execute_input": "2023-08-19T08:08:57.360427Z",
          "iopub.status.idle": "2023-08-19T08:08:57.376Z",
          "shell.execute_reply.started": "2023-08-19T08:08:57.360366Z",
          "shell.execute_reply": "2023-08-19T08:08:57.374835Z"
        },
        "trusted": true,
        "id": "0LspMAbdmDmo"
      },
      "execution_count": null,
      "outputs": []
    },
    {
      "cell_type": "code",
      "source": [
        "air_quality[\"ratio_paris_antwerp\"] = (air_quality[\"station_paris\"] / air_quality[\"station_antwerp\"])\n",
        "\n",
        "air_quality.head()"
      ],
      "metadata": {
        "execution": {
          "iopub.status.busy": "2023-08-19T08:08:57.378166Z",
          "iopub.execute_input": "2023-08-19T08:08:57.379031Z",
          "iopub.status.idle": "2023-08-19T08:08:57.399498Z",
          "shell.execute_reply.started": "2023-08-19T08:08:57.378989Z",
          "shell.execute_reply": "2023-08-19T08:08:57.398129Z"
        },
        "trusted": true,
        "id": "n6CmSKtrmDmp"
      },
      "execution_count": null,
      "outputs": []
    },
    {
      "cell_type": "code",
      "source": [
        "air_quality_renamed = air_quality.rename(\n",
        " columns={\n",
        " \"station_antwerp\": \"BETR801\",\n",
        " \"station_paris\": \"FR04014\",\n",
        " \"station_london\": \"London Westminster\",\n",
        " }\n",
        " )\n",
        "\n",
        "air_quality_renamed.head()"
      ],
      "metadata": {
        "execution": {
          "iopub.status.busy": "2023-08-19T08:08:57.401073Z",
          "iopub.execute_input": "2023-08-19T08:08:57.401457Z",
          "iopub.status.idle": "2023-08-19T08:08:57.422656Z",
          "shell.execute_reply.started": "2023-08-19T08:08:57.401427Z",
          "shell.execute_reply": "2023-08-19T08:08:57.421441Z"
        },
        "trusted": true,
        "id": "mDpQEFuVmDmp"
      },
      "execution_count": null,
      "outputs": []
    },
    {
      "cell_type": "code",
      "source": [
        "air_quality_renamed = air_quality_renamed.rename(columns=str.lower)\n",
        "air_quality_renamed.head()"
      ],
      "metadata": {
        "execution": {
          "iopub.status.busy": "2023-08-19T08:08:57.424242Z",
          "iopub.execute_input": "2023-08-19T08:08:57.424654Z",
          "iopub.status.idle": "2023-08-19T08:08:57.447186Z",
          "shell.execute_reply.started": "2023-08-19T08:08:57.424615Z",
          "shell.execute_reply": "2023-08-19T08:08:57.446144Z"
        },
        "trusted": true,
        "id": "dpY4tHRPmDmq"
      },
      "execution_count": null,
      "outputs": []
    },
    {
      "cell_type": "code",
      "source": [
        "air_quality = pd.read_csv(\"/kaggle/input/airquality1/air_quality_long.csv\", index_col=\"date.utc\", parse_dates=True)\n",
        "\n",
        "air_quality.head()"
      ],
      "metadata": {
        "execution": {
          "iopub.status.busy": "2023-08-19T08:08:57.448908Z",
          "iopub.execute_input": "2023-08-19T08:08:57.449364Z",
          "iopub.status.idle": "2023-08-19T08:08:57.535721Z",
          "shell.execute_reply.started": "2023-08-19T08:08:57.449301Z",
          "shell.execute_reply": "2023-08-19T08:08:57.534619Z"
        },
        "trusted": true,
        "id": "wGCt7WwtmDmw"
      },
      "execution_count": null,
      "outputs": []
    },
    {
      "cell_type": "code",
      "source": [
        "no2 = air_quality[air_quality[\"parameter\"] == \"no2\"]"
      ],
      "metadata": {
        "execution": {
          "iopub.status.busy": "2023-08-19T08:08:57.537238Z",
          "iopub.execute_input": "2023-08-19T08:08:57.537607Z",
          "iopub.status.idle": "2023-08-19T08:08:57.545783Z",
          "shell.execute_reply.started": "2023-08-19T08:08:57.537577Z",
          "shell.execute_reply": "2023-08-19T08:08:57.544516Z"
        },
        "trusted": true,
        "id": "i3mlxB_8mDmw"
      },
      "execution_count": null,
      "outputs": []
    },
    {
      "cell_type": "code",
      "source": [
        "no2_subset = no2.sort_index().groupby([\"location\"]).head(2)\n",
        "no2_subset"
      ],
      "metadata": {
        "execution": {
          "iopub.status.busy": "2023-08-19T08:08:57.547076Z",
          "iopub.execute_input": "2023-08-19T08:08:57.547409Z",
          "iopub.status.idle": "2023-08-19T08:08:57.570548Z",
          "shell.execute_reply.started": "2023-08-19T08:08:57.547381Z",
          "shell.execute_reply": "2023-08-19T08:08:57.569652Z"
        },
        "trusted": true,
        "id": "4Bs5zItemDmx"
      },
      "execution_count": null,
      "outputs": []
    },
    {
      "cell_type": "code",
      "source": [
        "no2_subset.pivot(columns=\"location\", values=\"value\")"
      ],
      "metadata": {
        "execution": {
          "iopub.status.busy": "2023-08-19T08:08:57.571616Z",
          "iopub.execute_input": "2023-08-19T08:08:57.571921Z",
          "iopub.status.idle": "2023-08-19T08:08:57.592345Z",
          "shell.execute_reply.started": "2023-08-19T08:08:57.571894Z",
          "shell.execute_reply": "2023-08-19T08:08:57.591166Z"
        },
        "trusted": true,
        "id": "oXK4MM-2mDmx"
      },
      "execution_count": null,
      "outputs": []
    },
    {
      "cell_type": "code",
      "source": [
        "no2.pivot(columns=\"location\", values=\"value\").plot();"
      ],
      "metadata": {
        "execution": {
          "iopub.status.busy": "2023-08-19T08:08:57.593588Z",
          "iopub.execute_input": "2023-08-19T08:08:57.594731Z",
          "iopub.status.idle": "2023-08-19T08:08:58.118836Z",
          "shell.execute_reply.started": "2023-08-19T08:08:57.5947Z",
          "shell.execute_reply": "2023-08-19T08:08:58.117235Z"
        },
        "trusted": true,
        "id": "RBdeICltmDmy"
      },
      "execution_count": null,
      "outputs": []
    },
    {
      "cell_type": "code",
      "source": [
        "air_quality.pivot_table(values=\"value\", index=\"location\", columns=\"parameter\", aggfunc=\"mean\")"
      ],
      "metadata": {
        "execution": {
          "iopub.status.busy": "2023-08-19T08:08:58.120275Z",
          "iopub.execute_input": "2023-08-19T08:08:58.120616Z",
          "iopub.status.idle": "2023-08-19T08:08:58.144855Z",
          "shell.execute_reply.started": "2023-08-19T08:08:58.120586Z",
          "shell.execute_reply": "2023-08-19T08:08:58.143534Z"
        },
        "trusted": true,
        "id": "2_l0eiusmDmy"
      },
      "execution_count": null,
      "outputs": []
    },
    {
      "cell_type": "code",
      "source": [
        "air_quality.pivot_table(\n",
        "values=\"value\",\n",
        "index=\"location\",\n",
        "columns=\"parameter\",\n",
        "aggfunc=\"mean\",\n",
        "margins=True,\n",
        ")"
      ],
      "metadata": {
        "execution": {
          "iopub.status.busy": "2023-08-19T08:08:58.147626Z",
          "iopub.execute_input": "2023-08-19T08:08:58.148087Z",
          "iopub.status.idle": "2023-08-19T08:08:58.194813Z",
          "shell.execute_reply.started": "2023-08-19T08:08:58.148045Z",
          "shell.execute_reply": "2023-08-19T08:08:58.193463Z"
        },
        "trusted": true,
        "id": "M33mWTT7mDmz"
      },
      "execution_count": null,
      "outputs": []
    },
    {
      "cell_type": "code",
      "source": [
        "air_quality.groupby([\"parameter\", \"location\"]).mean()"
      ],
      "metadata": {
        "execution": {
          "iopub.status.busy": "2023-08-19T08:08:58.196481Z",
          "iopub.execute_input": "2023-08-19T08:08:58.196847Z",
          "iopub.status.idle": "2023-08-19T08:08:58.214836Z",
          "shell.execute_reply.started": "2023-08-19T08:08:58.196816Z",
          "shell.execute_reply": "2023-08-19T08:08:58.213307Z"
        },
        "trusted": true,
        "id": "uiLCyNrqmDm0"
      },
      "execution_count": null,
      "outputs": []
    },
    {
      "cell_type": "code",
      "source": [
        "no2_pivoted = no2.pivot(columns=\"location\", values=\"value\").reset_index()\n",
        "no2_pivoted.head()"
      ],
      "metadata": {
        "execution": {
          "iopub.status.busy": "2023-08-19T08:08:58.216614Z",
          "iopub.execute_input": "2023-08-19T08:08:58.216944Z",
          "iopub.status.idle": "2023-08-19T08:08:58.23734Z",
          "shell.execute_reply.started": "2023-08-19T08:08:58.216916Z",
          "shell.execute_reply": "2023-08-19T08:08:58.236024Z"
        },
        "trusted": true,
        "id": "0APiRetXmDm0"
      },
      "execution_count": null,
      "outputs": []
    },
    {
      "cell_type": "code",
      "source": [
        "no_2 = no2_pivoted.melt(id_vars=\"date.utc\")\n",
        "no_2.head()"
      ],
      "metadata": {
        "execution": {
          "iopub.status.busy": "2023-08-19T08:08:58.23885Z",
          "iopub.execute_input": "2023-08-19T08:08:58.24002Z",
          "iopub.status.idle": "2023-08-19T08:08:58.27551Z",
          "shell.execute_reply.started": "2023-08-19T08:08:58.239985Z",
          "shell.execute_reply": "2023-08-19T08:08:58.274353Z"
        },
        "trusted": true,
        "id": "S5G3Vf6BmDm0"
      },
      "execution_count": null,
      "outputs": []
    },
    {
      "cell_type": "code",
      "source": [
        "no_2 = no2_pivoted.melt(\n",
        "id_vars=\"date.utc\",\n",
        "value_vars=[\"BETR801\", \"FR04014\", \"London Westminster\"],\n",
        "value_name=\"NO_2\",\n",
        "var_name=\"id_location\",\n",
        ")\n",
        "\n",
        "no_2.head()"
      ],
      "metadata": {
        "execution": {
          "iopub.status.busy": "2023-08-19T08:08:58.277391Z",
          "iopub.execute_input": "2023-08-19T08:08:58.277811Z",
          "iopub.status.idle": "2023-08-19T08:08:58.318745Z",
          "shell.execute_reply.started": "2023-08-19T08:08:58.277773Z",
          "shell.execute_reply": "2023-08-19T08:08:58.31754Z"
        },
        "trusted": true,
        "id": "dlcZRZU-mDm1"
      },
      "execution_count": null,
      "outputs": []
    },
    {
      "cell_type": "code",
      "source": [
        "air_quality_no2 = pd.read_csv(\"/kaggle/input/airquality/air_quality_no2_long.csv\",parse_dates=True)\n",
        "air_quality_no2 = air_quality_no2[[\"date.utc\", \"location\", \"parameter\", \"value\"]]\n",
        "air_quality_no2.head()"
      ],
      "metadata": {
        "execution": {
          "iopub.status.busy": "2023-08-19T08:08:58.320935Z",
          "iopub.execute_input": "2023-08-19T08:08:58.321418Z",
          "iopub.status.idle": "2023-08-19T08:08:58.346678Z",
          "shell.execute_reply.started": "2023-08-19T08:08:58.321364Z",
          "shell.execute_reply": "2023-08-19T08:08:58.345571Z"
        },
        "trusted": true,
        "id": "RkivXd-ImDm2"
      },
      "execution_count": null,
      "outputs": []
    },
    {
      "cell_type": "code",
      "source": [
        "air_quality_pm25 = pd.read_csv(\"/kaggle/input/airquality3/air_quality_pm25_long.csv\",parse_dates=True)\n",
        "\n",
        "air_quality_pm25 = air_quality_pm25[[\"date.utc\", \"location\",\"parameter\", \"value\"]]\n",
        "\n",
        "air_quality_pm25.head()"
      ],
      "metadata": {
        "execution": {
          "iopub.status.busy": "2023-08-19T08:08:58.348046Z",
          "iopub.execute_input": "2023-08-19T08:08:58.348437Z",
          "iopub.status.idle": "2023-08-19T08:08:58.375977Z",
          "shell.execute_reply.started": "2023-08-19T08:08:58.348407Z",
          "shell.execute_reply": "2023-08-19T08:08:58.374912Z"
        },
        "trusted": true,
        "id": "F-5CHUkKmDm2"
      },
      "execution_count": null,
      "outputs": []
    },
    {
      "cell_type": "code",
      "source": [
        "\n",
        "air_quality = pd.concat([air_quality_pm25, air_quality_no2], axis=0)\n",
        "air_quality.head()"
      ],
      "metadata": {
        "execution": {
          "iopub.status.busy": "2023-08-19T08:08:58.377549Z",
          "iopub.execute_input": "2023-08-19T08:08:58.377974Z",
          "iopub.status.idle": "2023-08-19T08:08:58.393807Z",
          "shell.execute_reply.started": "2023-08-19T08:08:58.377937Z",
          "shell.execute_reply": "2023-08-19T08:08:58.392258Z"
        },
        "trusted": true,
        "id": "mihzvwWumDm3"
      },
      "execution_count": null,
      "outputs": []
    },
    {
      "cell_type": "code",
      "source": [
        "print('Shape of the ``air_quality_pm25`` table: ', air_quality_pm25.shape)\n",
        "print('Shape of the ``air_quality_no2`` table: ', air_quality_no2.shape)\n",
        "print('Shape of the resulting ``air_quality`` table: ', air_quality.shape)"
      ],
      "metadata": {
        "execution": {
          "iopub.status.busy": "2023-08-19T08:08:58.395737Z",
          "iopub.execute_input": "2023-08-19T08:08:58.396194Z",
          "iopub.status.idle": "2023-08-19T08:08:58.404999Z",
          "shell.execute_reply.started": "2023-08-19T08:08:58.396134Z",
          "shell.execute_reply": "2023-08-19T08:08:58.404011Z"
        },
        "trusted": true,
        "id": "vinieAU2mDm3"
      },
      "execution_count": null,
      "outputs": []
    },
    {
      "cell_type": "code",
      "source": [
        "air_quality = air_quality.sort_values(\"date.utc\")\n",
        "air_quality.head()"
      ],
      "metadata": {
        "execution": {
          "iopub.status.busy": "2023-08-19T08:08:58.407173Z",
          "iopub.execute_input": "2023-08-19T08:08:58.407702Z",
          "iopub.status.idle": "2023-08-19T08:08:58.431345Z",
          "shell.execute_reply.started": "2023-08-19T08:08:58.407668Z",
          "shell.execute_reply": "2023-08-19T08:08:58.430172Z"
        },
        "trusted": true,
        "id": "Vq4y1xU3mDm4"
      },
      "execution_count": null,
      "outputs": []
    },
    {
      "cell_type": "code",
      "source": [
        "air_quality_ = pd.concat([air_quality_pm25, air_quality_no2], keys=[\"PM25\", \"NO2\"])\n",
        "air_quality_.head()"
      ],
      "metadata": {
        "execution": {
          "iopub.status.busy": "2023-08-19T08:08:58.43268Z",
          "iopub.execute_input": "2023-08-19T08:08:58.433001Z",
          "iopub.status.idle": "2023-08-19T08:08:58.451298Z",
          "shell.execute_reply.started": "2023-08-19T08:08:58.432973Z",
          "shell.execute_reply": "2023-08-19T08:08:58.450256Z"
        },
        "trusted": true,
        "id": "sZybJ1iumDm4"
      },
      "execution_count": null,
      "outputs": []
    },
    {
      "cell_type": "code",
      "source": [
        "stations_coord = pd.read_csv(\"/kaggle/input/airquality4/air_quality_stations.csv\")\n",
        "stations_coord.head()"
      ],
      "metadata": {
        "execution": {
          "iopub.status.busy": "2023-08-19T08:08:58.453296Z",
          "iopub.execute_input": "2023-08-19T08:08:58.453614Z",
          "iopub.status.idle": "2023-08-19T08:08:58.46766Z",
          "shell.execute_reply.started": "2023-08-19T08:08:58.453587Z",
          "shell.execute_reply": "2023-08-19T08:08:58.466581Z"
        },
        "trusted": true,
        "id": "o9pj2a7cmDm5"
      },
      "execution_count": null,
      "outputs": []
    },
    {
      "cell_type": "code",
      "source": [
        "air_quality = pd.merge(air_quality, stations_coord, how=\"left\", on=\"location\")\n",
        "air_quality.head()"
      ],
      "metadata": {
        "execution": {
          "iopub.status.busy": "2023-08-19T08:08:58.469314Z",
          "iopub.execute_input": "2023-08-19T08:08:58.46964Z",
          "iopub.status.idle": "2023-08-19T08:08:58.489571Z",
          "shell.execute_reply.started": "2023-08-19T08:08:58.469613Z",
          "shell.execute_reply": "2023-08-19T08:08:58.488758Z"
        },
        "trusted": true,
        "id": "3VEkF4y1mDm5"
      },
      "execution_count": null,
      "outputs": []
    },
    {
      "cell_type": "code",
      "source": [
        "air_quality_parameters = pd.read_csv(\"/kaggle/input/airquality1/air_quality_parameters.csv\")\n",
        "air_quality_parameters.head()"
      ],
      "metadata": {
        "execution": {
          "iopub.status.busy": "2023-08-19T08:08:58.490813Z",
          "iopub.execute_input": "2023-08-19T08:08:58.491145Z",
          "iopub.status.idle": "2023-08-19T08:08:58.506596Z",
          "shell.execute_reply.started": "2023-08-19T08:08:58.491117Z",
          "shell.execute_reply": "2023-08-19T08:08:58.505278Z"
        },
        "trusted": true,
        "id": "cbfmaUK5mDm6"
      },
      "execution_count": null,
      "outputs": []
    },
    {
      "cell_type": "code",
      "source": [
        "air_quality = pd.merge(air_quality, air_quality_parameters,how='left', left_on='parameter', right_on='id')\n",
        "air_quality.head()"
      ],
      "metadata": {
        "execution": {
          "iopub.status.busy": "2023-08-19T08:08:58.508167Z",
          "iopub.execute_input": "2023-08-19T08:08:58.508493Z",
          "iopub.status.idle": "2023-08-19T08:08:58.533905Z",
          "shell.execute_reply.started": "2023-08-19T08:08:58.508465Z",
          "shell.execute_reply": "2023-08-19T08:08:58.532251Z"
        },
        "trusted": true,
        "id": "i7di9odDmDm6"
      },
      "execution_count": null,
      "outputs": []
    },
    {
      "cell_type": "code",
      "source": [
        "air_quality = pd.read_csv(\"/kaggle/input/airquality/air_quality_no2_long.csv\")\n",
        "air_quality = air_quality.rename(columns={\"date.utc\": \"datetime\"})\n",
        "air_quality.head()"
      ],
      "metadata": {
        "execution": {
          "iopub.status.busy": "2023-08-19T08:08:58.53602Z",
          "iopub.execute_input": "2023-08-19T08:08:58.537484Z",
          "iopub.status.idle": "2023-08-19T08:08:58.561486Z",
          "shell.execute_reply.started": "2023-08-19T08:08:58.537386Z",
          "shell.execute_reply": "2023-08-19T08:08:58.560439Z"
        },
        "trusted": true,
        "id": "sAYsdcuxmDm7"
      },
      "execution_count": null,
      "outputs": []
    },
    {
      "cell_type": "code",
      "source": [
        "air_quality.city.unique()"
      ],
      "metadata": {
        "execution": {
          "iopub.status.busy": "2023-08-19T08:08:58.562732Z",
          "iopub.execute_input": "2023-08-19T08:08:58.563752Z",
          "iopub.status.idle": "2023-08-19T08:08:58.571938Z",
          "shell.execute_reply.started": "2023-08-19T08:08:58.563717Z",
          "shell.execute_reply": "2023-08-19T08:08:58.570512Z"
        },
        "trusted": true,
        "id": "7hD6GCCamDm7"
      },
      "execution_count": null,
      "outputs": []
    },
    {
      "cell_type": "code",
      "source": [
        "air_quality[\"datetime\"] = pd.to_datetime(air_quality[\"datetime\"])\n",
        "air_quality[\"datetime\"]"
      ],
      "metadata": {
        "execution": {
          "iopub.status.busy": "2023-08-19T08:08:58.573537Z",
          "iopub.execute_input": "2023-08-19T08:08:58.57457Z",
          "iopub.status.idle": "2023-08-19T08:08:58.591885Z",
          "shell.execute_reply.started": "2023-08-19T08:08:58.574533Z",
          "shell.execute_reply": "2023-08-19T08:08:58.590436Z"
        },
        "trusted": true,
        "id": "OxMIMg4rmDm8"
      },
      "execution_count": null,
      "outputs": []
    },
    {
      "cell_type": "code",
      "source": [
        "pd.read_csv(\"/kaggle/input/airquality/air_quality_no2_long.csv\") #parse_dates=[\"datetime\"]"
      ],
      "metadata": {
        "execution": {
          "iopub.status.busy": "2023-08-19T08:08:58.593558Z",
          "iopub.execute_input": "2023-08-19T08:08:58.594164Z",
          "iopub.status.idle": "2023-08-19T08:08:58.626269Z",
          "shell.execute_reply.started": "2023-08-19T08:08:58.594128Z",
          "shell.execute_reply": "2023-08-19T08:08:58.625032Z"
        },
        "trusted": true,
        "id": "CJSe7uJgmDm8"
      },
      "execution_count": null,
      "outputs": []
    },
    {
      "cell_type": "code",
      "source": [
        "air_quality[\"datetime\"].min(), air_quality[\"datetime\"].max()"
      ],
      "metadata": {
        "execution": {
          "iopub.status.busy": "2023-08-19T08:08:58.628091Z",
          "iopub.execute_input": "2023-08-19T08:08:58.629225Z",
          "iopub.status.idle": "2023-08-19T08:08:58.636241Z",
          "shell.execute_reply.started": "2023-08-19T08:08:58.62919Z",
          "shell.execute_reply": "2023-08-19T08:08:58.635078Z"
        },
        "trusted": true,
        "id": "GJpfjQVFmDm9"
      },
      "execution_count": null,
      "outputs": []
    },
    {
      "cell_type": "code",
      "source": [
        "air_quality[\"datetime\"].max() - air_quality[\"datetime\"].min()"
      ],
      "metadata": {
        "execution": {
          "iopub.status.busy": "2023-08-19T08:08:58.637678Z",
          "iopub.execute_input": "2023-08-19T08:08:58.638411Z",
          "iopub.status.idle": "2023-08-19T08:08:58.648655Z",
          "shell.execute_reply.started": "2023-08-19T08:08:58.638381Z",
          "shell.execute_reply": "2023-08-19T08:08:58.647862Z"
        },
        "trusted": true,
        "id": "-NlU6PJYmDm9"
      },
      "execution_count": null,
      "outputs": []
    },
    {
      "cell_type": "code",
      "source": [
        "air_quality[\"month\"] = air_quality[\"datetime\"].dt.month\n",
        "air_quality.head()"
      ],
      "metadata": {
        "execution": {
          "iopub.status.busy": "2023-08-19T08:08:58.649836Z",
          "iopub.execute_input": "2023-08-19T08:08:58.650634Z",
          "iopub.status.idle": "2023-08-19T08:08:58.671334Z",
          "shell.execute_reply.started": "2023-08-19T08:08:58.65058Z",
          "shell.execute_reply": "2023-08-19T08:08:58.670013Z"
        },
        "trusted": true,
        "id": "dGfg9-9pmDm9"
      },
      "execution_count": null,
      "outputs": []
    },
    {
      "cell_type": "code",
      "source": [
        "air_quality.groupby([air_quality[\"datetime\"].dt.weekday, \"location\"])[\"value\"].mean()"
      ],
      "metadata": {
        "execution": {
          "iopub.status.busy": "2023-08-19T08:08:58.672765Z",
          "iopub.execute_input": "2023-08-19T08:08:58.6731Z",
          "iopub.status.idle": "2023-08-19T08:08:58.687399Z",
          "shell.execute_reply.started": "2023-08-19T08:08:58.673071Z",
          "shell.execute_reply": "2023-08-19T08:08:58.686246Z"
        },
        "trusted": true,
        "id": "-uyhoIY9mDm-"
      },
      "execution_count": null,
      "outputs": []
    },
    {
      "cell_type": "code",
      "source": [
        "fig, axs = plt.subplots(figsize=(12, 4))\n",
        "air_quality.groupby(air_quality[\"datetime\"].dt.hour)[\"value\"].mean().plot(kind='bar', rot=0, ax=axs)\n",
        "\n",
        "plt.xlabel(\"Hour of the day\"); # custom x label using matplotlib\n",
        "plt.ylabel(\"$NO_2 (µg/m^3)$\");"
      ],
      "metadata": {
        "execution": {
          "iopub.status.busy": "2023-08-19T08:08:58.688713Z",
          "iopub.execute_input": "2023-08-19T08:08:58.689756Z",
          "iopub.status.idle": "2023-08-19T08:08:59.155383Z",
          "shell.execute_reply.started": "2023-08-19T08:08:58.689724Z",
          "shell.execute_reply": "2023-08-19T08:08:59.154235Z"
        },
        "trusted": true,
        "id": "uFDng1P8mDm-"
      },
      "execution_count": null,
      "outputs": []
    },
    {
      "cell_type": "code",
      "source": [
        "no_2 = air_quality.pivot(index=\"datetime\", columns=\"location\", values=\"value\")\n",
        "no_2.head()"
      ],
      "metadata": {
        "execution": {
          "iopub.status.busy": "2023-08-19T08:08:59.171669Z",
          "iopub.execute_input": "2023-08-19T08:08:59.172113Z",
          "iopub.status.idle": "2023-08-19T08:08:59.190879Z",
          "shell.execute_reply.started": "2023-08-19T08:08:59.172078Z",
          "shell.execute_reply": "2023-08-19T08:08:59.189661Z"
        },
        "trusted": true,
        "id": "BfiE1nb1mDm_"
      },
      "execution_count": null,
      "outputs": []
    },
    {
      "cell_type": "code",
      "source": [
        "no_2.index.year, no_2.index.weekday"
      ],
      "metadata": {
        "execution": {
          "iopub.status.busy": "2023-08-19T08:08:59.192456Z",
          "iopub.execute_input": "2023-08-19T08:08:59.192804Z",
          "iopub.status.idle": "2023-08-19T08:08:59.201821Z",
          "shell.execute_reply.started": "2023-08-19T08:08:59.192774Z",
          "shell.execute_reply": "2023-08-19T08:08:59.200495Z"
        },
        "trusted": true,
        "id": "3T72_Ev3mDnA"
      },
      "execution_count": null,
      "outputs": []
    },
    {
      "cell_type": "code",
      "source": [
        "no_2[\"2019-05-20\":\"2019-05-21\"].plot();"
      ],
      "metadata": {
        "execution": {
          "iopub.status.busy": "2023-08-19T08:08:59.20359Z",
          "iopub.execute_input": "2023-08-19T08:08:59.203908Z",
          "iopub.status.idle": "2023-08-19T08:08:59.587696Z",
          "shell.execute_reply.started": "2023-08-19T08:08:59.203883Z",
          "shell.execute_reply": "2023-08-19T08:08:59.586592Z"
        },
        "trusted": true,
        "id": "ediFPPavmDnB"
      },
      "execution_count": null,
      "outputs": []
    },
    {
      "cell_type": "code",
      "source": [
        "monthly_max = no_2.resample(\"M\").max()\n",
        "monthly_max"
      ],
      "metadata": {
        "execution": {
          "iopub.status.busy": "2023-08-19T08:08:59.589363Z",
          "iopub.execute_input": "2023-08-19T08:08:59.589864Z",
          "iopub.status.idle": "2023-08-19T08:08:59.611671Z",
          "shell.execute_reply.started": "2023-08-19T08:08:59.589823Z",
          "shell.execute_reply": "2023-08-19T08:08:59.610088Z"
        },
        "trusted": true,
        "id": "zGuwnrUGmDnB"
      },
      "execution_count": null,
      "outputs": []
    },
    {
      "cell_type": "code",
      "source": [
        "monthly_max.index.freq"
      ],
      "metadata": {
        "execution": {
          "iopub.status.busy": "2023-08-19T08:08:59.615245Z",
          "iopub.execute_input": "2023-08-19T08:08:59.615914Z",
          "iopub.status.idle": "2023-08-19T08:08:59.623059Z",
          "shell.execute_reply.started": "2023-08-19T08:08:59.615867Z",
          "shell.execute_reply": "2023-08-19T08:08:59.62225Z"
        },
        "trusted": true,
        "id": "iIqLNNkYmDnD"
      },
      "execution_count": null,
      "outputs": []
    },
    {
      "cell_type": "code",
      "source": [
        "no_2.resample(\"D\").mean().plot(style=\"-o\", figsize=(10, 5));"
      ],
      "metadata": {
        "execution": {
          "iopub.status.busy": "2023-08-19T08:08:59.624924Z",
          "iopub.execute_input": "2023-08-19T08:08:59.625388Z",
          "iopub.status.idle": "2023-08-19T08:09:00.164721Z",
          "shell.execute_reply.started": "2023-08-19T08:08:59.625355Z",
          "shell.execute_reply": "2023-08-19T08:09:00.163562Z"
        },
        "trusted": true,
        "id": "9IRjWlNvmDnD"
      },
      "execution_count": null,
      "outputs": []
    }
  ]
}