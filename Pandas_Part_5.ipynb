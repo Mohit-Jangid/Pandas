{
  "metadata": {
    "kernelspec": {
      "language": "python",
      "display_name": "Python 3",
      "name": "python3"
    },
    "language_info": {
      "pygments_lexer": "ipython3",
      "nbconvert_exporter": "python",
      "version": "3.6.4",
      "file_extension": ".py",
      "codemirror_mode": {
        "name": "ipython",
        "version": 3
      },
      "name": "python",
      "mimetype": "text/x-python"
    },
    "colab": {
      "name": "🐼Pandas 🛠⚒ toolkit for 👨👩Beginners Part 5",
      "provenance": [],
      "include_colab_link": true
    }
  },
  "nbformat_minor": 0,
  "nbformat": 4,
  "cells": [
    {
      "cell_type": "markdown",
      "metadata": {
        "id": "view-in-github",
        "colab_type": "text"
      },
      "source": [
        "<a href=\"https://colab.research.google.com/github/Mohit-Jangid/Pandas/blob/main/Pandas_Part_5.ipynb\" target=\"_parent\"><img src=\"https://colab.research.google.com/assets/colab-badge.svg\" alt=\"Open In Colab\"/></a>"
      ]
    },
    {
      "source": [
        "\n",
        "# IMPORTANT: RUN THIS CELL IN ORDER TO IMPORT YOUR KAGGLE DATA SOURCES\n",
        "# TO THE CORRECT LOCATION (/kaggle/input) IN YOUR NOTEBOOK,\n",
        "# THEN FEEL FREE TO DELETE THIS CELL.\n",
        "# NOTE: THIS NOTEBOOK ENVIRONMENT DIFFERS FROM KAGGLE'S PYTHON\n",
        "# ENVIRONMENT SO THERE MAY BE MISSING LIBRARIES USED BY YOUR\n",
        "# NOTEBOOK.\n",
        "\n",
        "import os\n",
        "import sys\n",
        "from tempfile import NamedTemporaryFile\n",
        "from urllib.request import urlopen\n",
        "from urllib.parse import unquote, urlparse\n",
        "from urllib.error import HTTPError\n",
        "from zipfile import ZipFile\n",
        "import tarfile\n",
        "import shutil\n",
        "\n",
        "CHUNK_SIZE = 40960\n",
        "DATA_SOURCE_MAPPING = 'tipping:https%3A%2F%2Fstorage.googleapis.com%2Fkaggle-data-sets%2F137031%2F324803%2Fbundle%2Farchive.zip%3FX-Goog-Algorithm%3DGOOG4-RSA-SHA256%26X-Goog-Credential%3Dgcp-kaggle-com%2540kaggle-161607.iam.gserviceaccount.com%252F20240701%252Fauto%252Fstorage%252Fgoog4_request%26X-Goog-Date%3D20240701T184032Z%26X-Goog-Expires%3D259200%26X-Goog-SignedHeaders%3Dhost%26X-Goog-Signature%3Db2b93d63641ba8ff912c93ef56531e9a910d8fbfecf88fb3fe3d9f9d87a1248eb71da2d1b76f0d5695aeb44cf9ebd93486dae1126b7a2caa66b6ce7411fc971caba9c3af0e554034d71ce96c7793fa0ab631ada997f9f44d1df4e74306277f8268241eeeb3446051e7cf5c3ad8a11c830ae5416a88f7e188a6a545324ea6651db85ba4c57bd6f73bc878b80cc677fca0d41b84c5311f9b5b881f90da700538222680701ac21c06b1ef29f88218638b80955633f7668ada7a3386ed40d5b4f59e74b29f685e6b6a65d0322bd9f2a46e6c588de9b296f74f26a4614932ea6d86c4c21f2d3901fcbd8cdfda6a8d824a9180d11c0f3b159b2daf7a084ba20afef9ab'\n",
        "\n",
        "KAGGLE_INPUT_PATH='/kaggle/input'\n",
        "KAGGLE_WORKING_PATH='/kaggle/working'\n",
        "KAGGLE_SYMLINK='kaggle'\n",
        "\n",
        "!umount /kaggle/input/ 2> /dev/null\n",
        "shutil.rmtree('/kaggle/input', ignore_errors=True)\n",
        "os.makedirs(KAGGLE_INPUT_PATH, 0o777, exist_ok=True)\n",
        "os.makedirs(KAGGLE_WORKING_PATH, 0o777, exist_ok=True)\n",
        "\n",
        "try:\n",
        "  os.symlink(KAGGLE_INPUT_PATH, os.path.join(\"..\", 'input'), target_is_directory=True)\n",
        "except FileExistsError:\n",
        "  pass\n",
        "try:\n",
        "  os.symlink(KAGGLE_WORKING_PATH, os.path.join(\"..\", 'working'), target_is_directory=True)\n",
        "except FileExistsError:\n",
        "  pass\n",
        "\n",
        "for data_source_mapping in DATA_SOURCE_MAPPING.split(','):\n",
        "    directory, download_url_encoded = data_source_mapping.split(':')\n",
        "    download_url = unquote(download_url_encoded)\n",
        "    filename = urlparse(download_url).path\n",
        "    destination_path = os.path.join(KAGGLE_INPUT_PATH, directory)\n",
        "    try:\n",
        "        with urlopen(download_url) as fileres, NamedTemporaryFile() as tfile:\n",
        "            total_length = fileres.headers['content-length']\n",
        "            print(f'Downloading {directory}, {total_length} bytes compressed')\n",
        "            dl = 0\n",
        "            data = fileres.read(CHUNK_SIZE)\n",
        "            while len(data) > 0:\n",
        "                dl += len(data)\n",
        "                tfile.write(data)\n",
        "                done = int(50 * dl / int(total_length))\n",
        "                sys.stdout.write(f\"\\r[{'=' * done}{' ' * (50-done)}] {dl} bytes downloaded\")\n",
        "                sys.stdout.flush()\n",
        "                data = fileres.read(CHUNK_SIZE)\n",
        "            if filename.endswith('.zip'):\n",
        "              with ZipFile(tfile) as zfile:\n",
        "                zfile.extractall(destination_path)\n",
        "            else:\n",
        "              with tarfile.open(tfile.name) as tarfile:\n",
        "                tarfile.extractall(destination_path)\n",
        "            print(f'\\nDownloaded and uncompressed: {directory}')\n",
        "    except HTTPError as e:\n",
        "        print(f'Failed to load (likely expired) {download_url} to path {destination_path}')\n",
        "        continue\n",
        "    except OSError as e:\n",
        "        print(f'Failed to load {download_url} to path {destination_path}')\n",
        "        continue\n",
        "\n",
        "print('Data source import complete.')\n"
      ],
      "metadata": {
        "id": "1mazrP5pmAdY"
      },
      "cell_type": "code",
      "outputs": [],
      "execution_count": null
    },
    {
      "cell_type": "markdown",
      "source": [
        "<div style=\"color:white;background-color:Black;padding:3%;border-radius:150px 150px;font-size:2.5em;text-align:center\">Pandas toolkit Part 5</div>"
      ],
      "metadata": {
        "id": "zRKDeBOVmAdk"
      }
    },
    {
      "cell_type": "markdown",
      "source": [
        "<center>\n",
        "<img src=\"https://i1.wp.com/www.datascienceexamples.com/wp-content/uploads/2019/10/python-and-pandas.jpg?resize=800%2C286&ssl=1\" width=1200>\n",
        "</center>"
      ],
      "metadata": {
        "id": "Cvh-5oAKmAdp"
      }
    },
    {
      "cell_type": "code",
      "source": [
        "import pandas as pd\n",
        "import numpy as np"
      ],
      "metadata": {
        "execution": {
          "iopub.status.busy": "2023-08-19T08:20:23.25807Z",
          "iopub.execute_input": "2023-08-19T08:20:23.25846Z",
          "iopub.status.idle": "2023-08-19T08:20:23.264054Z",
          "shell.execute_reply.started": "2023-08-19T08:20:23.258431Z",
          "shell.execute_reply": "2023-08-19T08:20:23.26255Z"
        },
        "trusted": true,
        "id": "f6oOKrpnmAds"
      },
      "execution_count": null,
      "outputs": []
    },
    {
      "cell_type": "code",
      "source": [
        "url = (\"https://raw.github.com/pandas-dev\"\"/pandas/main/pandas/tests/io/data/csv/tips.csv\")\n",
        "tips = pd.read_csv(url)\n",
        "tips.head()"
      ],
      "metadata": {
        "execution": {
          "iopub.status.busy": "2023-08-19T08:20:23.272924Z",
          "iopub.execute_input": "2023-08-19T08:20:23.273301Z",
          "iopub.status.idle": "2023-08-19T08:20:23.455498Z",
          "shell.execute_reply.started": "2023-08-19T08:20:23.273271Z",
          "shell.execute_reply": "2023-08-19T08:20:23.454245Z"
        },
        "trusted": true,
        "id": "puDggEuOmAdu"
      },
      "execution_count": null,
      "outputs": []
    },
    {
      "cell_type": "code",
      "source": [
        "tips[[\"total_bill\", \"tip\", \"smoker\", \"time\"]]"
      ],
      "metadata": {
        "execution": {
          "iopub.status.busy": "2023-08-19T08:20:23.458215Z",
          "iopub.execute_input": "2023-08-19T08:20:23.458685Z",
          "iopub.status.idle": "2023-08-19T08:20:23.480723Z",
          "shell.execute_reply.started": "2023-08-19T08:20:23.458642Z",
          "shell.execute_reply": "2023-08-19T08:20:23.478152Z"
        },
        "trusted": true,
        "id": "nS_dU53BmAdw"
      },
      "execution_count": null,
      "outputs": []
    },
    {
      "cell_type": "code",
      "source": [
        "tips.assign(tip_rate=tips[\"tip\"] / tips[\"total_bill\"])"
      ],
      "metadata": {
        "execution": {
          "iopub.status.busy": "2023-08-19T08:20:23.482803Z",
          "iopub.execute_input": "2023-08-19T08:20:23.483251Z",
          "iopub.status.idle": "2023-08-19T08:20:23.509106Z",
          "shell.execute_reply.started": "2023-08-19T08:20:23.483209Z",
          "shell.execute_reply": "2023-08-19T08:20:23.507895Z"
        },
        "trusted": true,
        "id": "spKB2rlfmAdy"
      },
      "execution_count": null,
      "outputs": []
    },
    {
      "cell_type": "code",
      "source": [
        "is_dinner = tips[\"time\"] == \"Dinner\"\n",
        "is_dinner"
      ],
      "metadata": {
        "execution": {
          "iopub.status.busy": "2023-08-19T08:20:23.512546Z",
          "iopub.execute_input": "2023-08-19T08:20:23.51297Z",
          "iopub.status.idle": "2023-08-19T08:20:23.522987Z",
          "shell.execute_reply.started": "2023-08-19T08:20:23.512937Z",
          "shell.execute_reply": "2023-08-19T08:20:23.521689Z"
        },
        "trusted": true,
        "id": "4njVzGsXmAd0"
      },
      "execution_count": null,
      "outputs": []
    },
    {
      "cell_type": "code",
      "source": [
        "is_dinner.value_counts()"
      ],
      "metadata": {
        "execution": {
          "iopub.status.busy": "2023-08-19T08:20:23.525213Z",
          "iopub.execute_input": "2023-08-19T08:20:23.525627Z",
          "iopub.status.idle": "2023-08-19T08:20:23.538926Z",
          "shell.execute_reply.started": "2023-08-19T08:20:23.525563Z",
          "shell.execute_reply": "2023-08-19T08:20:23.537311Z"
        },
        "trusted": true,
        "id": "oSQjWgipmAd2"
      },
      "execution_count": null,
      "outputs": []
    },
    {
      "cell_type": "code",
      "source": [
        "tips[is_dinner]"
      ],
      "metadata": {
        "execution": {
          "iopub.status.busy": "2023-08-19T08:20:23.540642Z",
          "iopub.execute_input": "2023-08-19T08:20:23.540987Z",
          "iopub.status.idle": "2023-08-19T08:20:23.563187Z",
          "shell.execute_reply.started": "2023-08-19T08:20:23.540957Z",
          "shell.execute_reply": "2023-08-19T08:20:23.562033Z"
        },
        "trusted": true,
        "id": "HLiIGmp1mAd4"
      },
      "execution_count": null,
      "outputs": []
    },
    {
      "cell_type": "code",
      "source": [
        "tips[(tips[\"time\"] == \"Dinner\") & (tips[\"tip\"] > 5.00)]"
      ],
      "metadata": {
        "execution": {
          "iopub.status.busy": "2023-08-19T08:20:23.564607Z",
          "iopub.execute_input": "2023-08-19T08:20:23.565027Z",
          "iopub.status.idle": "2023-08-19T08:20:23.58621Z",
          "shell.execute_reply.started": "2023-08-19T08:20:23.564997Z",
          "shell.execute_reply": "2023-08-19T08:20:23.585007Z"
        },
        "trusted": true,
        "id": "TLbANvDXmAd5"
      },
      "execution_count": null,
      "outputs": []
    },
    {
      "cell_type": "code",
      "source": [
        "tips[(tips[\"size\"] >= 5) | (tips[\"total_bill\"] > 45)]"
      ],
      "metadata": {
        "execution": {
          "iopub.status.busy": "2023-08-19T08:20:23.587954Z",
          "iopub.execute_input": "2023-08-19T08:20:23.588395Z",
          "iopub.status.idle": "2023-08-19T08:20:23.612388Z",
          "shell.execute_reply.started": "2023-08-19T08:20:23.588354Z",
          "shell.execute_reply": "2023-08-19T08:20:23.611556Z"
        },
        "trusted": true,
        "id": "s6TDZ5uImAd6"
      },
      "execution_count": null,
      "outputs": []
    },
    {
      "cell_type": "code",
      "source": [
        "tips.groupby(\"sex\").size()"
      ],
      "metadata": {
        "execution": {
          "iopub.status.busy": "2023-08-19T08:20:23.613941Z",
          "iopub.execute_input": "2023-08-19T08:20:23.614867Z",
          "iopub.status.idle": "2023-08-19T08:20:23.627762Z",
          "shell.execute_reply.started": "2023-08-19T08:20:23.614834Z",
          "shell.execute_reply": "2023-08-19T08:20:23.626675Z"
        },
        "trusted": true,
        "id": "4dhgJg3emAd7"
      },
      "execution_count": null,
      "outputs": []
    },
    {
      "cell_type": "code",
      "source": [
        "tips.groupby(\"sex\").count()"
      ],
      "metadata": {
        "execution": {
          "iopub.status.busy": "2023-08-19T08:20:23.632132Z",
          "iopub.execute_input": "2023-08-19T08:20:23.633073Z",
          "iopub.status.idle": "2023-08-19T08:20:23.64805Z",
          "shell.execute_reply.started": "2023-08-19T08:20:23.633028Z",
          "shell.execute_reply": "2023-08-19T08:20:23.646867Z"
        },
        "trusted": true,
        "id": "MQF4sqKhmAd7"
      },
      "execution_count": null,
      "outputs": []
    },
    {
      "cell_type": "code",
      "source": [
        "tips.groupby(\"sex\")[\"total_bill\"].count()"
      ],
      "metadata": {
        "execution": {
          "iopub.status.busy": "2023-08-19T08:20:23.649488Z",
          "iopub.execute_input": "2023-08-19T08:20:23.650093Z",
          "iopub.status.idle": "2023-08-19T08:20:23.663051Z",
          "shell.execute_reply.started": "2023-08-19T08:20:23.650047Z",
          "shell.execute_reply": "2023-08-19T08:20:23.661998Z"
        },
        "trusted": true,
        "id": "EeQwBdeWmAd8"
      },
      "execution_count": null,
      "outputs": []
    },
    {
      "cell_type": "code",
      "source": [
        "tips.groupby(\"day\").agg({\"tip\": np.mean, \"day\": np.size})"
      ],
      "metadata": {
        "execution": {
          "iopub.status.busy": "2023-08-19T08:20:23.664537Z",
          "iopub.execute_input": "2023-08-19T08:20:23.664962Z",
          "iopub.status.idle": "2023-08-19T08:20:23.681849Z",
          "shell.execute_reply.started": "2023-08-19T08:20:23.664916Z",
          "shell.execute_reply": "2023-08-19T08:20:23.680694Z"
        },
        "trusted": true,
        "id": "33tCTyfymAd8"
      },
      "execution_count": null,
      "outputs": []
    },
    {
      "cell_type": "code",
      "source": [
        "tips.groupby([\"smoker\", \"day\"]).agg({\"tip\": [np.size, np.mean]})"
      ],
      "metadata": {
        "execution": {
          "iopub.status.busy": "2023-08-19T08:20:23.683418Z",
          "iopub.execute_input": "2023-08-19T08:20:23.68417Z",
          "iopub.status.idle": "2023-08-19T08:20:23.704168Z",
          "shell.execute_reply.started": "2023-08-19T08:20:23.684131Z",
          "shell.execute_reply": "2023-08-19T08:20:23.702676Z"
        },
        "trusted": true,
        "id": "Td9WqW1_mAd8"
      },
      "execution_count": null,
      "outputs": []
    },
    {
      "cell_type": "code",
      "source": [
        "tips.nlargest(10 + 5, columns=\"tip\").tail(2)"
      ],
      "metadata": {
        "execution": {
          "iopub.status.busy": "2023-08-19T08:20:23.705463Z",
          "iopub.execute_input": "2023-08-19T08:20:23.705828Z",
          "iopub.status.idle": "2023-08-19T08:20:23.72208Z",
          "shell.execute_reply.started": "2023-08-19T08:20:23.705797Z",
          "shell.execute_reply": "2023-08-19T08:20:23.720945Z"
        },
        "trusted": true,
        "id": "8QcAQOK7mAd9"
      },
      "execution_count": null,
      "outputs": []
    },
    {
      "cell_type": "code",
      "source": [
        "(\n",
        "tips.assign(\n",
        "rn=tips.sort_values([\"total_bill\"], ascending=False)\n",
        ".groupby([\"day\"])\n",
        ".cumcount()\n",
        "+ 1\n",
        ")\n",
        ".query(\"rn < 3\")\n",
        ".sort_values([\"day\", \"rn\"])\n",
        ")"
      ],
      "metadata": {
        "execution": {
          "iopub.status.busy": "2023-08-19T08:20:23.72363Z",
          "iopub.execute_input": "2023-08-19T08:20:23.724771Z",
          "iopub.status.idle": "2023-08-19T08:20:23.756632Z",
          "shell.execute_reply.started": "2023-08-19T08:20:23.724726Z",
          "shell.execute_reply": "2023-08-19T08:20:23.755375Z"
        },
        "trusted": true,
        "id": "llRq2eZQmAd9"
      },
      "execution_count": null,
      "outputs": []
    },
    {
      "cell_type": "code",
      "source": [
        "(\n",
        "tips.assign(\n",
        "rnk=tips.groupby([\"day\"])[\"total_bill\"].rank(\n",
        "method=\"first\", ascending=False\n",
        ")\n",
        ")\n",
        ".query(\"rnk < 3\")\n",
        ".sort_values([\"day\", \"rnk\"])\n",
        ")"
      ],
      "metadata": {
        "execution": {
          "iopub.status.busy": "2023-08-19T08:20:23.758105Z",
          "iopub.execute_input": "2023-08-19T08:20:23.758677Z",
          "iopub.status.idle": "2023-08-19T08:20:23.788477Z",
          "shell.execute_reply.started": "2023-08-19T08:20:23.758632Z",
          "shell.execute_reply": "2023-08-19T08:20:23.787166Z"
        },
        "trusted": true,
        "id": "v9Z3gEdbmAd9"
      },
      "execution_count": null,
      "outputs": []
    },
    {
      "cell_type": "code",
      "source": [
        "(\n",
        "tips[tips[\"tip\"] < 2]\n",
        ".assign(rnk_min=tips.groupby([\"sex\"])[\"tip\"].rank(method=\"min\"))\n",
        ".query(\"rnk_min < 3\")\n",
        ".sort_values([\"sex\", \"rnk_min\"])\n",
        ")"
      ],
      "metadata": {
        "execution": {
          "iopub.status.busy": "2023-08-19T08:20:23.789916Z",
          "iopub.execute_input": "2023-08-19T08:20:23.790237Z",
          "iopub.status.idle": "2023-08-19T08:20:23.818126Z",
          "shell.execute_reply.started": "2023-08-19T08:20:23.79021Z",
          "shell.execute_reply": "2023-08-19T08:20:23.81687Z"
        },
        "trusted": true,
        "id": "6JiVWI6KmAd-"
      },
      "execution_count": null,
      "outputs": []
    },
    {
      "cell_type": "code",
      "source": [
        "tips.loc[tips[\"tip\"] < 2, \"tip\"] *= 2"
      ],
      "metadata": {
        "execution": {
          "iopub.status.busy": "2023-08-19T08:20:23.8195Z",
          "iopub.execute_input": "2023-08-19T08:20:23.819953Z",
          "iopub.status.idle": "2023-08-19T08:20:23.830723Z",
          "shell.execute_reply.started": "2023-08-19T08:20:23.819913Z",
          "shell.execute_reply": "2023-08-19T08:20:23.829483Z"
        },
        "trusted": true,
        "id": "qu_U0v03mAd-"
      },
      "execution_count": null,
      "outputs": []
    },
    {
      "cell_type": "code",
      "source": [
        "tips = tips.loc[tips[\"tip\"] <= 9]"
      ],
      "metadata": {
        "execution": {
          "iopub.status.busy": "2023-08-19T08:20:23.831955Z",
          "iopub.execute_input": "2023-08-19T08:20:23.832275Z",
          "iopub.status.idle": "2023-08-19T08:20:23.843374Z",
          "shell.execute_reply.started": "2023-08-19T08:20:23.832248Z",
          "shell.execute_reply": "2023-08-19T08:20:23.841995Z"
        },
        "trusted": true,
        "id": "atxLv0bnmAd_"
      },
      "execution_count": null,
      "outputs": []
    },
    {
      "cell_type": "code",
      "source": [
        "tips = pd.read_csv(\"/kaggle/input/tipping/tips.csv\", sep=\"\\t\", header=None)\n",
        "# alternatively, read_table is an alias to read_csv with tab delimiter\n",
        "tips = pd.read_table(\"/kaggle/input/tipping/tips.csv\", header=None)"
      ],
      "metadata": {
        "execution": {
          "iopub.status.busy": "2023-08-19T08:20:23.845423Z",
          "iopub.execute_input": "2023-08-19T08:20:23.846322Z",
          "iopub.status.idle": "2023-08-19T08:20:23.862145Z",
          "shell.execute_reply.started": "2023-08-19T08:20:23.846281Z",
          "shell.execute_reply": "2023-08-19T08:20:23.860693Z"
        },
        "trusted": true,
        "id": "fI1m3Ek1mAeA"
      },
      "execution_count": null,
      "outputs": []
    },
    {
      "cell_type": "code",
      "source": [
        "tips.to_excel(\"./tips.xlsx\")"
      ],
      "metadata": {
        "execution": {
          "iopub.status.busy": "2023-08-19T08:20:23.864285Z",
          "iopub.execute_input": "2023-08-19T08:20:23.86524Z",
          "iopub.status.idle": "2023-08-19T08:20:23.919104Z",
          "shell.execute_reply.started": "2023-08-19T08:20:23.865196Z",
          "shell.execute_reply": "2023-08-19T08:20:23.917925Z"
        },
        "trusted": true,
        "id": "LMoOsEewmAeB"
      },
      "execution_count": null,
      "outputs": []
    },
    {
      "cell_type": "code",
      "source": [
        "tips_df = pd.read_excel(\"./tips.xlsx\", index_col=0)"
      ],
      "metadata": {
        "execution": {
          "iopub.status.busy": "2023-08-19T08:20:23.92149Z",
          "iopub.execute_input": "2023-08-19T08:20:23.921886Z",
          "iopub.status.idle": "2023-08-19T08:20:23.965493Z",
          "shell.execute_reply.started": "2023-08-19T08:20:23.921853Z",
          "shell.execute_reply": "2023-08-19T08:20:23.964267Z"
        },
        "trusted": true,
        "id": "df9E7hxNmAeC"
      },
      "execution_count": null,
      "outputs": []
    },
    {
      "cell_type": "code",
      "source": [
        "tips.head(5)"
      ],
      "metadata": {
        "execution": {
          "iopub.status.busy": "2023-08-19T08:20:23.966927Z",
          "iopub.execute_input": "2023-08-19T08:20:23.967243Z",
          "iopub.status.idle": "2023-08-19T08:20:23.97735Z",
          "shell.execute_reply.started": "2023-08-19T08:20:23.967215Z",
          "shell.execute_reply": "2023-08-19T08:20:23.976073Z"
        },
        "trusted": true,
        "id": "vihpfRhlmAeC"
      },
      "execution_count": null,
      "outputs": []
    },
    {
      "cell_type": "code",
      "source": [
        "tips = pd.read_csv(\"/kaggle/input/tipping/tips.csv\", sep=\"\\t\", header=None)\n",
        "# alternatively, read_table is an alias to read_csv with tab delimiter\n",
        "tips = pd.read_table(\"/kaggle/input/tipping/tips.csv\", header=None)\n",
        "tips.head()"
      ],
      "metadata": {
        "execution": {
          "iopub.status.busy": "2023-08-19T08:20:23.97901Z",
          "iopub.execute_input": "2023-08-19T08:20:23.979825Z",
          "iopub.status.idle": "2023-08-19T08:20:23.999781Z",
          "shell.execute_reply.started": "2023-08-19T08:20:23.97978Z",
          "shell.execute_reply": "2023-08-19T08:20:23.998794Z"
        },
        "trusted": true,
        "id": "1mUOlAsNmAeD"
      },
      "execution_count": null,
      "outputs": []
    },
    {
      "cell_type": "code",
      "source": [
        "url = (\"https://raw.github.com/pandas-dev\"\"/pandas/main/pandas/tests/io/data/csv/tips.csv\")\n",
        "\n",
        "tips = pd.read_csv(url)\n",
        "tips.head()"
      ],
      "metadata": {
        "execution": {
          "iopub.status.busy": "2023-08-19T08:20:24.000956Z",
          "iopub.execute_input": "2023-08-19T08:20:24.00134Z",
          "iopub.status.idle": "2023-08-19T08:20:24.099469Z",
          "shell.execute_reply.started": "2023-08-19T08:20:24.001312Z",
          "shell.execute_reply": "2023-08-19T08:20:24.098211Z"
        },
        "trusted": true,
        "id": "HDOjAtASmAeE"
      },
      "execution_count": null,
      "outputs": []
    },
    {
      "cell_type": "code",
      "source": [
        "tips[\"total_bill\"] = tips[\"total_bill\"] - 2\n",
        "tips[\"new_bill\"] = tips[\"total_bill\"] / 2\n",
        "tips.head()"
      ],
      "metadata": {
        "execution": {
          "iopub.status.busy": "2023-08-19T08:20:24.100802Z",
          "iopub.execute_input": "2023-08-19T08:20:24.101137Z",
          "iopub.status.idle": "2023-08-19T08:20:24.120396Z",
          "shell.execute_reply.started": "2023-08-19T08:20:24.101108Z",
          "shell.execute_reply": "2023-08-19T08:20:24.119064Z"
        },
        "trusted": true,
        "id": "OZuq77hymAeE"
      },
      "execution_count": null,
      "outputs": []
    },
    {
      "cell_type": "code",
      "source": [
        "tips = tips.drop(\"new_bill\", axis=1)"
      ],
      "metadata": {
        "execution": {
          "iopub.status.busy": "2023-08-19T08:20:24.12199Z",
          "iopub.execute_input": "2023-08-19T08:20:24.122854Z",
          "iopub.status.idle": "2023-08-19T08:20:24.134175Z",
          "shell.execute_reply.started": "2023-08-19T08:20:24.122819Z",
          "shell.execute_reply": "2023-08-19T08:20:24.133025Z"
        },
        "trusted": true,
        "id": "UyG3_NupmAeF"
      },
      "execution_count": null,
      "outputs": []
    },
    {
      "cell_type": "code",
      "source": [
        "tips[tips[\"total_bill\"] > 10]"
      ],
      "metadata": {
        "execution": {
          "iopub.status.busy": "2023-08-19T08:20:24.142244Z",
          "iopub.execute_input": "2023-08-19T08:20:24.142825Z",
          "iopub.status.idle": "2023-08-19T08:20:24.165699Z",
          "shell.execute_reply.started": "2023-08-19T08:20:24.142791Z",
          "shell.execute_reply": "2023-08-19T08:20:24.16454Z"
        },
        "trusted": true,
        "id": "ysFy2vFWmAeG"
      },
      "execution_count": null,
      "outputs": []
    },
    {
      "cell_type": "code",
      "source": [
        "tips[\"bucket\"] = np.where(tips[\"total_bill\"] < 10, \"low\", \"high\")\n",
        "tips"
      ],
      "metadata": {
        "execution": {
          "iopub.status.busy": "2023-08-19T08:20:24.167342Z",
          "iopub.execute_input": "2023-08-19T08:20:24.167724Z",
          "iopub.status.idle": "2023-08-19T08:20:24.188608Z",
          "shell.execute_reply.started": "2023-08-19T08:20:24.167691Z",
          "shell.execute_reply": "2023-08-19T08:20:24.187717Z"
        },
        "trusted": true,
        "id": "T1FowSgkmAeH"
      },
      "execution_count": null,
      "outputs": []
    },
    {
      "cell_type": "code",
      "source": [
        "tips[\"date1\"] = pd.Timestamp(\"2013-01-15\")\n",
        "tips[\"date2\"] = pd.Timestamp(\"2015-02-15\")\n",
        "tips[\"date1_year\"] = tips[\"date1\"].dt.year\n",
        "tips[\"date2_month\"] = tips[\"date2\"].dt.month\n",
        "tips[\"date1_next\"] = tips[\"date1\"] + pd.offsets.MonthBegin()\n",
        "tips[\"months_between\"] = tips[\"date2\"].dt.to_period(\"M\") - tips[\"date1\"].dt.to_period(\"M\")\n",
        "\n",
        "tips[[\"date1\", \"date2\", \"date1_year\", \"date2_month\", \"date1_next\", \"months_between\"]]"
      ],
      "metadata": {
        "execution": {
          "iopub.status.busy": "2023-08-19T08:20:24.190073Z",
          "iopub.execute_input": "2023-08-19T08:20:24.190804Z",
          "iopub.status.idle": "2023-08-19T08:20:24.225797Z",
          "shell.execute_reply.started": "2023-08-19T08:20:24.190772Z",
          "shell.execute_reply": "2023-08-19T08:20:24.224549Z"
        },
        "trusted": true,
        "id": "FP_hKO_YmAeN"
      },
      "execution_count": null,
      "outputs": []
    },
    {
      "cell_type": "code",
      "source": [
        "tips[[\"sex\", \"total_bill\", \"tip\"]]"
      ],
      "metadata": {
        "execution": {
          "iopub.status.busy": "2023-08-19T08:20:24.227259Z",
          "iopub.execute_input": "2023-08-19T08:20:24.227631Z",
          "iopub.status.idle": "2023-08-19T08:20:24.245399Z",
          "shell.execute_reply.started": "2023-08-19T08:20:24.22756Z",
          "shell.execute_reply": "2023-08-19T08:20:24.243815Z"
        },
        "trusted": true,
        "id": "MaTE1F1YmAeN"
      },
      "execution_count": null,
      "outputs": []
    },
    {
      "cell_type": "code",
      "source": [
        "tips.drop(\"sex\", axis=1)"
      ],
      "metadata": {
        "execution": {
          "iopub.status.busy": "2023-08-19T08:20:24.2472Z",
          "iopub.execute_input": "2023-08-19T08:20:24.247557Z",
          "iopub.status.idle": "2023-08-19T08:20:24.286206Z",
          "shell.execute_reply.started": "2023-08-19T08:20:24.247526Z",
          "shell.execute_reply": "2023-08-19T08:20:24.285095Z"
        },
        "trusted": true,
        "id": "O9Ai4uromAeO"
      },
      "execution_count": null,
      "outputs": []
    },
    {
      "cell_type": "code",
      "source": [
        "tips.rename(columns={\"total_bill\": \"total_bill_2\"})"
      ],
      "metadata": {
        "execution": {
          "iopub.status.busy": "2023-08-19T08:20:24.287957Z",
          "iopub.execute_input": "2023-08-19T08:20:24.288733Z",
          "iopub.status.idle": "2023-08-19T08:20:24.319251Z",
          "shell.execute_reply.started": "2023-08-19T08:20:24.288691Z",
          "shell.execute_reply": "2023-08-19T08:20:24.31804Z"
        },
        "trusted": true,
        "id": "bhV6VqnAmAeP"
      },
      "execution_count": null,
      "outputs": []
    },
    {
      "cell_type": "code",
      "source": [
        "tips = tips.sort_values([\"sex\", \"total_bill\"])\n",
        "tips.head(2)"
      ],
      "metadata": {
        "execution": {
          "iopub.status.busy": "2023-08-19T08:20:24.320686Z",
          "iopub.execute_input": "2023-08-19T08:20:24.321105Z",
          "iopub.status.idle": "2023-08-19T08:20:24.345548Z",
          "shell.execute_reply.started": "2023-08-19T08:20:24.321066Z",
          "shell.execute_reply": "2023-08-19T08:20:24.34433Z"
        },
        "trusted": true,
        "id": "QbGjqpt-mAeQ"
      },
      "execution_count": null,
      "outputs": []
    },
    {
      "cell_type": "code",
      "source": [
        "tips[\"time\"].str.len()"
      ],
      "metadata": {
        "execution": {
          "iopub.status.busy": "2023-08-19T08:20:24.347486Z",
          "iopub.execute_input": "2023-08-19T08:20:24.348091Z",
          "iopub.status.idle": "2023-08-19T08:20:24.358692Z",
          "shell.execute_reply.started": "2023-08-19T08:20:24.348058Z",
          "shell.execute_reply": "2023-08-19T08:20:24.357556Z"
        },
        "trusted": true,
        "id": "Z1S5eT10mAeQ"
      },
      "execution_count": null,
      "outputs": []
    },
    {
      "cell_type": "code",
      "source": [
        "tips[\"time\"].str.rstrip().str.len()"
      ],
      "metadata": {
        "execution": {
          "iopub.status.busy": "2023-08-19T08:20:24.361324Z",
          "iopub.execute_input": "2023-08-19T08:20:24.362376Z",
          "iopub.status.idle": "2023-08-19T08:20:24.375985Z",
          "shell.execute_reply.started": "2023-08-19T08:20:24.362344Z",
          "shell.execute_reply": "2023-08-19T08:20:24.374915Z"
        },
        "trusted": true,
        "id": "W0-9eKVLmAef"
      },
      "execution_count": null,
      "outputs": []
    },
    {
      "cell_type": "code",
      "source": [
        "tips[\"sex\"].str.find(\"ale\")"
      ],
      "metadata": {
        "execution": {
          "iopub.status.busy": "2023-08-19T08:20:24.377508Z",
          "iopub.execute_input": "2023-08-19T08:20:24.377959Z",
          "iopub.status.idle": "2023-08-19T08:20:24.39343Z",
          "shell.execute_reply.started": "2023-08-19T08:20:24.377918Z",
          "shell.execute_reply": "2023-08-19T08:20:24.391964Z"
        },
        "trusted": true,
        "id": "JacHbkknmAeg"
      },
      "execution_count": null,
      "outputs": []
    },
    {
      "cell_type": "code",
      "source": [
        "tips[\"sex\"].str[0:1]"
      ],
      "metadata": {
        "execution": {
          "iopub.status.busy": "2023-08-19T08:20:24.394812Z",
          "iopub.execute_input": "2023-08-19T08:20:24.395177Z",
          "iopub.status.idle": "2023-08-19T08:20:24.408635Z",
          "shell.execute_reply.started": "2023-08-19T08:20:24.395133Z",
          "shell.execute_reply": "2023-08-19T08:20:24.407527Z"
        },
        "trusted": true,
        "id": "dZP6HJV2mAeg"
      },
      "execution_count": null,
      "outputs": []
    },
    {
      "cell_type": "code",
      "source": [
        "pd.pivot_table(tips, values=\"tip\", index=[\"size\"], columns=[\"sex\"], aggfunc=np.average)"
      ],
      "metadata": {
        "execution": {
          "iopub.status.busy": "2023-08-19T08:20:24.409957Z",
          "iopub.execute_input": "2023-08-19T08:20:24.410295Z",
          "iopub.status.idle": "2023-08-19T08:20:24.441225Z",
          "shell.execute_reply.started": "2023-08-19T08:20:24.410268Z",
          "shell.execute_reply": "2023-08-19T08:20:24.439921Z"
        },
        "trusted": true,
        "id": "GflIFGElmAeh"
      },
      "execution_count": null,
      "outputs": []
    },
    {
      "cell_type": "code",
      "source": [
        "tips.iloc[1:2,0:3]"
      ],
      "metadata": {
        "execution": {
          "iopub.status.busy": "2023-08-19T08:20:24.442156Z",
          "iopub.execute_input": "2023-08-19T08:20:24.442471Z",
          "iopub.status.idle": "2023-08-19T08:20:24.453385Z",
          "shell.execute_reply.started": "2023-08-19T08:20:24.442442Z",
          "shell.execute_reply": "2023-08-19T08:20:24.452644Z"
        },
        "trusted": true,
        "id": "TEHPl_4cmAeh"
      },
      "execution_count": null,
      "outputs": []
    },
    {
      "cell_type": "code",
      "source": [
        "tips == \"3.75\""
      ],
      "metadata": {
        "execution": {
          "iopub.status.busy": "2023-08-19T08:20:24.455187Z",
          "iopub.execute_input": "2023-08-19T08:20:24.455681Z",
          "iopub.status.idle": "2023-08-19T08:20:24.488166Z",
          "shell.execute_reply.started": "2023-08-19T08:20:24.455562Z",
          "shell.execute_reply": "2023-08-19T08:20:24.487035Z"
        },
        "trusted": true,
        "id": "w-GM22ShmAei"
      },
      "execution_count": null,
      "outputs": []
    },
    {
      "cell_type": "code",
      "source": [
        "tips[\"day\"].str.contains(\"S\")"
      ],
      "metadata": {
        "execution": {
          "iopub.status.busy": "2023-08-19T08:20:24.489451Z",
          "iopub.execute_input": "2023-08-19T08:20:24.489803Z",
          "iopub.status.idle": "2023-08-19T08:20:24.503637Z",
          "shell.execute_reply.started": "2023-08-19T08:20:24.489771Z",
          "shell.execute_reply": "2023-08-19T08:20:24.50247Z"
        },
        "trusted": true,
        "id": "fEqJ3PBEmAei"
      },
      "execution_count": null,
      "outputs": []
    },
    {
      "cell_type": "code",
      "source": [
        "tips.replace(\"Thu\", \"Thursday\")"
      ],
      "metadata": {
        "execution": {
          "iopub.status.busy": "2023-08-19T08:20:24.504936Z",
          "iopub.execute_input": "2023-08-19T08:20:24.505351Z",
          "iopub.status.idle": "2023-08-19T08:20:24.540363Z",
          "shell.execute_reply.started": "2023-08-19T08:20:24.505307Z",
          "shell.execute_reply": "2023-08-19T08:20:24.539388Z"
        },
        "trusted": true,
        "id": "uFIE7JY6mAej"
      },
      "execution_count": null,
      "outputs": []
    },
    {
      "cell_type": "code",
      "source": [
        "tips_summed = tips.groupby([\"sex\", \"smoker\"])[[\"total_bill\", \"tip\"]].sum()\n",
        "tips_summed"
      ],
      "metadata": {
        "execution": {
          "iopub.status.busy": "2023-08-19T08:20:24.541962Z",
          "iopub.execute_input": "2023-08-19T08:20:24.542304Z",
          "iopub.status.idle": "2023-08-19T08:20:24.559597Z",
          "shell.execute_reply.started": "2023-08-19T08:20:24.542276Z",
          "shell.execute_reply": "2023-08-19T08:20:24.558425Z"
        },
        "trusted": true,
        "id": "T509VeYVmAej"
      },
      "execution_count": null,
      "outputs": []
    },
    {
      "cell_type": "code",
      "source": [
        "gb = tips.groupby(\"smoker\")[\"total_bill\"]\n",
        "tips[\"adj_total_bill\"] = tips[\"total_bill\"] - gb.transform(\"mean\")\n",
        "tips.head(2)"
      ],
      "metadata": {
        "execution": {
          "iopub.status.busy": "2023-08-19T08:20:24.561087Z",
          "iopub.execute_input": "2023-08-19T08:20:24.561436Z",
          "iopub.status.idle": "2023-08-19T08:20:24.586383Z",
          "shell.execute_reply.started": "2023-08-19T08:20:24.561406Z",
          "shell.execute_reply": "2023-08-19T08:20:24.585192Z"
        },
        "trusted": true,
        "id": "JLAG1rPvmAek"
      },
      "execution_count": null,
      "outputs": []
    },
    {
      "cell_type": "code",
      "source": [
        "tips.groupby([\"sex\", \"smoker\"]).first()"
      ],
      "metadata": {
        "execution": {
          "iopub.status.busy": "2023-08-19T08:20:24.587941Z",
          "iopub.execute_input": "2023-08-19T08:20:24.58883Z",
          "iopub.status.idle": "2023-08-19T08:20:24.614977Z",
          "shell.execute_reply.started": "2023-08-19T08:20:24.588788Z",
          "shell.execute_reply": "2023-08-19T08:20:24.614153Z"
        },
        "trusted": true,
        "id": "P180Kr_rmAel"
      },
      "execution_count": null,
      "outputs": []
    },
    {
      "cell_type": "code",
      "source": [
        "url = (\"https://raw.github.com/pandas-dev\"\"/pandas/main/pandas/tests/io/data/csv/tips.csv\")\n",
        "\n",
        "tips = pd.read_csv(url)\n",
        "tips.head(2)"
      ],
      "metadata": {
        "execution": {
          "iopub.status.busy": "2023-08-19T08:20:24.616106Z",
          "iopub.execute_input": "2023-08-19T08:20:24.616695Z",
          "iopub.status.idle": "2023-08-19T08:20:24.717213Z",
          "shell.execute_reply.started": "2023-08-19T08:20:24.616664Z",
          "shell.execute_reply": "2023-08-19T08:20:24.715615Z"
        },
        "trusted": true,
        "id": "VXktf99kmAem"
      },
      "execution_count": null,
      "outputs": []
    },
    {
      "cell_type": "code",
      "source": [
        "\n",
        "tips[tips[\"total_bill\"] > 10]"
      ],
      "metadata": {
        "execution": {
          "iopub.status.busy": "2023-08-19T08:20:24.719158Z",
          "iopub.execute_input": "2023-08-19T08:20:24.71967Z",
          "iopub.status.idle": "2023-08-19T08:20:24.743509Z",
          "shell.execute_reply.started": "2023-08-19T08:20:24.719626Z",
          "shell.execute_reply": "2023-08-19T08:20:24.742365Z"
        },
        "trusted": true,
        "id": "HsNcHNEQmAem"
      },
      "execution_count": null,
      "outputs": []
    },
    {
      "cell_type": "code",
      "source": [
        "tips[[\"sex\", \"total_bill\", \"tip\"]]"
      ],
      "metadata": {
        "execution": {
          "iopub.status.busy": "2023-08-19T08:20:24.745079Z",
          "iopub.execute_input": "2023-08-19T08:20:24.745405Z",
          "iopub.status.idle": "2023-08-19T08:20:24.762413Z",
          "shell.execute_reply.started": "2023-08-19T08:20:24.745376Z",
          "shell.execute_reply": "2023-08-19T08:20:24.76118Z"
        },
        "trusted": true,
        "id": "3MqBhb8jmAen"
      },
      "execution_count": null,
      "outputs": []
    },
    {
      "cell_type": "code",
      "source": [
        "tips = tips.sort_values([\"sex\", \"total_bill\"])\n",
        "tips"
      ],
      "metadata": {
        "execution": {
          "iopub.status.busy": "2023-08-19T08:20:24.763931Z",
          "iopub.execute_input": "2023-08-19T08:20:24.764322Z",
          "iopub.status.idle": "2023-08-19T08:20:24.79091Z",
          "shell.execute_reply.started": "2023-08-19T08:20:24.764282Z",
          "shell.execute_reply": "2023-08-19T08:20:24.789663Z"
        },
        "trusted": true,
        "id": "-rkcIRqDmAep"
      },
      "execution_count": null,
      "outputs": []
    },
    {
      "cell_type": "code",
      "source": [
        "print(tips.iloc[-20:, :12].to_string())"
      ],
      "metadata": {
        "execution": {
          "iopub.status.busy": "2023-08-19T08:20:24.792473Z",
          "iopub.execute_input": "2023-08-19T08:20:24.793191Z",
          "iopub.status.idle": "2023-08-19T08:20:24.806971Z",
          "shell.execute_reply.started": "2023-08-19T08:20:24.793151Z",
          "shell.execute_reply": "2023-08-19T08:20:24.805578Z"
        },
        "trusted": true,
        "id": "jj3MRibYmAep"
      },
      "execution_count": null,
      "outputs": []
    },
    {
      "cell_type": "code",
      "source": [],
      "metadata": {
        "id": "cfoCOv_wmAep"
      },
      "execution_count": null,
      "outputs": []
    }
  ]
}